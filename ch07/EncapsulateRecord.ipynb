{
 "cells": [
  {
   "cell_type": "code",
   "execution_count": 1,
   "metadata": {},
   "outputs": [],
   "source": [
    "organization = {'name': '애미크 구스베리', 'country': 'GB'}"
   ]
  },
  {
   "cell_type": "code",
   "execution_count": 3,
   "metadata": {},
   "outputs": [],
   "source": [
    "class Organization:\n",
    "    def __init__(self, data):\n",
    "        self._name = data['name']\n",
    "        self._country = data['country']\n",
    "        self.name = self._name\n",
    "        self.country = self._country"
   ]
  },
  {
   "cell_type": "markdown",
   "metadata": {},
   "source": [
    "### 대부분의 프로그래밍 언어는 연관된 여러 데이터를 직관적인 방식으로 묶어서 전달하거나 관리할 수 있도록 도와주는 데이터 레코드 구조를 제공한다. 하지만 단순한 레코드, 또한 변할 수 있는 변수와 변하면 안되는 변수를 동시에 담고있는 데이터 레코드 등 변수들의 특징을 명확하게 저장하고자 할때는 한계가 있다. <br> 따라서 가변데이터가 포함되어 있는 데이터 레코드의 경우는 딕셔너리 같이 하나로 표현하는 것 보다, 객체로 선언해서 관리하는 것이 좋다. <br> 또한 변수의 이름이 변경될 때도, 객체로 관리한다면, 지난번 변수명을 메서드 또는 필드로 전달해주도록 레거시 관리도 가능하다. <br>  딕셔너리같은 해쉬맵은 가지고 있는 필드를 명확하게 알려주지 않는 단점이 존재한다. 해쉬맵 구조체를 적게 사용한다면 상관없지만 많이 사용한다면 객체로 리팩터링 해서 사용하면 코드의 명확성이 확대된다."
   ]
  },
  {
   "cell_type": "markdown",
   "metadata": {},
   "source": [
    "## 절차\n",
    "\n",
    "### 1. 레코드를 담은 변수를 캡슐화 한다.<br>\n",
    "\n",
    "### 2. 레코드를 감싼 단순한 클래스로 해당 변수의 내용을 교체한다. 이 클래스에 원본 레코드를 반환하는 접근자도 정의하고, 변수를 캡슐화하는 함수들이 이 접근자를 사용하도록 수정한다. <br>\n",
    "\n",
    "### 3. 테스트한다. <br>\n",
    "\n",
    "### 4. 원본 레코드 대신 새로 정의한 클래스 타입의 객체를 반환하는 함수들을 새로 만든다. <br>\n",
    "\n",
    "### 5. 레코드를 반환하는 예전 함수를 사용하는 코드를 절차 4에서 만든 새 함수를 사용하도록 바꾸고, 필드에 접근할 때는 객체의 접근자를 사용하여 접근하도록 한다. 적절한 접근자가 없다면 추가한다. 한 부분을 바꿀 때마다 테스트한다. <br>\n",
    "\n",
    "### 6. 클래스에서 원본 데이터를 반환하는 접근자와 원본 레코드를 반환하는 함수들을 제거한다. <br>\n",
    "\n",
    "### 7. 테스트 한다. <br>\n",
    "\n",
    "### 8. 레코드의 필드도 데이터 구조인 중첩 구조라면 레코드 캡슐화하기와 컬렉션 캡슐화하기를 재귀적으로 적용한다. <br>\n",
    "\n"
   ]
  },
  {
   "cell_type": "markdown",
   "metadata": {},
   "source": [
    "# Example"
   ]
  },
  {
   "cell_type": "code",
   "execution_count": 18,
   "metadata": {},
   "outputs": [],
   "source": [
    "organization = {'name': '애크미 구스베리', 'country': 'GB'}"
   ]
  },
  {
   "cell_type": "code",
   "execution_count": 19,
   "metadata": {},
   "outputs": [],
   "source": [
    "result = ''\n",
    "newName = '구스다운 애레브'"
   ]
  },
  {
   "cell_type": "code",
   "execution_count": 14,
   "metadata": {},
   "outputs": [],
   "source": [
    "result += f'<h1>{organization[\"name\"]}</h1>'\n",
    "organization['name'] = newName"
   ]
  },
  {
   "cell_type": "code",
   "execution_count": 20,
   "metadata": {},
   "outputs": [],
   "source": [
    "def getRawDataOfOrganization():\n",
    "    return organization"
   ]
  },
  {
   "cell_type": "code",
   "execution_count": 21,
   "metadata": {},
   "outputs": [],
   "source": [
    "result += f'<h1>{getRawDataOfOrganization()[\"name\"]}</h1>'\n",
    "getRawDataOfOrganization()['name'] = newName"
   ]
  },
  {
   "cell_type": "code",
   "execution_count": 22,
   "metadata": {},
   "outputs": [
    {
     "data": {
      "text/plain": [
       "{'name': '구스다운 애레브', 'country': 'GB'}"
      ]
     },
     "execution_count": 22,
     "metadata": {},
     "output_type": "execute_result"
    }
   ],
   "source": [
    "organization"
   ]
  },
  {
   "cell_type": "code",
   "execution_count": 23,
   "metadata": {},
   "outputs": [],
   "source": [
    "class Organization:\n",
    "    def __init__(self, data):\n",
    "        self._data = data"
   ]
  },
  {
   "cell_type": "code",
   "execution_count": 25,
   "metadata": {},
   "outputs": [],
   "source": [
    "organization = Organization(organization)\n",
    "def getRawDataOfOrganization():\n",
    "    return organization._data\n",
    "def getOrganization():\n",
    "    return organization"
   ]
  },
  {
   "cell_type": "code",
   "execution_count": 33,
   "metadata": {},
   "outputs": [],
   "source": [
    "class Organization:\n",
    "    def __init__(self, data):\n",
    "        self._data = data\n",
    "        self.name = self._data['name']\n",
    "        "
   ]
  },
  {
   "cell_type": "code",
   "execution_count": 36,
   "metadata": {},
   "outputs": [
    {
     "name": "stdout",
     "output_type": "stream",
     "text": [
      "<h1>애크미 구스베리</h1>\n"
     ]
    }
   ],
   "source": [
    "result = ''\n",
    "data = {'name': '애크미 구스베리', 'country': 'GB'}\n",
    "organization = Organization(data)\n",
    "def getOrganization():\n",
    "    return organization\n",
    "result += f'<h1>{getOrganization().name}</h1>'\n",
    "print(result)"
   ]
  },
  {
   "cell_type": "code",
   "execution_count": 37,
   "metadata": {},
   "outputs": [],
   "source": [
    "class Organization:\n",
    "    def __init__(self, data):\n",
    "        self._data = data\n",
    "        self.name = self._data['name']\n",
    "        self.country = self._data['country']"
   ]
  },
  {
   "cell_type": "code",
   "execution_count": null,
   "metadata": {},
   "outputs": [],
   "source": []
  }
 ],
 "metadata": {
  "kernelspec": {
   "display_name": "Python 3",
   "language": "python",
   "name": "python3"
  },
  "language_info": {
   "codemirror_mode": {
    "name": "ipython",
    "version": 3
   },
   "file_extension": ".py",
   "mimetype": "text/x-python",
   "name": "python",
   "nbconvert_exporter": "python",
   "pygments_lexer": "ipython3",
   "version": "3.6.5"
  }
 },
 "nbformat": 4,
 "nbformat_minor": 2
}
