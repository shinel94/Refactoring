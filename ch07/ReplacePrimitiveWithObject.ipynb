{
 "cells": [
  {
   "cell_type": "markdown",
   "metadata": {},
   "source": [
    "### 프로젝트 초기나 코드 개발 초기에는 단순한 정보를 숫자나 문자열 같은 간단한 데이터 항목으로 표현할 때가 많다. <br> 개발이 진행이 계속되면 간단하여 쉽게 관리할 수 있던 정보나 간단한 데이터들이 더 이상 간단해지지 않아지게 된다.  <br> 따라서 단순한 출력 이상의 기능이 필요해지는 그 순간 그 데이터를 표현하는 전용 클래스를 정의하는 것이 좋다. <br> 그렇게 해두면 추후에도 해당 값에 대해서 또다른 처리가 필요할 때 클래스에 메서드만 추가하여서 해당 기능을 쉽게 구현할 수 있다."
   ]
  },
  {
   "cell_type": "markdown",
   "metadata": {},
   "source": [
    "## 절차\n",
    "\n",
    "### 1. 변수를 우선 캡슐화 한다.<br>\n",
    "\n",
    "### 2. 단순한 값 클래스를 만들어 값을 관리하게 한다. <br>\n",
    "\n",
    "### 3. 정적 검사를 수행한다. <br>\n",
    "\n",
    "### 4. 값 클래스의 인스턴스를 새로 만들어서 필드에 저장하도록 캡슐화 한 곳의 세터를 수정한다. <br>\n",
    "\n",
    "### 5. 새로 만든 클래스의 게터를 호출한 결과를 반환하도록 캡슐화 한 곳의 게터를 수정한다. <br>\n",
    "\n",
    "### 6. 테스트 한다 <br>\n",
    "\n",
    "### 7. 함수 이름을 행동에 대해서 보다 명확하게 이해할 수 있도록 변경한다. <br>\n"
   ]
  },
  {
   "cell_type": "markdown",
   "metadata": {},
   "source": [
    "# Example"
   ]
  },
  {
   "cell_type": "code",
   "execution_count": 7,
   "metadata": {},
   "outputs": [],
   "source": [
    "class Order:\n",
    "    def __init__(self, data):\n",
    "        self.__priority = data.priority\n",
    "    \n",
    "    @property\n",
    "    def priority(self):\n",
    "        return self.__priority\n",
    "    \n",
    "    def setpriority(self, priority):\n",
    "        self.__priority = priority"
   ]
  },
  {
   "cell_type": "code",
   "execution_count": 8,
   "metadata": {},
   "outputs": [],
   "source": [
    "class Data:\n",
    "    def __init__(self):\n",
    "        self.priority = 10"
   ]
  },
  {
   "cell_type": "code",
   "execution_count": 9,
   "metadata": {},
   "outputs": [],
   "source": [
    "order = Order(Data())"
   ]
  },
  {
   "cell_type": "code",
   "execution_count": 10,
   "metadata": {},
   "outputs": [
    {
     "data": {
      "text/plain": [
       "10"
      ]
     },
     "execution_count": 10,
     "metadata": {},
     "output_type": "execute_result"
    }
   ],
   "source": [
    "order.priority"
   ]
  },
  {
   "cell_type": "code",
   "execution_count": 12,
   "metadata": {},
   "outputs": [],
   "source": [
    "order.setpriority(30)"
   ]
  },
  {
   "cell_type": "code",
   "execution_count": 13,
   "metadata": {},
   "outputs": [
    {
     "data": {
      "text/plain": [
       "30"
      ]
     },
     "execution_count": 13,
     "metadata": {},
     "output_type": "execute_result"
    }
   ],
   "source": [
    "order.priority"
   ]
  },
  {
   "cell_type": "code",
   "execution_count": 28,
   "metadata": {},
   "outputs": [],
   "source": [
    "class Priority:\n",
    "    def __init__(self, value):\n",
    "        self.__value = value\n",
    "    def toString(self):\n",
    "        return f'{self.__value}'\n",
    "    def __call__(self):\n",
    "        return self.__value\n",
    "    def __repr__(self):\n",
    "        return f'{self.__value}'"
   ]
  },
  {
   "cell_type": "code",
   "execution_count": 33,
   "metadata": {},
   "outputs": [],
   "source": [
    "class Order:\n",
    "    def __init__(self, data):\n",
    "        self.__priority = Priority(data.priority)\n",
    "    \n",
    "    @property\n",
    "    def priority(self):\n",
    "        return self.__priority\n",
    "    \n",
    "    def setpriority(self, priority):\n",
    "        self.__priority = Priority(priority)\n",
    "        \n",
    "    def priorityString(self):\n",
    "        return self.__priority.toString()"
   ]
  },
  {
   "cell_type": "code",
   "execution_count": 34,
   "metadata": {},
   "outputs": [],
   "source": [
    "order = Order(Data())"
   ]
  },
  {
   "cell_type": "code",
   "execution_count": 35,
   "metadata": {},
   "outputs": [],
   "source": [
    "order.setpriority(30)"
   ]
  },
  {
   "cell_type": "code",
   "execution_count": 36,
   "metadata": {},
   "outputs": [
    {
     "data": {
      "text/plain": [
       "30"
      ]
     },
     "execution_count": 36,
     "metadata": {},
     "output_type": "execute_result"
    }
   ],
   "source": [
    "order.priority"
   ]
  },
  {
   "cell_type": "code",
   "execution_count": 37,
   "metadata": {},
   "outputs": [
    {
     "data": {
      "text/plain": [
       "'30'"
      ]
     },
     "execution_count": 37,
     "metadata": {},
     "output_type": "execute_result"
    }
   ],
   "source": [
    "order.priorityString()"
   ]
  }
 ],
 "metadata": {
  "kernelspec": {
   "display_name": "Python 3",
   "language": "python",
   "name": "python3"
  },
  "language_info": {
   "codemirror_mode": {
    "name": "ipython",
    "version": 3
   },
   "file_extension": ".py",
   "mimetype": "text/x-python",
   "name": "python",
   "nbconvert_exporter": "python",
   "pygments_lexer": "ipython3",
   "version": "3.6.5"
  }
 },
 "nbformat": 4,
 "nbformat_minor": 2
}
