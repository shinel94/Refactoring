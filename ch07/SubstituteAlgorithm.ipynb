{
 "cells": [
  {
   "cell_type": "code",
   "execution_count": 1,
   "metadata": {},
   "outputs": [],
   "source": [
    "def foundPerson(peoples):\n",
    "    for people in peoples:\n",
    "        if people =='Don':\n",
    "            return 'Don'\n",
    "        elif people == 'John':\n",
    "            return 'John'\n",
    "        elif people == 'Kent':\n",
    "            return 'Kent'\n",
    "    return ''"
   ]
  },
  {
   "cell_type": "code",
   "execution_count": 2,
   "metadata": {},
   "outputs": [],
   "source": [
    "def foundPerson(peoples):\n",
    "    for people in peoples:\n",
    "        if people in ['Don', 'John' 'Kent']:\n",
    "            return people\n",
    "    return ''"
   ]
  },
  {
   "cell_type": "markdown",
   "metadata": {},
   "source": [
    "### 함수의 목적을 표현하는 방법은 한가지만 존재하는 것이 아니다. 따라서 이미 구현된 방법보다 명확하고 이해하기 쉽게 구현된 코드가 있다면, 복잡한 기존 코드를 유지하지 말고 과감하게 새로 작성한 코드를 적용하는 것이 좋다. <br> 어떤 경우에는 코드 전체를 변경해야 할 경우가 있더라도, 보다 명확한 코드가 나중의 나에게 더욱 도움이 될 것이기 때문이다.<br> 이를 위해서는 우선 함수나 메서드들이 기능별로 가능한 작은 크기로 나누어 졌는지 확인 해야 코드를 수정하는 작업에서 생기는 실수를 줄일 수 있고, 코드를 고치는 난이도도 더욱 내려간다."
   ]
  },
  {
   "cell_type": "markdown",
   "metadata": {},
   "source": [
    "## 절차\n",
    "\n",
    "### 1. 교체할 코드를 함수 하나에 모은다.<br>\n",
    "\n",
    "### 2. 이 함수만을 이용해 동작을 검증하는 테스트케이스를 작성한다. <br>\n",
    "\n",
    "### 3. 대체할 알고리즘을 준비 또는 구현한다. <br>\n",
    "\n",
    "### 4. 정적검사를 수행한다. <br>\n",
    "\n",
    "### 5. 기존 알고리즘과 새 알고리즘의 결과를 비교하는 테스트를 수행한다. 두 결과가 같다면, 새로운 코드로 변경하고 그렇지 않다면 기존 알고리즘을 참고해서 새로 작성한 / 변경된 알고리즘을 디버깅 한다. <br>\n",
    "\n"
   ]
  }
 ],
 "metadata": {
  "kernelspec": {
   "display_name": "Python 3",
   "language": "python",
   "name": "python3"
  },
  "language_info": {
   "codemirror_mode": {
    "name": "ipython",
    "version": 3
   },
   "file_extension": ".py",
   "mimetype": "text/x-python",
   "name": "python",
   "nbconvert_exporter": "python",
   "pygments_lexer": "ipython3",
   "version": "3.6.5"
  }
 },
 "nbformat": 4,
 "nbformat_minor": 2
}
