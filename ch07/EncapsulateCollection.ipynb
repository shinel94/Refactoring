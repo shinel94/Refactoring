{
 "cells": [
  {
   "cell_type": "code",
   "execution_count": 1,
   "metadata": {},
   "outputs": [],
   "source": [
    "class Person:\n",
    "    def __init__(self):\n",
    "        self.course = []"
   ]
  },
  {
   "cell_type": "code",
   "execution_count": 2,
   "metadata": {},
   "outputs": [],
   "source": [
    "class Person:\n",
    "    def __init__(self):\n",
    "        self.course = []\n",
    "    def addCourse(self, aCourse):\n",
    "        self.course.append(aCourse)\n",
    "    def removeCourse(aCourse):\n",
    "        self.course.remove(aCourse)"
   ]
  },
  {
   "cell_type": "markdown",
   "metadata": {},
   "source": [
    "### 가변데이터는 가능한한 캡술화하여서, 데이터의 오염을 최소화해야한다. <br>  이렇게 하면 데이터가 변경 / 갱신되는 지점을 파악하기가 더 쉽고, 명확하게 할 수 있다. <br> 특히 객체의 필드가 컬렉션과 같은 경우 게터를 통해서 해당 컬렉션을 얻어서 내부의 값이 변경되면 객체 내의 컬렉션에도 변경이 될 수 있기 때문에, 세심한 관리가 필요하다. <br> 따라서 이러한 컬렉션을 필드로 가지는 객체는 객체 내무에 add와 remove라는 이름을 가지는 메서드를 구현해두는 것이 좋다. 컬렉션을 수정할때는 객체를 통해서만 수정이 되도록 해야한다.  <br>  가장 안전한 방법은 해당 컬렉션을 한번에 반환 되지 않도록 객체를 구성하는 것이다. <br> 하지만 컬렉션을 반환하게 될때는 해당 컬렉션 객체가 가지고 있는 메서드를 사용할 수  있는 장점이 있기 때문에, 적절하게 관리되도록 해야 한다.  <br>  또한 코드 내에서는 컬렉션을 반환하여 관리하도록 하거나 또는 컬렉션에 접근을 원천적으로 금지하거나 하나의 방식으로 통일해서 작성해야한다."
   ]
  },
  {
   "cell_type": "markdown",
   "metadata": {},
   "source": [
    "## 절차\n",
    "\n",
    "### 1. 변수 캡슐화하기를 통해서 컬렉션을 캡슐화 한다.<br>\n",
    "\n",
    "### 2. 컬렉션에 원소를 추가/제거/갱신하는 함수를 추가한다. <br>\n",
    "\n",
    "### 3. 정적 검사를 수행한다. <br>\n",
    "\n",
    "### 4. 컬렉션을 참조하는 부분을 모두 찾는다. 컬렉션의 변경자를 호출하는 코드가 모두 앞에서 추가한 추가/제거/갱신 함수를 호출하도록 수정한다. 하나씩 수정될 때마다 테스트 한다. <br>\n",
    "\n",
    "### 5. 컬렉션 게터를 수정해서 원본 내용을 수정할 수 없는 읽기전용 프락시나 복제본을 반환하게 한다. <br>\n",
    "\n",
    "### 6. 테스트 한다 <br>\n"
   ]
  },
  {
   "cell_type": "markdown",
   "metadata": {},
   "source": [
    "# Example"
   ]
  },
  {
   "cell_type": "code",
   "execution_count": 8,
   "metadata": {},
   "outputs": [],
   "source": [
    "class Person:\n",
    "    def __init__(self, name):\n",
    "        self._name = name\n",
    "        self.name = self._name\n",
    "        self._course = []\n",
    "        self.course = self._course\n",
    "class Course:\n",
    "    def __init__(self, name, isAdvanced):\n",
    "        self._name = name\n",
    "        self.name = self._name\n",
    "        self._isAdvanced = isAdvanced\n",
    "        self.isAdvanced = self._isAdvanced"
   ]
  },
  {
   "cell_type": "code",
   "execution_count": 9,
   "metadata": {},
   "outputs": [],
   "source": [
    "aPerson = Person('홍길동')\n",
    "course_1 = Course('도둑학', False)\n",
    "course_2 = Course('호부호학', False)\n",
    "course_3 = Course('형호형학', True)\n",
    "course_4 = Course('도술', True)\n"
   ]
  },
  {
   "cell_type": "code",
   "execution_count": 10,
   "metadata": {},
   "outputs": [],
   "source": [
    "aPerson.course.append(course_1)\n",
    "aPerson.course.append(course_2)\n",
    "aPerson.course.append(course_3)\n",
    "aPerson.course.append(course_4)"
   ]
  },
  {
   "cell_type": "code",
   "execution_count": 11,
   "metadata": {},
   "outputs": [],
   "source": [
    "numAdvancedCourse = len([x for x in aPerson.course if x.isAdvanced])"
   ]
  },
  {
   "cell_type": "code",
   "execution_count": 12,
   "metadata": {},
   "outputs": [
    {
     "data": {
      "text/plain": [
       "2"
      ]
     },
     "execution_count": 12,
     "metadata": {},
     "output_type": "execute_result"
    }
   ],
   "source": [
    "numAdvancedCourse"
   ]
  },
  {
   "cell_type": "code",
   "execution_count": 40,
   "metadata": {},
   "outputs": [],
   "source": [
    "class Person:\n",
    "    def __init__(self, name):\n",
    "        self._name = name\n",
    "        self.name = self._name\n",
    "        self.__course = []\n",
    "        self.numAdvancedCourse = self.__numAdvancedCourse()\n",
    "        self.numAdvancedCourseMethod = self.__numAdvancedCourse\n",
    "        \n",
    "    @property\n",
    "    def course(self):\n",
    "        return self.__course\n",
    "    \n",
    "    def addCourse(self, aCourse):\n",
    "        self.__course.append(aCourse)\n",
    "        self.numAdvancedCourse = self.__numAdvancedCourse()\n",
    "        \n",
    "    def removeCourse(self, aCourse):\n",
    "        self.__course.remove(aCourse)\n",
    "        self.numAdvancedCourse = self.__numAdvancedCourse()\n",
    "        \n",
    "    def __numAdvancedCourse(self):\n",
    "        return len([x for x in self.course if x.isAdvanced])\n",
    "        "
   ]
  },
  {
   "cell_type": "code",
   "execution_count": 41,
   "metadata": {},
   "outputs": [],
   "source": [
    "aPerson = Person('홍길동')\n",
    "course_1 = Course('도둑학', False)\n",
    "course_2 = Course('호부호학', False)\n",
    "course_3 = Course('형호형학', True)\n",
    "course_4 = Course('도술', True)\n"
   ]
  },
  {
   "cell_type": "code",
   "execution_count": 42,
   "metadata": {},
   "outputs": [
    {
     "data": {
      "text/plain": [
       "2"
      ]
     },
     "execution_count": 42,
     "metadata": {},
     "output_type": "execute_result"
    }
   ],
   "source": [
    "aPerson.addCourse(course_1)\n",
    "aPerson.addCourse(course_2)\n",
    "aPerson.addCourse(course_3)\n",
    "aPerson.addCourse(course_4)\n",
    "aPerson.numAdvancedCourse"
   ]
  },
  {
   "cell_type": "code",
   "execution_count": 43,
   "metadata": {},
   "outputs": [
    {
     "data": {
      "text/plain": [
       "2"
      ]
     },
     "execution_count": 43,
     "metadata": {},
     "output_type": "execute_result"
    }
   ],
   "source": [
    "aPerson.numAdvancedCourseMethod()"
   ]
  },
  {
   "cell_type": "code",
   "execution_count": null,
   "metadata": {},
   "outputs": [],
   "source": []
  }
 ],
 "metadata": {
  "kernelspec": {
   "display_name": "Python 3",
   "language": "python",
   "name": "python3"
  },
  "language_info": {
   "codemirror_mode": {
    "name": "ipython",
    "version": 3
   },
   "file_extension": ".py",
   "mimetype": "text/x-python",
   "name": "python",
   "nbconvert_exporter": "python",
   "pygments_lexer": "ipython3",
   "version": "3.6.5"
  }
 },
 "nbformat": 4,
 "nbformat_minor": 2
}
