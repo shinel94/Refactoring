{
 "cells": [
  {
   "cell_type": "markdown",
   "metadata": {},
   "source": [
    "### 위임 숨기기의 반대 리팩터링인 중개자 제거하기는 위임 메서드들을 계속해서 구현을 하다보면, <br> 코드의 가독성과 참조 관계들이 얽히게 되면서, 오히려 스파케티 코드가 될 가능성이 높아진다.  <br> 또한 하나의 클래스가 단지 다른 클래스들의 중개자 역할을 하게 되는 경우가 발생하게 되는데,  <br>  이런 경우 중개자 제거하기를 통해서 불필요한 객체를 제거하여  <br>  코드를 보다 명확하게 관리할 수 있다."
   ]
  },
  {
   "cell_type": "markdown",
   "metadata": {},
   "source": [
    "## 절차\n",
    "\n",
    "### 1. 위임 객체를 얻는 게터를 만든다.<br>\n",
    "\n",
    "### 2. 위임 메서드를 호출하는 클라이언트가 모두 이 게터를 거치도록 수정한고, 바뀔때 마다 테스트 한다. <br>\n",
    "\n",
    "### 3. 모두 수정했다면 위임 메서드를 삭제한다. <br>"
   ]
  },
  {
   "cell_type": "code",
   "execution_count": 9,
   "metadata": {},
   "outputs": [],
   "source": [
    "class Person:\n",
    "    def __init__(self, name, department):\n",
    "        self.__name = name\n",
    "        self.__department = department\n",
    "    \n",
    "    @property\n",
    "    def name(self):\n",
    "        return self.__name\n",
    "    \n",
    "    @property\n",
    "    def department(self):\n",
    "        return self.__department\n",
    "    \n",
    "    @property\n",
    "    def manager(self):\n",
    "        return self.__department.manager"
   ]
  },
  {
   "cell_type": "code",
   "execution_count": 10,
   "metadata": {},
   "outputs": [],
   "source": [
    "class Department:\n",
    "    def __init__(self, chargeCode, manager):\n",
    "        self.__chargeCode = chargeCode\n",
    "        self.__manager = manager\n",
    "    \n",
    "    @property\n",
    "    def chargeCode(self):\n",
    "        return self.__chargeCode\n",
    "    \n",
    "    @property\n",
    "    def manager(self):\n",
    "        return self.__manager\n",
    "    "
   ]
  },
  {
   "cell_type": "code",
   "execution_count": 11,
   "metadata": {},
   "outputs": [
    {
     "name": "stdout",
     "output_type": "stream",
     "text": [
      "홍길동\n"
     ]
    }
   ],
   "source": [
    "department = Department(1577, '홍길동')\n",
    "person = Person(name='김똘똘', department=department)\n",
    "print(person.manager)"
   ]
  },
  {
   "cell_type": "code",
   "execution_count": 12,
   "metadata": {},
   "outputs": [],
   "source": [
    "class Person:\n",
    "    def __init__(self, name, department):\n",
    "        self.__name = name\n",
    "        self.__department = department\n",
    "    \n",
    "    @property\n",
    "    def name(self):\n",
    "        return self.__name\n",
    "    \n",
    "    @property\n",
    "    def department(self):\n",
    "        return self.__department"
   ]
  },
  {
   "cell_type": "code",
   "execution_count": 13,
   "metadata": {},
   "outputs": [
    {
     "name": "stdout",
     "output_type": "stream",
     "text": [
      "홍길동\n"
     ]
    }
   ],
   "source": [
    "department = Department(1577, '홍길동')\n",
    "person = Person(name='김똘똘', department=department)\n",
    "print(person.department.manager)"
   ]
  }
 ],
 "metadata": {
  "kernelspec": {
   "display_name": "Python 3",
   "language": "python",
   "name": "python3"
  },
  "language_info": {
   "codemirror_mode": {
    "name": "ipython",
    "version": 3
   },
   "file_extension": ".py",
   "mimetype": "text/x-python",
   "name": "python",
   "nbconvert_exporter": "python",
   "pygments_lexer": "ipython3",
   "version": "3.6.5"
  }
 },
 "nbformat": 4,
 "nbformat_minor": 2
}
