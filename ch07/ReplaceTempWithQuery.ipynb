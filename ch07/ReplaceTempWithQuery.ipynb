{
 "cells": [
  {
   "cell_type": "code",
   "execution_count": 10,
   "metadata": {},
   "outputs": [],
   "source": [
    "class Item:\n",
    "    def __init__(self, quantity, price):\n",
    "        self.__quantity = quantity\n",
    "        self.__itemPrice = price\n",
    "    @property\n",
    "    def basePrice(self):\n",
    "        return self.__quantity * self.__itemPrice\n",
    "    \n",
    "    @property\n",
    "    def totalPrice(self):\n",
    "        if self.basePrice > 1000:\n",
    "            return self.basePrice*0.95\n",
    "        else:\n",
    "            return self.basePrice*0.98"
   ]
  },
  {
   "cell_type": "code",
   "execution_count": 11,
   "metadata": {},
   "outputs": [
    {
     "name": "stdout",
     "output_type": "stream",
     "text": [
      "2850.0\n",
      "490.0\n"
     ]
    }
   ],
   "source": [
    "data = Item(30, 100)\n",
    "print(data.totalPrice)\n",
    "data = Item(5, 100)\n",
    "print(data.totalPrice)"
   ]
  },
  {
   "cell_type": "markdown",
   "metadata": {},
   "source": [
    "### 함수 안에서 어떤 코드의 결괏값을 뒤에서 다시 참조할 목적으로 임시 변수 / 일회용 변수를 사용할 때가 많다.  <br> 일회용 변수를 사용하면 값을 계산하는 코드가 반복되는 걸 줄이고 값의 의미를 설명할 수 있어서 더 유용하다.  <br> 하지만 여기서 한걸음 더 나아가서 해당 변수를 계산해주는 코드를 함수로 만들어서 사용하는 것이 더 명확할 수 도 있다. <br> 또한 똑같은 방식으로 계산되는 변수를 발견했을 때는 함수로 변경해 두는 것이 좋다. <br>  특히 이 리팩터링은 클래스 내에서 적용되면 매개변수를 효과적으로 줄이면서, 변수의 관계, 데이터 흐름 등을 보다 명확하게 파악할 수 있게 해준다. <br> 특히 임시 변수의 경우는 한번 계산이 된 뒤에는 더이상 갱신되어서는 안되기 때문에, 함수로 추출해서 사용하면, 항상 같은 값을 기대할 수 있다.  <br>  하지만 값이 중간에 변화하거나 스냅숏 용도로 사용되는 임시 변수의 경우에는 갱신이 이뤄지기 때문에 질의함수로 추출하면 안된다."
   ]
  },
  {
   "cell_type": "markdown",
   "metadata": {},
   "source": [
    "## 절차\n",
    "\n",
    "### 1. 변수가 사용되기 전에 값이 확실히 결정되는지, 변수를 사용할 때마다 계산 로직이 매번 다른 결과를 내지는 않는지 확인한다.<br>\n",
    "\n",
    "### 2. 읽기전용으로 만들 수 있는 변수는 읽기전용으로 만든다. <br>\n",
    "\n",
    "### 3. 테스트 한다. <br>\n",
    "\n",
    "### 4. 변수 대입문을 함수로 추출한다. <br>\n",
    "\n",
    "### 5. 테스트 한다. <br>\n",
    "\n",
    "### 6. 변수 인라인하기로 임시 변수를 제거한다. <br>"
   ]
  },
  {
   "cell_type": "code",
   "execution_count": 29,
   "metadata": {},
   "outputs": [],
   "source": [
    "class Order:\n",
    "    def __init__(self, quantity, item):\n",
    "        self.__quantity = quantity\n",
    "        self.__item = item\n",
    "    \n",
    "    @property\n",
    "    def price(self):\n",
    "        basePrice = self.__quantity * self.__item\n",
    "        discountFactor = 0.98\n",
    "        if basePrice > 1000:\n",
    "            discountFactor -= 0.03\n",
    "        return int(basePrice * discountFactor)\n",
    "        \n",
    "        "
   ]
  },
  {
   "cell_type": "code",
   "execution_count": 30,
   "metadata": {},
   "outputs": [],
   "source": [
    "order = Order(30, 100)"
   ]
  },
  {
   "cell_type": "code",
   "execution_count": 31,
   "metadata": {},
   "outputs": [
    {
     "data": {
      "text/plain": [
       "2850"
      ]
     },
     "execution_count": 31,
     "metadata": {},
     "output_type": "execute_result"
    }
   ],
   "source": [
    "order.price"
   ]
  },
  {
   "cell_type": "code",
   "execution_count": 32,
   "metadata": {},
   "outputs": [],
   "source": [
    "class Order:\n",
    "    def __init__(self, quantity, item):\n",
    "        self.__quantity = quantity\n",
    "        self.__item = item\n",
    "    @property\n",
    "    def basePrice(self):\n",
    "        return self.__quantity * self.__item\n",
    "    @property\n",
    "    def price(self):\n",
    "        discountFactor = 0.98\n",
    "        if self.basePrice > 1000:\n",
    "            discountFactor -= 0.03\n",
    "        return int(self.basePrice * discountFactor)"
   ]
  },
  {
   "cell_type": "code",
   "execution_count": 33,
   "metadata": {},
   "outputs": [
    {
     "name": "stdout",
     "output_type": "stream",
     "text": [
      "2850\n"
     ]
    }
   ],
   "source": [
    "order = Order(30, 100)\n",
    "print(order.price)"
   ]
  },
  {
   "cell_type": "code",
   "execution_count": 40,
   "metadata": {},
   "outputs": [],
   "source": [
    "class Order:\n",
    "    def __init__(self, quantity, item):\n",
    "        self.__quantity = quantity\n",
    "        self.__item = item\n",
    "    @property\n",
    "    def basePrice(self):\n",
    "        return self.__quantity * self.__item\n",
    "    @property\n",
    "    def discountFactor(self):\n",
    "        if self.basePrice > 1000:\n",
    "            return 0.95\n",
    "        else:\n",
    "            return 0.98\n",
    "    @property\n",
    "    def price(self):\n",
    "        return int(self.basePrice * self.discountFactor)"
   ]
  },
  {
   "cell_type": "code",
   "execution_count": 41,
   "metadata": {},
   "outputs": [
    {
     "name": "stdout",
     "output_type": "stream",
     "text": [
      "2850\n"
     ]
    }
   ],
   "source": [
    "order = Order(30, 100)\n",
    "print(order.price)"
   ]
  }
 ],
 "metadata": {
  "kernelspec": {
   "display_name": "Python 3",
   "language": "python",
   "name": "python3"
  },
  "language_info": {
   "codemirror_mode": {
    "name": "ipython",
    "version": 3
   },
   "file_extension": ".py",
   "mimetype": "text/x-python",
   "name": "python",
   "nbconvert_exporter": "python",
   "pygments_lexer": "ipython3",
   "version": "3.6.5"
  }
 },
 "nbformat": 4,
 "nbformat_minor": 2
}
