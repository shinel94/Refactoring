{
 "cells": [
  {
   "cell_type": "markdown",
   "metadata": {},
   "source": [
    "### 클래스는 반드시 명확하게 추상화하고 소수의 주어진 역할, 명확한 책임에 대한 행동만 처리하도록 만들어야한다. <br> 하지만 프로젝트를 진행하는 동안에 기존 클래스를 굳이 쪼개지 않고, 새로운 역할을 추가할 때가 많은데, 코드가 길어질 수록 단일 클래스에 역할이 많아지고 비대해지면서 클래스의 목적이 명확해 지지 않는 경우가 많다. <br> 따라서 메서드와 필드들이 너무 많은 객체는 적절하게 분리하는 것이 좋다. <br> 특히 일부 메서드와 일부 필드들을 다른 클래스로 묶을 수 있다면, 바로 분리하는 것이 좋다. <br> 함께 변경되는 경우가 많거나 서로 의존성을 가진 필드들도 따로 분리한다. <br>  또한 필드나 메서드를 제거 했을때 다른 필드나 메서드에 영향을 주지 않는다면 해당 필드나 메서드는 분리하는 것이 좋다. <br> "
   ]
  },
  {
   "cell_type": "markdown",
   "metadata": {},
   "source": [
    "## 절차\n",
    "\n",
    "### 1. 클래스의 역할을 분리할 방법을 정한다.<br>\n",
    "\n",
    "### 2. 분리될 역할을 담당할 클래스를 새로 만든다. <br>\n",
    "\n",
    "### 3. 원래 클래스의 생성자에서 새로운 클래스의 인스턴스를 생성하여 필드에 저장해둔다. <br>\n",
    "\n",
    "### 4. 분리될 역할에 필요한 필드들을 새 클래스로 옮긴다. 하나씩 옮겨 질때마다 테스트를 진행한다. <br>\n",
    "\n",
    "### 5.메서드들도 새 클래스로 옮긴다. 이때 저수준 메서드(다른 고수준 메서드에서 호출이 많이 되는 메서드) 부터 옮긴다. <br>\n",
    "\n",
    "### 6. 양쪽 클래스의 인터페이스를 살펴보면서 불필요한 메서드를 제거하고 이름도 새롭게 명명한다. <br>\n",
    "\n",
    "### 7. 새 클래스를 외부로 노출할지 정한다. 노출할 때는 새 클래스에 참조를 값으로 바꾸기를 적용할지 고민해 본다. <br>\n",
    "\n"
   ]
  },
  {
   "cell_type": "markdown",
   "metadata": {},
   "source": [
    "# Example"
   ]
  },
  {
   "cell_type": "code",
   "execution_count": 1,
   "metadata": {},
   "outputs": [],
   "source": [
    "class Person:\n",
    "    def __init__(self, name, off_area_code, off_number):\n",
    "        self.__name = name\n",
    "        self.__officeAreaCode = off_area_code\n",
    "        self.__officeNumber = off_number\n",
    "    @property\n",
    "    def name(self):\n",
    "        return self.__name\n",
    "    @property\n",
    "    def officeAreaCode(self):\n",
    "        return self.__officeAreaCode\n",
    "    @property\n",
    "    def officeNumber(self):\n",
    "        return self.__officeNumber\n",
    "    @property\n",
    "    def telephoneNumber(self):\n",
    "        return f'({self.__officeAreaCode}) {self.__officeNumber}'"
   ]
  },
  {
   "cell_type": "code",
   "execution_count": 2,
   "metadata": {},
   "outputs": [],
   "source": [
    "person = Person('홍길동', '02', '811-2506')"
   ]
  },
  {
   "cell_type": "code",
   "execution_count": 3,
   "metadata": {},
   "outputs": [
    {
     "data": {
      "text/plain": [
       "'(02) 811-2506'"
      ]
     },
     "execution_count": 3,
     "metadata": {},
     "output_type": "execute_result"
    }
   ],
   "source": [
    "person.telephoneNumber"
   ]
  },
  {
   "cell_type": "code",
   "execution_count": 4,
   "metadata": {},
   "outputs": [],
   "source": [
    "class Person:\n",
    "    def __init__(self, name, telephonenumber):\n",
    "        self.__name = name\n",
    "        self.__telephoneNumber = telephonenumber\n",
    "    @property\n",
    "    def name(self):\n",
    "        return self.__name\n",
    "    @property\n",
    "    def officeAreaCode(self):\n",
    "        return self.__telephoneNumber.AreaCode\n",
    "    @property\n",
    "    def officeNumber(self):\n",
    "        return self.__telephoneNumber.Number\n",
    "    @property\n",
    "    def telephoneNumber(self):\n",
    "        return self.__telephoneNumber.TelephoneNumber\n",
    "    \n",
    "class TelephoneNumber:\n",
    "    def __init__(self, areacode, number):\n",
    "        self.__AreaCode = areacode\n",
    "        self.__Number = number\n",
    "    @property\n",
    "    def AreaCode(self):\n",
    "        return self.__AreaCode\n",
    "    @property\n",
    "    def Number(self):\n",
    "        return self.__Number\n",
    "    @property\n",
    "    def TelephoneNumber(self):\n",
    "        return f'({self.__AreaCode}) {self.__Number}'"
   ]
  },
  {
   "cell_type": "code",
   "execution_count": 5,
   "metadata": {},
   "outputs": [
    {
     "name": "stdout",
     "output_type": "stream",
     "text": [
      "(02) 811-2506\n"
     ]
    }
   ],
   "source": [
    "telephone = TelephoneNumber('02', '811-2506')\n",
    "person = Person('홍길동', telephone)\n",
    "print(person.telephoneNumber)"
   ]
  }
 ],
 "metadata": {
  "kernelspec": {
   "display_name": "Python 3",
   "language": "python",
   "name": "python3"
  },
  "language_info": {
   "codemirror_mode": {
    "name": "ipython",
    "version": 3
   },
   "file_extension": ".py",
   "mimetype": "text/x-python",
   "name": "python",
   "nbconvert_exporter": "python",
   "pygments_lexer": "ipython3",
   "version": "3.6.5"
  }
 },
 "nbformat": 4,
 "nbformat_minor": 2
}
