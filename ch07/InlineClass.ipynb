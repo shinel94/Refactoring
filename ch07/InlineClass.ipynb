{
 "cells": [
  {
   "cell_type": "markdown",
   "metadata": {},
   "source": [
    "### 클래스 인라인하기는 클래스 추출하기를 거꾸로 돌리는 리팩터링으로, 더이상 클래스로 존재할 이유가 없는 객체들을 인라인하여,  <br>  코드를 보다 명확하게 유지 관리한다. 상황에 따라 ㅎ한 컨텍스트의 요소들을 다른 쪽으로 하나씩 옮기는 게 쉬울 수 있고  <br>  인라인 리팩터링으로 하나로 합친 후 추출하기 리팩터링으로 분리하는게 쉬울 수 도 있다."
   ]
  },
  {
   "cell_type": "markdown",
   "metadata": {},
   "source": [
    "## 절차\n",
    "\n",
    "### 1. 소스 클래스의 각 메서드에 대응하는 매서드들을 타깃 클래스에 생성한다. 이 메서드들은 단순한 작업을 소스 클래스로 위임해야 한다.<br>\n",
    "\n",
    "### 2. 소스 클래스의 메서드를 사용하는 코드를 모두 타깃 클래스의 위임 메서드를 사용하도록 수정한다. 바뀔때 마다 테스트 한다. <br>\n",
    "\n",
    "### 3. 소스 클래스의 메서드와 필드를 모두 타킷 클래스로 옮기고 옮겨질때 마다 테스트 한다. <br>\n",
    "\n",
    "### 4. 소스 클래스를 삭제하고 x를 눌러준다. <br>"
   ]
  },
  {
   "cell_type": "markdown",
   "metadata": {},
   "source": [
    "# Example"
   ]
  },
  {
   "cell_type": "code",
   "execution_count": 1,
   "metadata": {},
   "outputs": [],
   "source": [
    "class TrackingInformation:\n",
    "    def __init__(self, shipping_comp, trackingNum):\n",
    "        self.__shippingCompany = shipping_comp\n",
    "        self.__trackingNumber = trackingNum\n",
    "        \n",
    "    @property\n",
    "    def shippingCompany(self):\n",
    "        return self.__shippingCompany\n",
    "    \n",
    "    @property\n",
    "    def trakingNumber(self):\n",
    "        return self.__trackingNumber\n",
    "    \n",
    "    def display(self):\n",
    "        return f'{self.__shippingCompany}: {self.__trackingNumber}'"
   ]
  },
  {
   "cell_type": "code",
   "execution_count": 6,
   "metadata": {},
   "outputs": [],
   "source": [
    "class Shipment:\n",
    "    def __init__(self, tracking_info):\n",
    "        self.__trackingInformation = tracking_info\n",
    "        \n",
    "    @property\n",
    "    def trackingInformation(self):\n",
    "        return self.__trackingInformation\n",
    "    \n",
    "    @property\n",
    "    def trackingInfo(self):\n",
    "        return self.__trackingInformation.display()\n",
    "        "
   ]
  },
  {
   "cell_type": "code",
   "execution_count": 7,
   "metadata": {},
   "outputs": [],
   "source": [
    "trackinginfo = TrackingInformation('DIT', 3579)"
   ]
  },
  {
   "cell_type": "code",
   "execution_count": 8,
   "metadata": {},
   "outputs": [],
   "source": [
    "shipment = Shipment(trackinginfo)"
   ]
  },
  {
   "cell_type": "code",
   "execution_count": 9,
   "metadata": {},
   "outputs": [
    {
     "data": {
      "text/plain": [
       "'DIT: 3579'"
      ]
     },
     "execution_count": 9,
     "metadata": {},
     "output_type": "execute_result"
    }
   ],
   "source": [
    "shipment.trackingInfo"
   ]
  },
  {
   "cell_type": "code",
   "execution_count": 10,
   "metadata": {},
   "outputs": [],
   "source": [
    "class Shipment:\n",
    "    def __init__(self, tracking_info):\n",
    "        self.__trackingInformation = tracking_info\n",
    "        \n",
    "    @property\n",
    "    def trackingInformation(self):\n",
    "        return self.__trackingInformation\n",
    "    \n",
    "    @property\n",
    "    def trackingInfo(self):\n",
    "        return self.__trackingInformation.display()\n",
    "    \n",
    "    @property\n",
    "    def shippingCompany(self):\n",
    "        self.__trackingInformation.shippingCompany\n",
    "    \n",
    "    @property\n",
    "    def trackingNumber(self):\n",
    "        self.__trackingInformation.trackingNumber"
   ]
  },
  {
   "cell_type": "code",
   "execution_count": null,
   "metadata": {},
   "outputs": [],
   "source": [
    "class Shipment:\n",
    "    def __init__(self, shipping_comp, trackingNum):\n",
    "        self.__trackingInformation = tracking_info\n",
    "        \n",
    "    @property\n",
    "    def trackingInformation(self):\n",
    "        return self.__trackingInformation\n",
    "    \n",
    "    @property\n",
    "    def trackingInfo(self):\n",
    "        return self.__trackingInformation.display()\n",
    "    \n",
    "    @property\n",
    "    def shippingCompany(self):\n",
    "        self.__trackingInformation.shippingCompany\n",
    "    \n",
    "    @property\n",
    "    def trackingNumber(self):\n",
    "        self.__trackingInformation.trackingNumber"
   ]
  }
 ],
 "metadata": {
  "kernelspec": {
   "display_name": "Python 3",
   "language": "python",
   "name": "python3"
  },
  "language_info": {
   "codemirror_mode": {
    "name": "ipython",
    "version": 3
   },
   "file_extension": ".py",
   "mimetype": "text/x-python",
   "name": "python",
   "nbconvert_exporter": "python",
   "pygments_lexer": "ipython3",
   "version": "3.6.5"
  }
 },
 "nbformat": 4,
 "nbformat_minor": 2
}
