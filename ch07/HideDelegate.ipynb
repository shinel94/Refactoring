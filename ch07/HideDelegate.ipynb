{
 "cells": [
  {
   "cell_type": "markdown",
   "metadata": {},
   "source": [
    "### 모듈화 설계의 핵심은 캡슐화다. 캡슐화는 모듈들이 시스템 내에서 작동할때, <br> 다른 부분에 대해서 몰라도 코드 흐름을 이해하는데 도움을 준다.  <br> 또한, 코드가 변경될때 역시 다른 모듈에 영향을 주지 않기 때문에 변경도 더욱 쉬워진다.  <br> 하나의 클래스안에 다른 클래스의 변수를 직접 호출하는 코드가 있는 경우 하나의 클래스에 다른 클래스의 변수를 호출해주는 메서드를 구현함으로써 위임을 숨길 수 있다. <br>  해당 방식으로 위임을 하나의 클래스에게 책임을 지음으로 써, 추후 다른 클래스가 변경되거나 또는 코드가 변경 될 때 보다 쉽게 변경을 할 수 있게 된다."
   ]
  },
  {
   "cell_type": "markdown",
   "metadata": {},
   "source": [
    "## 절차\n",
    "\n",
    "### 1. 위임 객체의 각 메서드에 해당하는 위임 메서드를 서버에 생성한다.<br>\n",
    "\n",
    "### 2. 클라이언트가 위임 객체 대신 서버를 호출하도록 수정한다. 하나씩 바꿀 때마다 테스트한다. <br>\n",
    "\n",
    "### 3. 모두 수정했다면, 서버로부터 위임 객체를 얻는 접근자를 제거하고 메서드로 변경한다. <br>\n",
    "\n",
    "### 4. 테스트한다. <br>\n"
   ]
  },
  {
   "cell_type": "markdown",
   "metadata": {},
   "source": [
    "# Example"
   ]
  },
  {
   "cell_type": "code",
   "execution_count": 3,
   "metadata": {},
   "outputs": [],
   "source": [
    "class Person:\n",
    "    def __init__(self, name, department):\n",
    "        self.__name = name\n",
    "        self.__department = department\n",
    "    \n",
    "    @property\n",
    "    def name(self):\n",
    "        return self.__name\n",
    "    \n",
    "    @property\n",
    "    def department(self):\n",
    "        return self.__department\n",
    "    \n",
    "class Department:\n",
    "    def __init__(self, chargeCode, manager):\n",
    "        self.__chargeCode = chargeCode\n",
    "        self.__manager = manager\n",
    "    \n",
    "    @property\n",
    "    def chargeCode(self):\n",
    "        return self.__chargeCode\n",
    "    \n",
    "    @property\n",
    "    def manager(self):\n",
    "        return self.__manager\n",
    "    "
   ]
  },
  {
   "cell_type": "code",
   "execution_count": 4,
   "metadata": {},
   "outputs": [
    {
     "name": "stdout",
     "output_type": "stream",
     "text": [
      "홍길동\n"
     ]
    }
   ],
   "source": [
    "department = Department(1577, '홍길동')\n",
    "person = Person(name='김똘똘', department=department)\n",
    "print(person.department.manager)"
   ]
  },
  {
   "cell_type": "code",
   "execution_count": 5,
   "metadata": {},
   "outputs": [],
   "source": [
    "class Person:\n",
    "    def __init__(self, name, department):\n",
    "        self.__name = name\n",
    "        self.__department = department\n",
    "    \n",
    "    @property\n",
    "    def name(self):\n",
    "        return self.__name\n",
    "    \n",
    "    @property\n",
    "    def department(self):\n",
    "        return self.__department\n",
    "    \n",
    "    @property\n",
    "    def manager(self):\n",
    "        return self.__department.manager"
   ]
  },
  {
   "cell_type": "code",
   "execution_count": 6,
   "metadata": {},
   "outputs": [
    {
     "name": "stdout",
     "output_type": "stream",
     "text": [
      "홍길동\n"
     ]
    }
   ],
   "source": [
    "department = Department(1577, '홍길동')\n",
    "person = Person(name='김똘똘', department=department)\n",
    "print(person.manager)"
   ]
  }
 ],
 "metadata": {
  "kernelspec": {
   "display_name": "Python 3",
   "language": "python",
   "name": "python3"
  },
  "language_info": {
   "codemirror_mode": {
    "name": "ipython",
    "version": 3
   },
   "file_extension": ".py",
   "mimetype": "text/x-python",
   "name": "python",
   "nbconvert_exporter": "python",
   "pygments_lexer": "ipython3",
   "version": "3.6.5"
  }
 },
 "nbformat": 4,
 "nbformat_minor": 2
}
