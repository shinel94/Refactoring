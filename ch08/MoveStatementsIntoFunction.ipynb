{
 "cells": [
  {
   "cell_type": "code",
   "execution_count": 3,
   "metadata": {},
   "outputs": [
    {
     "name": "stdout",
     "output_type": "stream",
     "text": [
      "['<p>제목: 승리호</p>', '<p>위치: Kor</p>', '<p>날짜: 2020-09-10</p>']\n"
     ]
    }
   ],
   "source": [
    "class Person:\n",
    "    def __init__(self, photo):\n",
    "        self.__photo = photo\n",
    "    @property\n",
    "    def photo(self):\n",
    "        return self.__photo\n",
    "class Photh:\n",
    "    def __init__(self, title, location, date):\n",
    "        self.__title = title\n",
    "        self.__location = location\n",
    "        self.__date = date\n",
    "        \n",
    "    @property\n",
    "    def title(self):\n",
    "        return self.__title\n",
    "    \n",
    "    @property\n",
    "    def location(self):\n",
    "        return self.__location\n",
    "    \n",
    "    @property\n",
    "    def date(self):\n",
    "        return self.__date\n",
    "\n",
    "photo = Photh('승리호', 'Kor', '2020-09-10')\n",
    "person = Person(photo)\n",
    "    \n",
    "result = []\n",
    "result.append(f'<p>제목: {person.photo.title}</p>')\n",
    "def photoData(aPhoto):\n",
    "    return [\n",
    "        f'<p>위치: {aPhoto.location}</p>',\n",
    "        f'<p>날짜: {aPhoto.date}</p>',\n",
    "    ]\n",
    "\n",
    "result.extend(photoData(person.photo))\n",
    "print(result)"
   ]
  },
  {
   "cell_type": "code",
   "execution_count": 5,
   "metadata": {},
   "outputs": [
    {
     "name": "stdout",
     "output_type": "stream",
     "text": [
      "['<p>제목: 승리호</p>', '<p>위치: Kor</p>', '<p>날짜: 2020-09-10</p>']\n"
     ]
    }
   ],
   "source": [
    "class Person:\n",
    "    def __init__(self, photo):\n",
    "        self.__photo = photo\n",
    "    @property\n",
    "    def photo(self):\n",
    "        return self.__photo\n",
    "class Photh:\n",
    "    def __init__(self, title, location, date):\n",
    "        self.__title = title\n",
    "        self.__location = location\n",
    "        self.__date = date\n",
    "        \n",
    "    @property\n",
    "    def title(self):\n",
    "        return self.__title\n",
    "    \n",
    "    @property\n",
    "    def location(self):\n",
    "        return self.__location\n",
    "    \n",
    "    @property\n",
    "    def date(self):\n",
    "        return self.__date\n",
    "\n",
    "photo = Photh('승리호', 'Kor', '2020-09-10')\n",
    "person = Person(photo)\n",
    "    \n",
    "result = []\n",
    "def photoData(aPhoto):\n",
    "    return [\n",
    "        f'<p>제목: {photo.title}</p>',\n",
    "        f'<p>위치: {aPhoto.location}</p>',\n",
    "        f'<p>날짜: {aPhoto.date}</p>',\n",
    "    ]\n",
    "\n",
    "result.extend(photoData(person.photo))\n",
    "print(result)"
   ]
  },
  {
   "cell_type": "markdown",
   "metadata": {},
   "source": [
    "### 코드에 존재하는 중복은 코드를 건강하게 관리하기 위해서는 반드시 최소화 해야한다. 예를들어 특정 함수를 호출하는 코드가 나올때 마다, <br> 그 앞이나 뒤에서 같은 전처리와 후처리가 적용된다면,  <br> 해당 과정들은 특정 함수 안에 들어가는 것이 더욱 좋다. <br> 이렇게 되면 추후 반복해서 사용되었던 전처리와 후처리에 수정이 필요할 때 모든 부분을 하나씩 찾아가서 고칠 필요가 없어지고 관리도 더욱 쉬워진다. <br>  허나 하나로 합쳐질 때는 전처리 또는 후처리 코드가 반드시 함수와 함께 호출되어야 추후에 문제가 없어진다."
   ]
  },
  {
   "cell_type": "markdown",
   "metadata": {},
   "source": [
    "## 절차\n",
    "\n",
    "### 1. 반복 코드가 함수 호출 부분과 멀리 떨어져 있다면, 문장 슬라이드하기를 적용해서 코드 근처로 옮긴다.<br>\n",
    "\n",
    "### 2. 타깃 함수를 호출하는 곳이 한 곳뿐이면, 단순히 소스 위치에서 해당 코드를 잘라내어 피호출 함수로 복사하고 테스트한다. <br>\n",
    "\n",
    "### 3. 호출자가 둘 이상이면 호출자 중 하나에서 타깃 함수 호출 부분과 그 함수로 옮기려는 문장들을 함께, 다른 함수로 추출한다. 추출한 함수에 기억하기 쉬운 임시 이름일 지어둔다. <br>\n",
    "\n",
    "### 4. 다른 호출자 모두가 방금 추출한 함수를 사용하도록 수정한다. 하나씩 수정할 때마다 테스트한다. <br>\n",
    "\n",
    "### 5.모든 호출자가 새로운 함수를 사용하게 되면 우너래 함수를 새로운 함수 안으로 인라인한 후 우너래 함수를 제거한다. <br>\n",
    "\n",
    "### 6. 새로운 함수의 이름을 원래 함수의 이름으로 바꿔준다. <br>"
   ]
  },
  {
   "cell_type": "code",
   "execution_count": 9,
   "metadata": {},
   "outputs": [],
   "source": [
    "def renderPerson(outStream, person):\n",
    "    result = []\n",
    "    result.append(f'<p>{person.name}</p>')\n",
    "    result.extend(renderPhoto(person.photo))\n",
    "    result.append(f'<p>제목: {person.photo.title}</p>')\n",
    "    result.append(emiPhtoData(person.photo))\n",
    "    return result.join('\\n')\n",
    "\n",
    "def photoDiv(p):\n",
    "    return [\n",
    "        \"<div>\",\n",
    "        f\"<p>제목: {p.title}</p>\",\n",
    "        *emitPhotoData(p),\n",
    "        \"</div>\"\n",
    "    ].join('\\n')\n",
    "\n",
    "def emitPhotoData(aPhoto):\n",
    "    result = []\n",
    "    result.append(f'<p>위치: {aPhoto.location}</p>')\n",
    "    result.append(f'<p>날짜: {aPhoto.date}</p>')\n",
    "    return result.joint('\\n')"
   ]
  },
  {
   "cell_type": "code",
   "execution_count": 10,
   "metadata": {},
   "outputs": [],
   "source": [
    "def renderPerson(outStream, person):\n",
    "    result = []\n",
    "    result.append(f'<p>{person.name}</p>')\n",
    "    result.extend(renderPhoto(person.photo))\n",
    "    result.append(zznew(person.photo))\n",
    "    return result.join('\\n')\n",
    "\n",
    "def photoDiv(p):\n",
    "    return [\n",
    "        \"<div>\",\n",
    "        zznew(p),\n",
    "        \"</div>\"\n",
    "    ].join('\\n')\n",
    "\n",
    "def emitPhotoData(aPhoto):\n",
    "    result = []\n",
    "    result.append(f'<p>위치: {aPhoto.location}</p>')\n",
    "    result.append(f'<p>날짜: {aPhoto.date}</p>')\n",
    "    return result.joint('\\n')\n",
    "\n",
    "def zznew(p):\n",
    "    return [\n",
    "        f\"<p>제목: {p.title}</p>\",\n",
    "        emitPhotoData(p),\n",
    "    ].join('\\n')"
   ]
  },
  {
   "cell_type": "code",
   "execution_count": 11,
   "metadata": {},
   "outputs": [],
   "source": [
    "def renderPerson(outStream, person):\n",
    "    result = []\n",
    "    result.append(f'<p>{person.name}</p>')\n",
    "    result.extend(renderPhoto(person.photo))\n",
    "    result.append(emitPhotoData(person.photo))\n",
    "    return result.join('\\n')\n",
    "\n",
    "def photoDiv(p):\n",
    "    return [\n",
    "        \"<div>\",\n",
    "        emitPhotoData(p),\n",
    "        \"</div>\"\n",
    "    ].join('\\n')\n",
    "\n",
    "\n",
    "def emitPhotoData(p):\n",
    "    return [\n",
    "        f\"<p>제목: {p.title}</p>\",\n",
    "        f'<p>위치: {aPhoto.location}</p>',\n",
    "        f'<p>날짜: {aPhoto.date}</p>'\n",
    "    ].join('\\n')"
   ]
  }
 ],
 "metadata": {
  "kernelspec": {
   "display_name": "Python 3",
   "language": "python",
   "name": "python3"
  },
  "language_info": {
   "codemirror_mode": {
    "name": "ipython",
    "version": 3
   },
   "file_extension": ".py",
   "mimetype": "text/x-python",
   "name": "python",
   "nbconvert_exporter": "python",
   "pygments_lexer": "ipython3",
   "version": "3.6.5"
  }
 },
 "nbformat": 4,
 "nbformat_minor": 2
}
