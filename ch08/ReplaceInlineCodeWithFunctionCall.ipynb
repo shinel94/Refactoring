{
 "cells": [
  {
   "cell_type": "code",
   "execution_count": 2,
   "metadata": {},
   "outputs": [
    {
     "name": "stdout",
     "output_type": "stream",
     "text": [
      "True\n"
     ]
    }
   ],
   "source": [
    "states = ['NY', 'MA']\n",
    "appliesToMass = False\n",
    "for s in states:\n",
    "    if s == \"MA\":\n",
    "        appliesToMass = True\n",
    "        \n",
    "print(appliesToMass)"
   ]
  },
  {
   "cell_type": "code",
   "execution_count": 6,
   "metadata": {},
   "outputs": [
    {
     "name": "stdout",
     "output_type": "stream",
     "text": [
      "True\n"
     ]
    }
   ],
   "source": [
    "appliesToMass=False\n",
    "appliesToMass = 'MA' in states\n",
    "print(appliesToMass)"
   ]
  },
  {
   "cell_type": "markdown",
   "metadata": {},
   "source": [
    "### 함수는 여러 동작을 하나로 묶어준다. 그리고 함수의 이름이 코드의 동작 방식보다는 코드가 수행하는 일, <br> 코드의 목적을 말해주기 때문에, 함수를 활용하여 코드를 작성하면,  <br> 추후에 코드를 읽을 때 보다 쉽게 이해할 수 있게 된다. 또한 변수와 달리 함수는 중복하여 선언하는 실수를 줄여주는데 효과적이다.  <br> 또한 동일한 기능을 요구하는 곳에서 코드를 복사해서 붙여넣기 보다는, 함수로 작성하여, 함수를 반복 호출하는 것이 코드 관리 및 사용에 더욱 효율적이다.<br> 이때 함수의 입출력에는 가능하면 변화가 되면 안되고, 변화가 있을시 프로젝트내 모든 호출되는 지점을 찾아서 고쳐주어야 한다. <br> 또한 이때 인라인되어있는 코드와 같은 기능을 하는 함수가 있을 수 있는데, <br> 이때 함수의 이름을 인라인 코드자리에 넣고,  <br> 문맥상 이상이 없을때에만, 그대로 함수 호출로 변경한다. 이상한점이 느껴진다면, 함수 이름을 변경하거나 인라인 코드를 변경할 수 없다. <br> "
   ]
  },
  {
   "cell_type": "markdown",
   "metadata": {},
   "source": [
    "## 절차\n",
    "\n",
    "### 1. 인라인 코드를 함수 호출로 대체한다.<br>\n",
    "\n",
    "### 2. 테스트 한다. <br>"
   ]
  },
  {
   "cell_type": "code",
   "execution_count": null,
   "metadata": {},
   "outputs": [],
   "source": []
  }
 ],
 "metadata": {
  "kernelspec": {
   "display_name": "Python 3",
   "language": "python",
   "name": "python3"
  },
  "language_info": {
   "codemirror_mode": {
    "name": "ipython",
    "version": 3
   },
   "file_extension": ".py",
   "mimetype": "text/x-python",
   "name": "python",
   "nbconvert_exporter": "python",
   "pygments_lexer": "ipython3",
   "version": "3.6.5"
  }
 },
 "nbformat": 4,
 "nbformat_minor": 2
}
