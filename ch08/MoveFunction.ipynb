{
 "cells": [
  {
   "cell_type": "markdown",
   "metadata": {},
   "source": [
    "### 좋은 소프트웨어 설계의 핵심은 모듈간 의존성이 낮게 설계되었는지와 모듈성이 얼마나 높은지이다. <br> 모듈성이란 프로그램의 어딘가를 수정하려 할 때, 해당 기능과 깊이 관련된 일부분만 이해하고도 기능을 추가하거나 변경할 수 있게 해주는 능력이다.  <br> 모듈성을 높이려면 서로 연관된 요소들을 함께 묶고, 요소 사이의 연결 관계를 쉽게 찾고 이해할 수 있도록 해야한다. <br> 따라서 프로그램의 이해도가 높아질 수 록 소프트웨어 요소들을 잘 묶게 될 수 있다. <br> 데이터는 메서드나 함수를 통해서 변형되고 결과가 계산된다. 이때 해당 메서드가 정의 되어있는 클래스보다 다른 클래스의 요소들을 더 많이 참조하고 있다면, 해당 메서드는 다른 클래스로 옮겨주는것이 더 바람직하다. <br> 옮겨지지 않으면 메서드가 정의된 기본 클래스와 다른 클래스간 결합도가 높다는 것이기 때문에, 모듈성이 낮아지게 된다. <br> "
   ]
  },
  {
   "cell_type": "markdown",
   "metadata": {},
   "source": [
    "## 절차\n",
    "\n",
    "### 1. 선택한 함수가 현재 컨텍스트에서 사용 중인 모든 프로그램 요소를 살펴본다. 이 요소들중 함께 옮겨야 할 것이 있는지도 확인해야하며, 특히 엵혀있는 함수가 많은 것은 얽혀있는 것을 해결하고 옮기는 것이 좋다.<br>\n",
    "\n",
    "### 2. 선택한 함수가 다형 메서드인지 확인한다. 슈퍼클래스나 서브클래스에 정의된 메서드인 경우 옮길때 주의한다. <br>\n",
    "\n",
    "### 3. 선택한 함수를 타깃 컨텍스트로 복사하고, 타깃 컨텍스트에 잘 녹아나도록 코드를 작성한다. <br>\n",
    "\n",
    "### 4. 정적 분석을 수행한다. <br>\n",
    "\n",
    "### 5. 소스 컨텍스트에서 타깃 함수를 참조할 수 있도록 반영한다. <br>\n",
    "\n",
    "### 6. 소스 함수를 타깃 함수의 위임 함수가 되도록 수정한다. <br>\n",
    "\n",
    "### 7. 테스트한다. <br>\n",
    "\n",
    "### 8. 소스 함수를 인라인 할지 고민한다. <br>\n"
   ]
  },
  {
   "cell_type": "code",
   "execution_count": 1,
   "metadata": {},
   "outputs": [],
   "source": [
    "def trackSummary(points):\n",
    "    def calculateDistance():\n",
    "        result = 0\n",
    "        for point_idx in range(len(points) - 1):\n",
    "            result += distance(points[point_idx], points[point_idx+1])\n",
    "        return result\n",
    "    def distance(a, b):\n",
    "        return ((a-b)**2)**0.5\n",
    "    def radians(degrees):\n",
    "        return 3.141592 * degrees/180\n",
    "    def calculateTime():\n",
    "        return len(points)\n",
    "    \n",
    "    totalTime = calculateTime()\n",
    "    totalDistance = calculateDistance()\n",
    "    pace = totalTime / 60 / totalDistance\n",
    "    return {'time' : totalTime, 'distance': totalDistance, 'pace': pace}"
   ]
  },
  {
   "cell_type": "code",
   "execution_count": 2,
   "metadata": {},
   "outputs": [
    {
     "data": {
      "text/plain": [
       "{'time': 12, 'distance': 14.0, 'pace': 0.014285714285714287}"
      ]
     },
     "execution_count": 2,
     "metadata": {},
     "output_type": "execute_result"
    }
   ],
   "source": [
    "trackSummary([0,1,3,4,5,6,7,8,9,11,13,14])"
   ]
  },
  {
   "cell_type": "code",
   "execution_count": 11,
   "metadata": {},
   "outputs": [],
   "source": [
    "def top_calculateDistance(points):\n",
    "    def distance(a, b):\n",
    "        return ((a-b)**2)**0.5\n",
    "    result = 0\n",
    "    for point_idx in range(len(points) - 1):\n",
    "        result += distance(points[point_idx], points[point_idx+1])\n",
    "    return result\n",
    "\n",
    "def trackSummary(points):\n",
    "    def calculateDistance():\n",
    "        return top_calculateDistance(points)\n",
    "    def radians(degrees):\n",
    "        return 3.141592 * degrees/180\n",
    "    def calculateTime():\n",
    "        return len(points)\n",
    "    \n",
    "    totalTime = calculateTime()\n",
    "    totalDistance = calculateDistance()\n",
    "    pace = totalTime / 60 / totalDistance\n",
    "    return {'time' : totalTime, 'distance': totalDistance, 'pace': pace}"
   ]
  },
  {
   "cell_type": "code",
   "execution_count": 12,
   "metadata": {},
   "outputs": [
    {
     "data": {
      "text/plain": [
       "{'time': 12, 'distance': 14.0, 'pace': 0.014285714285714287}"
      ]
     },
     "execution_count": 12,
     "metadata": {},
     "output_type": "execute_result"
    }
   ],
   "source": [
    "trackSummary([0,1,3,4,5,6,7,8,9,11,13,14])"
   ]
  },
  {
   "cell_type": "code",
   "execution_count": 13,
   "metadata": {},
   "outputs": [],
   "source": [
    "def top_calculateDistance(points):\n",
    "    def distance(a, b):\n",
    "        return ((a-b)**2)**0.5\n",
    "    result = 0\n",
    "    for point_idx in range(len(points) - 1):\n",
    "        result += distance(points[point_idx], points[point_idx+1])\n",
    "    return result\n",
    "\n",
    "def trackSummary(points):\n",
    "    def radians(degrees):\n",
    "        return 3.141592 * degrees/180\n",
    "    def calculateTime():\n",
    "        return len(points)\n",
    "    \n",
    "    totalTime = calculateTime()\n",
    "    totalDistance = top_calculateDistance(points)\n",
    "    pace = totalTime / 60 / totalDistance\n",
    "    return {'time' : totalTime, 'distance': totalDistance, 'pace': pace}"
   ]
  },
  {
   "cell_type": "code",
   "execution_count": 14,
   "metadata": {},
   "outputs": [
    {
     "data": {
      "text/plain": [
       "{'time': 12, 'distance': 14.0, 'pace': 0.014285714285714287}"
      ]
     },
     "execution_count": 14,
     "metadata": {},
     "output_type": "execute_result"
    }
   ],
   "source": [
    "trackSummary([0,1,3,4,5,6,7,8,9,11,13,14])"
   ]
  },
  {
   "cell_type": "code",
   "execution_count": 17,
   "metadata": {},
   "outputs": [],
   "source": [
    "def top_calculateDistance(points):\n",
    "    def distance(a, b):\n",
    "        return ((a-b)**2)**0.5\n",
    "    result = 0\n",
    "    for point_idx in range(len(points) - 1):\n",
    "        result += distance(points[point_idx], points[point_idx+1])\n",
    "    return result\n",
    "\n",
    "def trackSummary(points):\n",
    "    def radians(degrees):\n",
    "        return 3.141592 * degrees/180\n",
    "    def calculateTime():\n",
    "        return len(points)\n",
    "    totalTime = calculateTime()\n",
    "    pace = totalTime / 60 / top_calculateDistance(points)\n",
    "    return {'time' : totalTime, 'distance': top_calculateDistance(points), 'pace': pace}"
   ]
  },
  {
   "cell_type": "code",
   "execution_count": 18,
   "metadata": {},
   "outputs": [
    {
     "data": {
      "text/plain": [
       "{'time': 12, 'distance': 14.0, 'pace': 0.014285714285714287}"
      ]
     },
     "execution_count": 18,
     "metadata": {},
     "output_type": "execute_result"
    }
   ],
   "source": [
    "trackSummary([0,1,3,4,5,6,7,8,9,11,13,14])"
   ]
  },
  {
   "cell_type": "code",
   "execution_count": 21,
   "metadata": {},
   "outputs": [],
   "source": [
    "def distance(a, b):\n",
    "    return ((a-b)**2)**0.5\n",
    "def radians(degrees):\n",
    "    return 3.141592 * degrees/180\n",
    "def top_calculateDistance(points):\n",
    "\n",
    "    result = 0\n",
    "    for point_idx in range(len(points) - 1):\n",
    "        result += distance(points[point_idx], points[point_idx+1])\n",
    "    return result\n",
    "def calculateTime(points):\n",
    "    return len(points)\n",
    "def trackSummary(points):\n",
    "    return {'time' : calculateTime(points), 'distance': top_calculateDistance(points), 'pace': calculateTime(points) / 60 / top_calculateDistance(points)}"
   ]
  },
  {
   "cell_type": "code",
   "execution_count": 22,
   "metadata": {},
   "outputs": [
    {
     "data": {
      "text/plain": [
       "{'time': 12, 'distance': 14.0, 'pace': 0.014285714285714287}"
      ]
     },
     "execution_count": 22,
     "metadata": {},
     "output_type": "execute_result"
    }
   ],
   "source": [
    "trackSummary([0,1,3,4,5,6,7,8,9,11,13,14])"
   ]
  },
  {
   "cell_type": "code",
   "execution_count": null,
   "metadata": {},
   "outputs": [],
   "source": []
  }
 ],
 "metadata": {
  "kernelspec": {
   "display_name": "Python 3",
   "language": "python",
   "name": "python3"
  },
  "language_info": {
   "codemirror_mode": {
    "name": "ipython",
    "version": 3
   },
   "file_extension": ".py",
   "mimetype": "text/x-python",
   "name": "python",
   "nbconvert_exporter": "python",
   "pygments_lexer": "ipython3",
   "version": "3.6.5"
  }
 },
 "nbformat": 4,
 "nbformat_minor": 2
}
