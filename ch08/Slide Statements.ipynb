{
 "cells": [
  {
   "cell_type": "code",
   "execution_count": 1,
   "metadata": {},
   "outputs": [],
   "source": [
    "class retrievePricingPlan:\n",
    "    def __init__(self):\n",
    "        self.unit = None\n",
    "class retreiveOrder:\n",
    "    def __init__(self):\n",
    "        pass"
   ]
  },
  {
   "cell_type": "code",
   "execution_count": 2,
   "metadata": {},
   "outputs": [],
   "source": [
    "pricingPlan = retrievePricingPlan()\n",
    "order = retreiveOrder()\n",
    "charge = None\n",
    "chargePerUni = pricingPlan.unit"
   ]
  },
  {
   "cell_type": "code",
   "execution_count": 3,
   "metadata": {},
   "outputs": [],
   "source": [
    "pricingPlan = retrievePricingPlan()\n",
    "chargePerUni = pricingPlan.unit\n",
    "order = retreiveOrder()\n",
    "charge = None"
   ]
  },
  {
   "cell_type": "markdown",
   "metadata": {},
   "source": [
    "### 서로 유사한 일을 하거나, 또는 특정 관련이 있는 코드들은 한곳에 가까이 모여 있는 것이 이해하는데 좋다. <br> 하나의 데이터 구조를 이용하는 문장은 한곳에 모여있는 것이 좋다. <br> 관련 코드끼리 모으는 작업은 보통 다른 리팩터링의 선수 작업으로서, <br>  리팩터링 시작할 때 코드를 명확하게 이해하는데 도움을 받기 위해서 진행한다. <br> 함수 추출하기나, 클래스 추출하기를 적용하려면, 관련이 있는 코드들이 한곳에 모여있어야, 추출에 수행될 코드를 파악하기가 쉽다. <br> \n",
    "### 슬라이스를 할때에는 두 가지, 무엇을 술라이드할지와 슬라이드할 수 있는지 여부를 먼저 확인해야 한다."
   ]
  },
  {
   "cell_type": "markdown",
   "metadata": {},
   "source": [
    "## 절차\n",
    "\n",
    "### 1. 코드 조각을 이동할 목표 위치를 찾는다. 코드 조각의 원래 위치와 목표 위치 사이의 코드들을 훑어보면서, 조각을 모으고 나면 동작이 달라지는 코드가 있는지 확인한다.<br>\n",
    "\n",
    "### 2. 하기의 상황이 생기면 리팩터링을 포기한다. <br>\n",
    "#### 2.1. 코드 조각에서 참조하는 요소를 선언하는 문자 앞으로는 이동할 수 없다. <br> \n",
    "#### 2.2. 코드 조각을 참조하는 요소의 뒤로는 이동할 수 없다. <br> \n",
    "#### 2.3. 코드 조각에서 참조하는 요소를 수정하는 문장을 건너뛰어 이동할 수 없다. <br> \n",
    "#### 2.4. 코드 조각이 수정하는 요소를 참조하는 요소를 건너뛰어 이동할 수 없다. <br> \n",
    "\n",
    "### 3. 코드 조각을 원래 위치에서 잘라내어 목표 위치에 붙여 넣는다. <br>\n",
    "\n",
    "### 4. 테스트한다. <br>\n"
   ]
  },
  {
   "cell_type": "markdown",
   "metadata": {},
   "source": [
    "# Example"
   ]
  },
  {
   "cell_type": "code",
   "execution_count": 4,
   "metadata": {},
   "outputs": [],
   "source": [
    "def createResource():\n",
    "    return None"
   ]
  },
  {
   "cell_type": "code",
   "execution_count": 5,
   "metadata": {},
   "outputs": [
    {
     "name": "stdout",
     "output_type": "stream",
     "text": [
      "None\n"
     ]
    }
   ],
   "source": [
    "result = None\n",
    "availableResources = []\n",
    "allocatedResources = []\n",
    "if len(availableResources) == 0:\n",
    "    result = createResource()\n",
    "    allocatedResources.append(result)\n",
    "else:\n",
    "    result = availableResources.pop()\n",
    "    allocatedResources.append(result)\n",
    "print(result)"
   ]
  },
  {
   "cell_type": "code",
   "execution_count": 6,
   "metadata": {},
   "outputs": [
    {
     "name": "stdout",
     "output_type": "stream",
     "text": [
      "2\n"
     ]
    }
   ],
   "source": [
    "result = None\n",
    "availableResources = [1,2]\n",
    "allocatedResources = []\n",
    "if len(availableResources) == 0:\n",
    "    result = createResource()\n",
    "    allocatedResources.append(result)\n",
    "else:\n",
    "    result = availableResources.pop()\n",
    "    allocatedResources.append(result)\n",
    "print(result)"
   ]
  },
  {
   "cell_type": "code",
   "execution_count": 7,
   "metadata": {},
   "outputs": [
    {
     "name": "stdout",
     "output_type": "stream",
     "text": [
      "2\n"
     ]
    }
   ],
   "source": [
    "result = None\n",
    "availableResources = [1,2]\n",
    "allocatedResources = []\n",
    "if len(availableResources) == 0:\n",
    "    result = createResource()\n",
    "else:\n",
    "    result = availableResources.pop()\n",
    "allocatedResources.append(result)\n",
    "print(result)"
   ]
  },
  {
   "cell_type": "code",
   "execution_count": null,
   "metadata": {},
   "outputs": [],
   "source": []
  }
 ],
 "metadata": {
  "kernelspec": {
   "display_name": "Python 3",
   "language": "python",
   "name": "python3"
  },
  "language_info": {
   "codemirror_mode": {
    "name": "ipython",
    "version": 3
   },
   "file_extension": ".py",
   "mimetype": "text/x-python",
   "name": "python",
   "nbconvert_exporter": "python",
   "pygments_lexer": "ipython3",
   "version": "3.6.5"
  }
 },
 "nbformat": 4,
 "nbformat_minor": 2
}
