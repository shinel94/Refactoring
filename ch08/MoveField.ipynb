{
 "cells": [
  {
   "cell_type": "code",
   "execution_count": 1,
   "metadata": {},
   "outputs": [],
   "source": [
    "class Customer:\n",
    "    def __init__(self, plan, discountRate):\n",
    "        self.__plan = plan\n",
    "        self.__discountRate = discountRate\n",
    "    \n",
    "    @property\n",
    "    def plan(self):\n",
    "        return self.__plan\n",
    "    \n",
    "    @property\n",
    "    def discountRate(self):\n",
    "        return self.__discountRate\n",
    "    \n",
    "class Plan:\n",
    "    def __init__(self):\n",
    "        pass"
   ]
  },
  {
   "cell_type": "code",
   "execution_count": 2,
   "metadata": {},
   "outputs": [],
   "source": [
    "class Customer:\n",
    "    def __init__(self, plan, discountRate):\n",
    "        self.__plan = plan\n",
    "        self.__discountRate = discountRate\n",
    "    \n",
    "    @property\n",
    "    def plan(self):\n",
    "        return self.__plan\n",
    "    \n",
    "    @property\n",
    "    def discountRate(self):\n",
    "        return self.__plan.discountRate\n",
    "    \n",
    "class Plan:\n",
    "    def __init__(self, discountRate):\n",
    "        self.__discountRate = discountRate\n",
    "    \n",
    "    @property\n",
    "    def discountRate(self):\n",
    "        return self.__discountRate"
   ]
  },
  {
   "cell_type": "markdown",
   "metadata": {},
   "source": [
    "### 프로그램은 대부분 어떤 행동 또는 처리를 진행하는 코드로 이뤄지지만, 그 처리와 행동을 위해서는 데이터가 구조적으로 잘 정리되어 있어야 한다. <br> 데이터가 적절한 구조로 이루어 지지 않은 상태로 코드를 작성하거나 프로그램이 진행되면 흐름이 자연스럽지 못하고 복잡한 코드가 작성되고 진행되게 된다. <br> 따라서 코드를 이해하기가 더욱 어려워지고 프로그램이 어떤 데이터를 입력받아 어떻게 처리해서 어떤 결과를 주는지 파악하는데 더욱 시간이 오래 걸리게 된다. <br> 그래서 데이터 구조가 아주 중요하다. 최초에 설계를 잘하는 것이 중요하지만, 코드를 작성해나가는 과정에서 데이터 구조가 적절하지 않음을 꺠닫는다면 그 즉시 코드를 수정해서 데이터 구조를 개선해야 한다. <br> 그렇지 않고 기술 부채로 남겨둔다면, 추후에 더욱 복잡한 코드가 생성될 뿐이다 <br> 예를 들어 어떤 필드나 데이터 구조를 넘길때 항상 같이 옮겨지는 데이터가 있다면 두 데이터는 하나의 객체로 뭉쳐 관리하는것이 더욱 효율적이다. <br> 하나의 객체 안에 둘 사이 관계를 보다 명확하게 표현한다면, 추후에 코드를 읽는데 더욱 도움이 될 것이다. <br> 또한 하나의 레코드가 변경이 일어날때 다른 위치의 변수까지 함께 변화된다면, 해당 변수는 하나의 레코드 안에 들어가야하는 변수로 볼 수 있다. <br>"
   ]
  },
  {
   "cell_type": "markdown",
   "metadata": {},
   "source": [
    "## 절차\n",
    "\n",
    "### 1. 소스 필드가 켭슐화되어 있지 않다면 캡슐화한다.<br>\n",
    "\n",
    "### 2. 테스트한다. <br>\n",
    "\n",
    "### 3. 타깃 객체와 필드(와 접근자 메서드들)을 작성한다. <br>\n",
    "\n",
    "### 4. 정적 검사를 수행한다. <br>\n",
    "\n",
    "### 5. 소스 객체에서 타깃 객체로 접근이 가능한지 변수를 참조할 수 있는지 확인한다. <br>\n",
    "\n",
    "### 6. 접근자들이 타깃 필드를 사용하도록 수정한다. <br>\n",
    "\n",
    "### 7. 테스트한다. <br>\n",
    "\n",
    "### 8.소스 필드를 제거한다. <br>\n",
    "\n",
    "### 9. 테스트한다. <br>"
   ]
  },
  {
   "cell_type": "markdown",
   "metadata": {},
   "source": [
    "# Example"
   ]
  },
  {
   "cell_type": "code",
   "execution_count": 10,
   "metadata": {},
   "outputs": [],
   "source": [
    "class Customer:\n",
    "    def __init__(self, name, discountRate):\n",
    "        self.__name = name\n",
    "        self.__discountRate = discountRate\n",
    "        self.__contract = CustomerContract(dateToday())\n",
    "        \n",
    "    @property\n",
    "    def name(self):\n",
    "        return self.__name\n",
    "    \n",
    "    @property\n",
    "    def discountRate(self):\n",
    "        return self.__discountRate\n",
    "    \n",
    "    @property\n",
    "    def contract(self):\n",
    "        return self.__contract\n",
    "    \n",
    "    def becomePreferred(self):\n",
    "        self.__discountRate += 0.03\n",
    "    \n",
    "    def applyDiscount(self, amount):\n",
    "        return amount.subtract(amount.multiply(self.__discountRate))\n",
    "\n",
    "class CustomerContract:\n",
    "    def __init__(self, startDate):\n",
    "        self.__startDate = startDate\n",
    "    \n",
    "    @property\n",
    "    def startDate(self):\n",
    "        return self.__startDate\n",
    "\n",
    "class Amount:\n",
    "    def __init__(self, amount):\n",
    "        self.__amount = amount\n",
    "        \n",
    "    @property\n",
    "    def amount(self):\n",
    "        return self.__amount\n",
    "    \n",
    "    def subtract(self, value):\n",
    "        return self.__amount - value\n",
    "    \n",
    "    def multiply(self, value):\n",
    "        return self.amount * value\n",
    "    \n",
    "def dateToday():\n",
    "    return 'Today'"
   ]
  },
  {
   "cell_type": "code",
   "execution_count": 11,
   "metadata": {},
   "outputs": [
    {
     "data": {
      "text/plain": [
       "27.0"
      ]
     },
     "execution_count": 11,
     "metadata": {},
     "output_type": "execute_result"
    }
   ],
   "source": [
    "customer = Customer(name='홍길동', discountRate=0.1)\n",
    "amount = Amount(amount=30)\n",
    "customer.applyDiscount(amount)"
   ]
  },
  {
   "cell_type": "code",
   "execution_count": 14,
   "metadata": {},
   "outputs": [],
   "source": [
    "class Customer:\n",
    "    def __init__(self, name, discountRate):\n",
    "        self.__name = name\n",
    "        self.setdiscountRate(discountRate)\n",
    "        self.__contract = CustomerContract(dateToday())\n",
    "    \n",
    "    def setdiscountRate(self, discountRate):\n",
    "        self.__discountRate = discountRate\n",
    "    \n",
    "    @property\n",
    "    def name(self):\n",
    "        return self.__name\n",
    "    \n",
    "    @property\n",
    "    def discountRate(self):\n",
    "        return self.__discountRate\n",
    "    \n",
    "    @property\n",
    "    def contract(self):\n",
    "        return self.__contract\n",
    "    \n",
    "    def becomePreferred(self):\n",
    "        self.setdiscountRate(self.__discountRate + 0.03)\n",
    "    \n",
    "    def applyDiscount(self, amount):\n",
    "        return amount.subtract(amount.multiply(self.discountRate))\n",
    "\n",
    "class CustomerContract:\n",
    "    def __init__(self, startDate):\n",
    "        self.__startDate = startDate\n",
    "    \n",
    "    @property\n",
    "    def startDate(self):\n",
    "        return self.__startDate"
   ]
  },
  {
   "cell_type": "code",
   "execution_count": 15,
   "metadata": {},
   "outputs": [
    {
     "data": {
      "text/plain": [
       "27.0"
      ]
     },
     "execution_count": 15,
     "metadata": {},
     "output_type": "execute_result"
    }
   ],
   "source": [
    "customer = Customer(name='홍길동', discountRate=0.1)\n",
    "amount = Amount(amount=30)\n",
    "customer.applyDiscount(amount)"
   ]
  },
  {
   "cell_type": "code",
   "execution_count": 22,
   "metadata": {},
   "outputs": [],
   "source": [
    "class Customer:\n",
    "    def __init__(self, name, discountRate):\n",
    "        self.__name = name\n",
    "        self.__contract = CustomerContract(dateToday(), discountRate)\n",
    "        self.setdiscountRate(discountRate)\n",
    "    \n",
    "    def setdiscountRate(self, discountRate):\n",
    "        self.__discountRate = self.__contract.discountRate\n",
    "    \n",
    "    @property\n",
    "    def name(self):\n",
    "        return self.__name\n",
    "    \n",
    "    @property\n",
    "    def discountRate(self):\n",
    "        return self.__discountRate\n",
    "    \n",
    "    @property\n",
    "    def contract(self):\n",
    "        return self.__contract\n",
    "    \n",
    "    def becomePreferred(self):\n",
    "        self.setdiscountRate(self.__discountRate + 0.03)\n",
    "    \n",
    "    def applyDiscount(self, amount):\n",
    "        return amount.subtract(amount.multiply(self.discountRate))\n",
    "\n",
    "class CustomerContract:\n",
    "    def __init__(self, startDate, discountRate):\n",
    "        self.__startDate = startDate\n",
    "        self.setdiscountRate(discountRate)\n",
    "    \n",
    "    @property\n",
    "    def startDate(self):\n",
    "        return self.__startDate\n",
    "    \n",
    "    def setdiscountRate(self, discountRate):\n",
    "        self.__discountRate = discountRate\n",
    "    \n",
    "    @property\n",
    "    def discountRate(self):\n",
    "        return self.__discountRate\n",
    "    "
   ]
  },
  {
   "cell_type": "code",
   "execution_count": 23,
   "metadata": {},
   "outputs": [
    {
     "data": {
      "text/plain": [
       "27.0"
      ]
     },
     "execution_count": 23,
     "metadata": {},
     "output_type": "execute_result"
    }
   ],
   "source": [
    "customer = Customer(name='홍길동', discountRate=0.1)\n",
    "amount = Amount(amount=30)\n",
    "customer.applyDiscount(amount)"
   ]
  },
  {
   "cell_type": "markdown",
   "metadata": {},
   "source": [
    "# Example"
   ]
  },
  {
   "cell_type": "code",
   "execution_count": 24,
   "metadata": {},
   "outputs": [],
   "source": [
    "class Account:\n",
    "    def __init__(self, _number, _type, interestRate):\n",
    "        self.__name = _number\n",
    "        self.__type = _type\n",
    "        self.__interstRate = interestRate\n",
    "    \n",
    "    @property\n",
    "    def interstRate(self):\n",
    "        return self.__interstRate\n",
    "    \n",
    "class AccountType:\n",
    "    def __init__(self, nameString, interestRate):\n",
    "        self.__name = nameString\n",
    "        self.__interstRate = interestRate\n",
    "        \n",
    "    @property\n",
    "    def interstRate(self):\n",
    "        return self.__interstRate\n",
    "        "
   ]
  },
  {
   "cell_type": "code",
   "execution_count": 28,
   "metadata": {},
   "outputs": [],
   "source": [
    "class Account:\n",
    "    def __init__(self, _number, _type, interestRate):\n",
    "        self.__name = _number\n",
    "        self.__type = _type\n",
    "        assert self.__type.interestRate == interstRate, \"InterestRate가 일치하지 않습니다.\"\n",
    "        self.__interstRate = interestRate\n",
    "    \n",
    "    @property\n",
    "    def interstRate(self):\n",
    "        return self.__interstRate\n",
    "    \n",
    "class AccountType:\n",
    "    def __init__(self, nameString, interestRate):\n",
    "        self.__name = nameString\n",
    "        self.__interstRate = interestRate\n",
    "        \n",
    "    @property\n",
    "    def interstRate(self):\n",
    "        return self.__interstRate\n",
    "        "
   ]
  },
  {
   "cell_type": "code",
   "execution_count": 29,
   "metadata": {},
   "outputs": [],
   "source": [
    "class Account:\n",
    "    def __init__(self, _number, _type):\n",
    "        self.__name = _number\n",
    "        self.__type = _type\n",
    "        \n",
    "    @property\n",
    "    def interstRate(self):\n",
    "        return self.__type.interestRate\n",
    "    \n",
    "class AccountType:\n",
    "    def __init__(self, nameString, interestRate):\n",
    "        self.__name = nameString\n",
    "        self.__interstRate = interestRate\n",
    "        \n",
    "    @property\n",
    "    def interstRate(self):\n",
    "        return self.__interstRate\n",
    "        "
   ]
  }
 ],
 "metadata": {
  "kernelspec": {
   "display_name": "Python 3",
   "language": "python",
   "name": "python3"
  },
  "language_info": {
   "codemirror_mode": {
    "name": "ipython",
    "version": 3
   },
   "file_extension": ".py",
   "mimetype": "text/x-python",
   "name": "python",
   "nbconvert_exporter": "python",
   "pygments_lexer": "ipython3",
   "version": "3.6.5"
  }
 },
 "nbformat": 4,
 "nbformat_minor": 2
}
