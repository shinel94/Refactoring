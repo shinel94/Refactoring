{
 "cells": [
  {
   "cell_type": "code",
   "execution_count": 2,
   "metadata": {},
   "outputs": [],
   "source": [
    "class people:\n",
    "    def __init__(self, name, job):\n",
    "        self.__name = name\n",
    "        self.__job = job\n",
    "    \n",
    "    @property\n",
    "    def name(self):\n",
    "        return self.__name\n",
    "    \n",
    "    @property\n",
    "    def job(self):\n",
    "        return self.__job"
   ]
  },
  {
   "cell_type": "code",
   "execution_count": 5,
   "metadata": {},
   "outputs": [],
   "source": [
    "inputs = [people('존', 'doctor'), people('매튜', 'teacher'), people('밥', 'programmer'), people('제니', 'programmer'), people('제인', 'programmer')]"
   ]
  },
  {
   "cell_type": "code",
   "execution_count": 7,
   "metadata": {},
   "outputs": [
    {
     "name": "stdout",
     "output_type": "stream",
     "text": [
      "['밥', '제니', '제인']\n"
     ]
    }
   ],
   "source": [
    "names = []\n",
    "for i in inputs:\n",
    "    if i.job == 'programmer':\n",
    "        names.append(i.name)\n",
    "print(names)"
   ]
  },
  {
   "cell_type": "code",
   "execution_count": 8,
   "metadata": {},
   "outputs": [
    {
     "name": "stdout",
     "output_type": "stream",
     "text": [
      "['밥', '제니', '제인']\n"
     ]
    }
   ],
   "source": [
    "names = [i.name for i in inputs if i.job == 'programmer']\n",
    "print(names)"
   ]
  },
  {
   "cell_type": "markdown",
   "metadata": {},
   "source": [
    "### 대부분의 프로그래머는 객체 컬렉션을 순회할 때 반복문을 사용한다. <br> 하지만 언어는 계속해서 더 나은 구조를 제공하는 쪽으로 발전하고 있고, 파이썬의 경우도 map과 filter를 구현 또는 구현체가 있음. 반복문 순회가 아닌 파이프라인 구조로 코드를 작성하게 되면 코드 이해가 더 쉬워지는 효과가있다."
   ]
  },
  {
   "cell_type": "markdown",
   "metadata": {},
   "source": [
    "## 절차\n",
    "\n",
    "### 1. 반복문에서 사용하는 컬렉션을 가리키는 변수를 하나 만든다.<br>\n",
    "\n",
    "### 2. 반목문의 첫 줄부터 시작해서, 각각의 단위 행위를 적절한 컬렉션 파이프라인 연산으로 대체한다. 이때 컬렉션 파이프라인 연선은 상위 단계에서 만든 반복ㅁ문 컬렉션 변수에서 시작하여, 이전 연산의 결과를 기초로 연쇄적으로 수행된다. 하나를 대체할 때마다 테스트 한다. <br>\n",
    "\n",
    "### 3. 반복문의 모든 동작을 대체했다면 반복문 자체를 지운다. <br>"
   ]
  },
  {
   "cell_type": "code",
   "execution_count": null,
   "metadata": {},
   "outputs": [],
   "source": []
  }
 ],
 "metadata": {
  "kernelspec": {
   "display_name": "Python 3",
   "language": "python",
   "name": "python3"
  },
  "language_info": {
   "codemirror_mode": {
    "name": "ipython",
    "version": 3
   },
   "file_extension": ".py",
   "mimetype": "text/x-python",
   "name": "python",
   "nbconvert_exporter": "python",
   "pygments_lexer": "ipython3",
   "version": "3.6.5"
  }
 },
 "nbformat": 4,
 "nbformat_minor": 2
}
