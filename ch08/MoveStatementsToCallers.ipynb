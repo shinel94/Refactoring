{
 "cells": [
  {
   "cell_type": "code",
   "execution_count": 6,
   "metadata": {},
   "outputs": [
    {
     "name": "stdout",
     "output_type": "stream",
     "text": [
      "['<p>제목</p>\\n', '<p>위치</p>\\n']\n"
     ]
    }
   ],
   "source": [
    "def emitPhotoData(outStream, photo):\n",
    "    outStream.append(f'<p>{photo.title}</p>\\n')\n",
    "    outStream.append(f'<p>{photo.location}</p>\\n')\n",
    "    \n",
    "class Photo:\n",
    "    def __init__(self, title, location):\n",
    "        self.__title = title\n",
    "        self.__location = location\n",
    "        \n",
    "    @property\n",
    "    def title(self):\n",
    "        return self.__title\n",
    "    \n",
    "    @property\n",
    "    def location(self):\n",
    "        return self.__location\n",
    "    \n",
    "data = Photo('제목', '위치')\n",
    "outStream = []\n",
    "emitPhotoData(outStream, data)\n",
    "print(outStream)"
   ]
  },
  {
   "cell_type": "code",
   "execution_count": 7,
   "metadata": {},
   "outputs": [
    {
     "name": "stdout",
     "output_type": "stream",
     "text": [
      "['<p>제목</p>\\n', '<p>위치</p>\\n']\n"
     ]
    }
   ],
   "source": [
    "def emitPhotoData(outStream, photo):\n",
    "    outStream.append(f'<p>{photo.title}</p>\\n')\n",
    "    \n",
    "    \n",
    "class Photo:\n",
    "    def __init__(self, title, location):\n",
    "        self.__title = title\n",
    "        self.__location = location\n",
    "        \n",
    "    @property\n",
    "    def title(self):\n",
    "        return self.__title\n",
    "    \n",
    "    @property\n",
    "    def location(self):\n",
    "        return self.__location\n",
    "    \n",
    "data = Photo('제목', '위치')\n",
    "outStream = []\n",
    "emitPhotoData(outStream, data)\n",
    "outStream.append(f'<p>{data.location}</p>\\n')\n",
    "print(outStream)"
   ]
  },
  {
   "cell_type": "markdown",
   "metadata": {},
   "source": [
    "### 함수는 모든 코드 / 프로그램 추상화의 기본 빌딩 블록이다. 그런데 추상화를 하는 과정에서 경계를 올바르게 긋는것은 쉽지 않다. <br> 초기에는 하나의 일만 담당했던 함수가 코드를 작성하는 과정에서 둘 이상의 다른 일을 수행하게 바뀔 수 있다. <br> 동일한 함수를 사용하는 과정에서 일부 함수 호출하는 과정에서 추가적인 처리가 필요해지게 된다면, 해당 기능을 처리하는 함수를 새로 작성해야 한다. <br> "
   ]
  },
  {
   "cell_type": "markdown",
   "metadata": {},
   "source": [
    "## 절차\n",
    "\n",
    "### 1. 호출자가 한두 개뿐이고 피호출 함수도 간단한 단순한 상황이면,  피호출 함수의 처음 혹은 마지막 줄들을 잘라내어 호출자로 복사해 넣고, 테스트하고 리팩터링을 마무리한다.<br>\n",
    "\n",
    "### 2. 더 복잡한 상황에서는 이동하면 않되는 모든 문장을 함수로 추출한 ㄴ다음 검색하기 쉬운 임시 이름을 지어준다. <br>\n",
    "\n",
    "### 3. 원래 함수를 인라인 한다. <br>\n",
    "\n",
    "### 4. 추출된 함수의 이름을 원래 함수의 이름으로 변경한다. <br>"
   ]
  },
  {
   "cell_type": "markdown",
   "metadata": {},
   "source": [
    "# Example"
   ]
  }
 ],
 "metadata": {
  "kernelspec": {
   "display_name": "Python 3",
   "language": "python",
   "name": "python3"
  },
  "language_info": {
   "codemirror_mode": {
    "name": "ipython",
    "version": 3
   },
   "file_extension": ".py",
   "mimetype": "text/x-python",
   "name": "python",
   "nbconvert_exporter": "python",
   "pygments_lexer": "ipython3",
   "version": "3.6.5"
  }
 },
 "nbformat": 4,
 "nbformat_minor": 2
}
