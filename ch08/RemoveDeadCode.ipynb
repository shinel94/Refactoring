{
 "cells": [
  {
   "cell_type": "code",
   "execution_count": 1,
   "metadata": {},
   "outputs": [],
   "source": [
    "if False:\n",
    "    print(\"Something\")"
   ]
  },
  {
   "cell_type": "code",
   "execution_count": null,
   "metadata": {},
   "outputs": [],
   "source": []
  },
  {
   "cell_type": "markdown",
   "metadata": {},
   "source": [
    "### 소프트웨어나 프로그램을 출시 할 때, 심지어 모바일 기기용 소프트웨어라도 코드의 양에는 따로 비용을 매기지 않는다. <br>  따라서 쓰이지 않는 코드가 몇 줄 있다고 해서, 시스템이 느려지는 것도 아니고, 메모리를 많이 잡아먹지도 않는다.  <br>  또한 최신의 컴파일 언어는 이렇게 호출되지 않는 코드들은 알아서 제거해주기도 한다.  <br>  그렇다 하더라도, 코드 상에 사용되지 않는 코드가 있다면, 프로그램 전체를 이해하는데 방해가 되는 걸림돌이 될 수 있다. <br>  코드를 이해하고 난 뒤에는 해당 코드는 절대로 실행 되지 않는다는 것을 이해할 수 있기 때문에,  <br>  원하는 결과를 받지 못할 수 도 있다. <br> 코드가 더이상 사용되지 않는다고 판단되면 이제는 그냥 제거하면 된다.  <br> 추후에 사용될 가능성이 있다면, 버전 관리프로그램을 이용해서 복구를 하면 된다. <br>  예전에는 사용하지 않는 코드를 주석처리 하는 방식으로 많이 적용했지만, <br> 이제는 버전관리 프로그램이 잘 제공고, 또한 주석은 추후에 코드를 이해하는데 방해가 되는 요소로 작용하기 때문에, 과감하게 제거하도록 하자. <br> "
   ]
  },
  {
   "cell_type": "markdown",
   "metadata": {},
   "source": [
    "## 절차\n",
    "\n",
    "### 1. 죽은 코드를 외부에서 참조할 수 있는 경우라면(예컨대 함수 하나가 통째로 죽었을 때) 혹시라도 호출하는 곳이 있는지 진짜로 죽은게 맞는지 한번 더 확인한다.<br>\n",
    "\n",
    "### 2. 없다면 죽은 코드를 제거한다. <br>\n",
    "\n",
    "### 3. 테스트한다. <br>"
   ]
  },
  {
   "cell_type": "code",
   "execution_count": null,
   "metadata": {},
   "outputs": [],
   "source": []
  }
 ],
 "metadata": {
  "kernelspec": {
   "display_name": "Python 3",
   "language": "python",
   "name": "python3"
  },
  "language_info": {
   "codemirror_mode": {
    "name": "ipython",
    "version": 3
   },
   "file_extension": ".py",
   "mimetype": "text/x-python",
   "name": "python",
   "nbconvert_exporter": "python",
   "pygments_lexer": "ipython3",
   "version": "3.6.5"
  }
 },
 "nbformat": 4,
 "nbformat_minor": 2
}
