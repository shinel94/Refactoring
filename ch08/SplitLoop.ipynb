{
 "cells": [
  {
   "cell_type": "code",
   "execution_count": 1,
   "metadata": {},
   "outputs": [],
   "source": [
    "class People:\n",
    "    def __init__(self, age, salary):\n",
    "        self.__age = age\n",
    "        self.__salary = salary\n",
    "        \n",
    "    @property\n",
    "    def age(self):\n",
    "        return self.__age\n",
    "    \n",
    "    @property\n",
    "    def salary(self):\n",
    "        return self.__salary"
   ]
  },
  {
   "cell_type": "code",
   "execution_count": 4,
   "metadata": {},
   "outputs": [],
   "source": [
    "age = [11,13,15,21,25,27,31,35,42]\n",
    "saraly = [3800, 2000, 1500, 3600, 5000, 6700, 8000, 11000, 30000]\n",
    "people = [People(age[i], saraly[i]) for i in range(9)]"
   ]
  },
  {
   "cell_type": "code",
   "execution_count": 6,
   "metadata": {},
   "outputs": [
    {
     "name": "stdout",
     "output_type": "stream",
     "text": [
      "24.444444444444443\n"
     ]
    }
   ],
   "source": [
    "averageAge = 0\n",
    "totalSalary = 0\n",
    "for p in people:\n",
    "    averageAge += p.age\n",
    "    totalSalary += p.salary\n",
    "\n",
    "averageAge = averageAge / len(people)\n",
    "print(averageAge)"
   ]
  },
  {
   "cell_type": "code",
   "execution_count": 9,
   "metadata": {},
   "outputs": [
    {
     "name": "stdout",
     "output_type": "stream",
     "text": [
      "24.444444444444443\n"
     ]
    }
   ],
   "source": [
    "totalSalary = 0\n",
    "for p in people:\n",
    "    totalSalary += p.salary\n",
    "    \n",
    "averageAge = 0\n",
    "for p in people:\n",
    "    averageAge += p.age\n",
    "averageAge = averageAge / len(people)\n",
    "print(averageAge)"
   ]
  },
  {
   "cell_type": "markdown",
   "metadata": {},
   "source": [
    "### 그저 여러개의 일을 한번에 처리 할 수 있다는 이유로 종종 반복문 하나에 두가지 이상의 일을 수행하는 경우가 많다, <br> 하지만 이렇게 되면 반복문에 수정을 해야할 일이 생길때, 여러개의 일을 모두 이해하고 있는 상태에서만 코드를 수정할 수 있다. <br> 그렇기 때문에, 하나의 반복문에는 하나의 일만 수행하는 것이 추후에 코드를 개선하는 것이 쉽다. <br> 또한 반복문을 분리 시킬 수 있는 상황이라면, 서로 다른 일들이 한 함수에서 이뤄지고 있다는 신호일 수 있다. <br>  반복문을 쪼개는 것이 최적화를 막기도 하지만, 실제로 먼저 쪼갠 뒤 추후에 병목이 발생하면 그때 다시 합쳐도 늦지 않다."
   ]
  },
  {
   "cell_type": "markdown",
   "metadata": {},
   "source": [
    "## 절차\n",
    "\n",
    "### 1. 반복문을 복제해 두 개로 만든다.<br>\n",
    "\n",
    "### 2. 반복문이 중복되어 생기는 부수효과를 파악해서 제거한다. <br>\n",
    "\n",
    "### 3. 테스트 한다. <br>\n",
    "\n",
    "### 4. 추출된 반복문을 함수로 추출할 지 판단하여, 적용한다. <br>"
   ]
  },
  {
   "cell_type": "code",
   "execution_count": 10,
   "metadata": {},
   "outputs": [
    {
     "name": "stdout",
     "output_type": "stream",
     "text": [
      "최연소 : 11 총 급여 : 71600\n"
     ]
    }
   ],
   "source": [
    "youngest = 2**63\n",
    "totalSalary = 0\n",
    "for p in people:\n",
    "    if p.age < youngest:\n",
    "        youngest = p.age\n",
    "    totalSalary += p.salary\n",
    "print( f'최연소 : {youngest} 총 급여 : {totalSalary}')"
   ]
  },
  {
   "cell_type": "code",
   "execution_count": 11,
   "metadata": {},
   "outputs": [
    {
     "name": "stdout",
     "output_type": "stream",
     "text": [
      "최연소 : 11 총 급여 : 71600\n"
     ]
    }
   ],
   "source": [
    "youngest = 2**63\n",
    "for p in people:\n",
    "    if p.age < youngest:\n",
    "        youngest = p.age\n",
    "    totalSalary += p.salary\n",
    "totalSalary = 0\n",
    "for p in people:\n",
    "    if p.age < youngest:\n",
    "        youngest = p.age\n",
    "    totalSalary += p.salary\n",
    "print( f'최연소 : {youngest} 총 급여 : {totalSalary}')"
   ]
  },
  {
   "cell_type": "code",
   "execution_count": 12,
   "metadata": {},
   "outputs": [
    {
     "name": "stdout",
     "output_type": "stream",
     "text": [
      "최연소 : 11 총 급여 : 71600\n"
     ]
    }
   ],
   "source": [
    "youngest = 2**63\n",
    "for p in people:\n",
    "    if p.age < youngest:\n",
    "        youngest = p.age\n",
    "totalSalary = 0\n",
    "for p in people:\n",
    "    totalSalary += p.salary\n",
    "print( f'최연소 : {youngest} 총 급여 : {totalSalary}')"
   ]
  },
  {
   "cell_type": "code",
   "execution_count": 13,
   "metadata": {},
   "outputs": [
    {
     "name": "stdout",
     "output_type": "stream",
     "text": [
      "최연소 : 11 총 급여 : 71600\n"
     ]
    }
   ],
   "source": [
    "def youngestAge(people):\n",
    "    youngest = 2**63\n",
    "    for p in people:\n",
    "        if p.age < youngest:\n",
    "            youngest = p.age\n",
    "    return youngest\n",
    "\n",
    "def totalSalary(people):\n",
    "    totalSalary = 0\n",
    "    for p in people:\n",
    "        totalSalary += p.salary\n",
    "    return totalSalary\n",
    "print( f'최연소 : {youngestAge(people)} 총 급여 : {totalSalary(people)}')"
   ]
  },
  {
   "cell_type": "code",
   "execution_count": 14,
   "metadata": {},
   "outputs": [
    {
     "name": "stdout",
     "output_type": "stream",
     "text": [
      "최연소 : 11 총 급여 : 71600\n"
     ]
    }
   ],
   "source": [
    "def youngestAge(people):\n",
    "    return min([p.age for p in people])\n",
    "\n",
    "def totalSalary(people):\n",
    "    return sum([p.salary for p in people])\n",
    "print( f'최연소 : {youngestAge(people)} 총 급여 : {totalSalary(people)}')"
   ]
  }
 ],
 "metadata": {
  "kernelspec": {
   "display_name": "Python 3",
   "language": "python",
   "name": "python3"
  },
  "language_info": {
   "codemirror_mode": {
    "name": "ipython",
    "version": 3
   },
   "file_extension": ".py",
   "mimetype": "text/x-python",
   "name": "python",
   "nbconvert_exporter": "python",
   "pygments_lexer": "ipython3",
   "version": "3.6.5"
  }
 },
 "nbformat": 4,
 "nbformat_minor": 2
}
