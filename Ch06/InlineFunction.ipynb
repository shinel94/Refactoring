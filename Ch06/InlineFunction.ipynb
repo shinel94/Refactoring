{
 "cells": [
  {
   "cell_type": "code",
   "execution_count": 14,
   "metadata": {},
   "outputs": [],
   "source": [
    "def getRating(driver):\n",
    "    if moreThanFiveLateDeliveries(driver):\n",
    "        return 2\n",
    "    else:\n",
    "        return 1\n",
    "def moreThanFiveLateDeliveries(driver):\n",
    "    return driver.numberOfLateDeliveries > 5"
   ]
  },
  {
   "cell_type": "code",
   "execution_count": 15,
   "metadata": {},
   "outputs": [],
   "source": [
    "class TestCase:\n",
    "    def __init__(self, number):\n",
    "        self.numberOfLateDeliveries = number"
   ]
  },
  {
   "cell_type": "code",
   "execution_count": 18,
   "metadata": {},
   "outputs": [
    {
     "data": {
      "text/plain": [
       "1"
      ]
     },
     "execution_count": 18,
     "metadata": {},
     "output_type": "execute_result"
    }
   ],
   "source": [
    "getRating(TestCase(2))"
   ]
  },
  {
   "cell_type": "code",
   "execution_count": 19,
   "metadata": {},
   "outputs": [
    {
     "data": {
      "text/plain": [
       "2"
      ]
     },
     "execution_count": 19,
     "metadata": {},
     "output_type": "execute_result"
    }
   ],
   "source": [
    "getRating(TestCase(7))"
   ]
  },
  {
   "cell_type": "markdown",
   "metadata": {},
   "source": [
    "### 함수의 이름은 함수의 목적들 드러내도록 하는 것이 추후에 코드를 이해하는데 도움이 되기 때문에 함수 이름을 잘 설정하는 것이 중요하다. <br> 하지만 코드 자체가 추가적인 이름 없이 명확하게 이해가 되는 코드가 있기 때문에, 함수를 사용하는 것이 아닌 함수 본문 코드를 그대로 인라인 하는것이 도움이 될 수도 있다.<br> 간접 호출은 대체로 유용하지만 쓸데없고, 지나친 호출은 거슬릴 뿐이다.<br> 또한 리팩터링 과정에서 잘못 추출된 함수들도 다시 원래대로 함친 다음 다시 인라인한다. <br> 코드를 추출하여 간접호출을 하고, 행동을 위임하는 과정에서, 복잡한 위임관계는 추후에 코드 이해를 방해한다."
   ]
  },
  {
   "cell_type": "markdown",
   "metadata": {},
   "source": [
    "## 절차\n",
    "\n",
    "### 1. 해당 메서드가 다형 메서드(polymorphic method / 자식 클래스에서 오버라이드 하는 메서드) 인지 확인한다. <br>\n",
    "\n",
    "### 2. 인라인할 함수를 호출하는 곳을 모두 찾는다. <br>\n",
    "\n",
    "### 3. 각 호출문을 함수 본문(코드 본문)으로 교체한다.<br>\n",
    "\n",
    "### 4. 호출문이 코드 본문으로 교채 될때 마다 테스트를 진행한다.  <br>\n",
    "\n",
    "### 5. 함수가 정의된 코드를 제거한다.<br>"
   ]
  },
  {
   "cell_type": "markdown",
   "metadata": {},
   "source": [
    "# Example"
   ]
  },
  {
   "cell_type": "code",
   "execution_count": 21,
   "metadata": {},
   "outputs": [],
   "source": [
    "def rating(aDriver):\n",
    "    if moreThanFiveLateDeliveries(aDriver):\n",
    "        return 2\n",
    "    else:\n",
    "        return 1\n",
    "\n",
    "def moreThanFiveLateDeliveries(aDriver):\n",
    "    return aDriver.numberOfLateDeliveries > 5"
   ]
  },
  {
   "cell_type": "code",
   "execution_count": 22,
   "metadata": {},
   "outputs": [],
   "source": [
    "class TestCase:\n",
    "    def __init__(self, number):\n",
    "        self.numberOfLateDeliveries = number"
   ]
  },
  {
   "cell_type": "code",
   "execution_count": 26,
   "metadata": {},
   "outputs": [],
   "source": [
    "def test_func():\n",
    "    print(rating(TestCase(7)))\n",
    "    print(rating(TestCase(2)))\n",
    "    "
   ]
  },
  {
   "cell_type": "code",
   "execution_count": 27,
   "metadata": {},
   "outputs": [
    {
     "name": "stdout",
     "output_type": "stream",
     "text": [
      "2\n",
      "1\n"
     ]
    }
   ],
   "source": [
    "test_func()"
   ]
  },
  {
   "cell_type": "code",
   "execution_count": 28,
   "metadata": {},
   "outputs": [],
   "source": [
    "def rating(aDriver):\n",
    "    if aDriver.numberOfLateDeliveries > 5:\n",
    "        return 2\n",
    "    else:\n",
    "        return 1\n",
    "    "
   ]
  },
  {
   "cell_type": "code",
   "execution_count": 29,
   "metadata": {},
   "outputs": [
    {
     "name": "stdout",
     "output_type": "stream",
     "text": [
      "2\n",
      "1\n"
     ]
    }
   ],
   "source": [
    "test_func()"
   ]
  },
  {
   "cell_type": "code",
   "execution_count": 30,
   "metadata": {},
   "outputs": [],
   "source": [
    "def reportLines(aCustomer):\n",
    "    lines = []\n",
    "    getherCustomerData(lines, aCustomer)\n",
    "    return lines"
   ]
  },
  {
   "cell_type": "code",
   "execution_count": 31,
   "metadata": {},
   "outputs": [],
   "source": [
    "def getherCustomerData(out, aCustomer):\n",
    "    out.append(['name', aCustomer.name])\n",
    "    out.append(['location', aCustomer.location])"
   ]
  },
  {
   "cell_type": "code",
   "execution_count": 32,
   "metadata": {},
   "outputs": [],
   "source": [
    "class TestCase:\n",
    "    def __init__(self):\n",
    "        self.name = '홍길동'\n",
    "        self.location = 'seoul'"
   ]
  },
  {
   "cell_type": "code",
   "execution_count": 35,
   "metadata": {},
   "outputs": [
    {
     "name": "stdout",
     "output_type": "stream",
     "text": [
      "['name', '홍길동']\n",
      "['location', 'seoul']\n"
     ]
    }
   ],
   "source": [
    "_ = [print(x) for x in reportLines(TestCase())]"
   ]
  },
  {
   "cell_type": "code",
   "execution_count": 36,
   "metadata": {},
   "outputs": [],
   "source": [
    "def reportLines(aCustomer):\n",
    "    lines = []\n",
    "    lines.append(['name', aCustomer.name])\n",
    "    getherCustomerData(lines, aCustomer)\n",
    "    return lines\n",
    "\n",
    "def getherCustomerData(out, aCustomer):\n",
    "    # out.append(['name', aCustomer.name])\n",
    "    out.append(['location', aCustomer.location])"
   ]
  },
  {
   "cell_type": "code",
   "execution_count": 37,
   "metadata": {},
   "outputs": [
    {
     "name": "stdout",
     "output_type": "stream",
     "text": [
      "['name', '홍길동']\n",
      "['location', 'seoul']\n"
     ]
    }
   ],
   "source": [
    "_ = [print(x) for x in reportLines(TestCase())]"
   ]
  },
  {
   "cell_type": "code",
   "execution_count": 38,
   "metadata": {},
   "outputs": [],
   "source": [
    "def reportLines(aCustomer):\n",
    "    lines = []\n",
    "    lines.append(['name', aCustomer.name])\n",
    "    lines.append(['location', aCustomer.location])\n",
    "    # getherCustomerData(lines, aCustomer)\n",
    "    return lines\n",
    "\n",
    "def getherCustomerData(out, aCustomer):\n",
    "    # out.append(['name', aCustomer.name])\n",
    "    # out.append(['location', aCustomer.location])\n",
    "    pass"
   ]
  },
  {
   "cell_type": "code",
   "execution_count": 39,
   "metadata": {},
   "outputs": [
    {
     "name": "stdout",
     "output_type": "stream",
     "text": [
      "['name', '홍길동']\n",
      "['location', 'seoul']\n"
     ]
    }
   ],
   "source": [
    "_ = [print(x) for x in reportLines(TestCase())]"
   ]
  }
 ],
 "metadata": {
  "kernelspec": {
   "display_name": "Python 3",
   "language": "python",
   "name": "python3"
  },
  "language_info": {
   "codemirror_mode": {
    "name": "ipython",
    "version": 3
   },
   "file_extension": ".py",
   "mimetype": "text/x-python",
   "name": "python",
   "nbconvert_exporter": "python",
   "pygments_lexer": "ipython3",
   "version": "3.6.5"
  }
 },
 "nbformat": 4,
 "nbformat_minor": 2
}
