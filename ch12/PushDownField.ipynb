{
 "cells": [
  {
   "cell_type": "code",
   "execution_count": 3,
   "metadata": {},
   "outputs": [],
   "source": [
    "class Employee:\n",
    "    def __init__(self):\n",
    "        self.__quota = None\n",
    "    @property\n",
    "    def quota(self):\n",
    "        return self.__quota\n",
    "class Engineer(Employee):\n",
    "    pass\n",
    "class Salesperson(Employee):\n",
    "    pass"
   ]
  },
  {
   "cell_type": "code",
   "execution_count": 4,
   "metadata": {},
   "outputs": [],
   "source": [
    "class Employee:\n",
    "    pass\n",
    "class Engineer(Employee):\n",
    "    pass\n",
    "class Salesperson(Employee):\n",
    "    def __init__(self):\n",
    "        self.__quota = None\n",
    "    @property\n",
    "    def quota(self):\n",
    "        return self.__quota"
   ]
  },
  {
   "cell_type": "markdown",
   "metadata": {},
   "source": [
    "### 서브클래스 하나에서만 사용하는 필드는 해당 서브클래스들로 옮긴다."
   ]
  },
  {
   "cell_type": "markdown",
   "metadata": {},
   "source": [
    "## 절차\n",
    "\n",
    "### 1. 대상 필드를 모든 서브클래스에 정의한다. <br> \n",
    "\n",
    "### 2. 슈퍼클레스에서 그 필드를 제거한다. <br>\n",
    "\n",
    "### 3. 테스트한다. <br>\n",
    "\n",
    "### 4. 이 필드를 사용하지 않는 모든 서브클래스에서 제거한다. <br>\n",
    " \n",
    "### 5. 테스트한다. <br>"
   ]
  },
  {
   "cell_type": "code",
   "execution_count": null,
   "metadata": {},
   "outputs": [],
   "source": []
  }
 ],
 "metadata": {
  "kernelspec": {
   "display_name": "Python 3",
   "language": "python",
   "name": "python3"
  },
  "language_info": {
   "codemirror_mode": {
    "name": "ipython",
    "version": 3
   },
   "file_extension": ".py",
   "mimetype": "text/x-python",
   "name": "python",
   "nbconvert_exporter": "python",
   "pygments_lexer": "ipython3",
   "version": "3.6.5"
  }
 },
 "nbformat": 4,
 "nbformat_minor": 2
}
