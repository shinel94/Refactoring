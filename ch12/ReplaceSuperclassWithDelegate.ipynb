{
 "cells": [
  {
   "cell_type": "code",
   "execution_count": 1,
   "metadata": {},
   "outputs": [],
   "source": [
    "class List:\n",
    "    pass\n",
    "class Stack(List):\n",
    "    pass"
   ]
  },
  {
   "cell_type": "code",
   "execution_count": 2,
   "metadata": {},
   "outputs": [],
   "source": [
    "class List:\n",
    "    pass\n",
    "class Stack:\n",
    "    def __init__(self):\n",
    "        self.__storage = List()"
   ]
  },
  {
   "cell_type": "markdown",
   "metadata": {},
   "source": [
    "### 객체 지향 프로그래밍에서 상속은 기존 기능을 재활용 하는 강력하고 손쉬운 수단이다. 기존 클래스를 상속하여 입맛에 맞게 오버라이드하거나 새 기능을 추가하면 된다. <br> 하지만 상속이 혼란과 복잡도를 키우는 방식으로 이뤄질 때도 많다.<br> 상속을 잘못 적용한 예는 자바의 스택 클래스가 유명하다. 리스트를 상속받게 구현되어 있는데, 리스트에서만 사용되는 인터페이스들이 스택에도 나타나게 되어 별로인 형태이다.<br> 차라리 위 처럼 스택안에 멤버 변수로 리스트를 가지고 구현을 해둔 것이 더 좋을 수도 있다.<br> 또한 슈퍼클래스의 인스턴스를 사용하는 모든 곳에는 서브 클래스의 인스턴스를 그대로 치환해서 사용이 가능 해야한다. <br> 그렇지 않게 구현이 되어 있는 경우라면 위임을 통해서 동일한 기능을 구현할 수 있다.<br> "
   ]
  },
  {
   "cell_type": "markdown",
   "metadata": {},
   "source": [
    "# Example"
   ]
  },
  {
   "cell_type": "code",
   "execution_count": 3,
   "metadata": {},
   "outputs": [],
   "source": [
    "class CatalogItem:\n",
    "    def __init__(self, id_, title, tags):\n",
    "        self.__id = id\n",
    "        self.__title = title\n",
    "        self.__tags = tags\n",
    "        \n",
    "    @property\n",
    "    def id(self):\n",
    "        return self.__id\n",
    "    @property\n",
    "    def title(self):\n",
    "        return self.__title\n",
    "    @property\n",
    "    def tags(self):\n",
    "        return self.__tags\n",
    "    def hasTag(arg):\n",
    "        return arg in self.__tags\n",
    "    \n",
    "class Scroll(CatalogItem):\n",
    "    def __init__(self, id_, title, tags, dateLastCleaned):\n",
    "        super(Scroll, self).__init__(id_, title, tags)\n",
    "        self.__lastCleand = dateLastCleaned\n",
    "        \n",
    "    def needsCleaning(targetDate):\n",
    "        threshold = 700 if self.hasTag('reversed') else 1500\n",
    "        self.daysSinceLastCleaning(targetDate) > threshold\n",
    "    \n",
    "    def daysSinceLastCleaning(targetDate):\n",
    "        return self.__lastCleand.until(targetDate, 0)"
   ]
  },
  {
   "cell_type": "code",
   "execution_count": 4,
   "metadata": {},
   "outputs": [],
   "source": [
    "class CatalogItem:\n",
    "    def __init__(self, id_, title, tags):\n",
    "        self.__id = id\n",
    "        self.__title = title\n",
    "        self.__tags = tags\n",
    "        \n",
    "    @property\n",
    "    def id(self):\n",
    "        return self.__id\n",
    "    @property\n",
    "    def title(self):\n",
    "        return self.__title\n",
    "    @property\n",
    "    def tags(self):\n",
    "        return self.__tags\n",
    "    def hasTag(arg):\n",
    "        return arg in self.__tags\n",
    "    \n",
    "class Scroll(CatalogItem):\n",
    "    def __init__(self, id_, title, tags, dateLastCleaned):\n",
    "        self.__catalogItem = CatalogItem(id_, title, tags)\n",
    "        self.__lastCleand = dateLastCleaned\n",
    "        \n",
    "    def hasTag(arg):\n",
    "        return self.__catalogItem.hasTag(arg)\n",
    "    \n",
    "    def needsCleaning(targetDate):\n",
    "        threshold = 700 if self.hasTag('reversed') else 1500\n",
    "        self.daysSinceLastCleaning(targetDate) > threshold\n",
    "    \n",
    "    def daysSinceLastCleaning(targetDate):\n",
    "        return self.__lastCleand.until(targetDate, 0)"
   ]
  },
  {
   "cell_type": "code",
   "execution_count": null,
   "metadata": {},
   "outputs": [],
   "source": []
  }
 ],
 "metadata": {
  "kernelspec": {
   "display_name": "Python 3",
   "language": "python",
   "name": "python3"
  },
  "language_info": {
   "codemirror_mode": {
    "name": "ipython",
    "version": 3
   },
   "file_extension": ".py",
   "mimetype": "text/x-python",
   "name": "python",
   "nbconvert_exporter": "python",
   "pygments_lexer": "ipython3",
   "version": "3.6.5"
  }
 },
 "nbformat": 4,
 "nbformat_minor": 2
}
