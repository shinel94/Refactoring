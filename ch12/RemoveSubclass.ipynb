{
 "cells": [
  {
   "cell_type": "code",
   "execution_count": 2,
   "metadata": {},
   "outputs": [],
   "source": [
    "class Person:\n",
    "    @property\n",
    "    def genderCode(self):\n",
    "        return 'X'\n",
    "class Male(Person):\n",
    "    @property\n",
    "    def genderCode(self):\n",
    "        return 'M'\n",
    "class Female(Person):\n",
    "    @property\n",
    "    def genderCode(self):\n",
    "        return 'W'\n"
   ]
  },
  {
   "cell_type": "code",
   "execution_count": 3,
   "metadata": {},
   "outputs": [],
   "source": [
    "class Person:\n",
    "    def __inot__(self, gendercode):\n",
    "        self.__genderCode = gendercode\n",
    "    @property\n",
    "    def genderCode(self):\n",
    "        return self.__genderCode"
   ]
  },
  {
   "cell_type": "markdown",
   "metadata": {},
   "source": [
    "### 서브클래싱은 원래 데이터 구조와는 다른 변종을 만들거나 종류에 따라 동작이 달라지게 할 수 있는 유용한 메커니즘이다. <br> 다름을 프로그래밍하는 멋진 수단중 하나이기 때문이다. <br> 하지만 소프트웨어 시스템이 성장함에 따라 서브클래스로 만든 변종이 다른 모듈로 이동하거나 완전히 사라지기도 하면서 <br>  그 가치가 바래지기도 한다, 특정 서브클래스들은 결국 한 번도 활용되지 않기도 하며, 때론 서브클래스를 필요로 하지 않는 방식으로 만들어진 기능에서만 쓰이기도 한다. <br> 따라서 더이상 쓰지 않는 서브클래스를 만날때는 주저 없이 없애고, 슈퍼클래스의 멤버변수등으로 치환하는 것이 좋다."
   ]
  },
  {
   "cell_type": "markdown",
   "metadata": {},
   "source": [
    "## 절차\n",
    "\n",
    "### 1. 서브클래스와 생성자를 팩터리 함수로 바꾼다. → 생성자를 사용하는 측에서 데이터 필드를 이용해 어떤 서브클래스를 생성할지 결정한다면 그 결정로직을 슈퍼클래스의 팩터리 메서드에 넣는다. <br> \n",
    "\n",
    "### 2. 서브클래스의 타입을 검사하는 코드가 있다면 그 검사 코드에 함수 추출하기아 함수 옮기기를 차례로 적용하여 슈퍼클래스로 옮긴다. 하나가 변경될때마다 테스트한다. <br>\n",
    "\n",
    "### 3. 서브클래스의 타입을 나타내는 필드를 슈퍼클래스에 만든다. <br>\n",
    "\n",
    "### 4. 서브클래스를 참조하는 메서드가 방금 만든 타입 필드를 이용하도록 수정한다. <br>\n",
    " \n",
    "### 5. 서브클래스를 지운다.<br>\n",
    " \n",
    "### 6. 테스트한다.<br>"
   ]
  },
  {
   "cell_type": "code",
   "execution_count": 4,
   "metadata": {},
   "outputs": [],
   "source": [
    "class Person:\n",
    "    @property\n",
    "    def genderCode(self):\n",
    "        return 'X'\n",
    "class Male(Person):\n",
    "    @property\n",
    "    def genderCode(self):\n",
    "        return 'M'\n",
    "class Female(Person):\n",
    "    @property\n",
    "    def genderCode(self):\n",
    "        return 'W'\n"
   ]
  },
  {
   "cell_type": "code",
   "execution_count": 5,
   "metadata": {},
   "outputs": [],
   "source": [
    "class Person:\n",
    "    def __inot__(self, gendercode):\n",
    "        self.__genderCode = gendercode\n",
    "    @property\n",
    "    def genderCode(self):\n",
    "        return self.__genderCode"
   ]
  },
  {
   "cell_type": "code",
   "execution_count": null,
   "metadata": {},
   "outputs": [],
   "source": []
  }
 ],
 "metadata": {
  "kernelspec": {
   "display_name": "Python 3",
   "language": "python",
   "name": "python3"
  },
  "language_info": {
   "codemirror_mode": {
    "name": "ipython",
    "version": 3
   },
   "file_extension": ".py",
   "mimetype": "text/x-python",
   "name": "python",
   "nbconvert_exporter": "python",
   "pygments_lexer": "ipython3",
   "version": "3.6.5"
  }
 },
 "nbformat": 4,
 "nbformat_minor": 2
}
