{
 "cells": [
  {
   "cell_type": "code",
   "execution_count": 2,
   "metadata": {},
   "outputs": [],
   "source": [
    "class Employee:\n",
    "    def __init__(self, name, type_):\n",
    "        self.__name = name\n",
    "        self.__type = type_\n",
    "    @property\n",
    "    def name(self):\n",
    "        return self.__name\n",
    "    @property\n",
    "    def type(self):\n",
    "        return self.__type\n",
    "    \n",
    "    def method(self):\n",
    "        if self.type == 'engineer':\n",
    "            print('engineer')\n",
    "            \n",
    "        elif self.type == 'salesperson':\n",
    "            print('salesperson')\n",
    "            \n",
    "        elif self.type == 'manager':\n",
    "            print('manager')\n",
    "def createEmployee(name, type_):\n",
    "    return Employee(name, type_)"
   ]
  },
  {
   "cell_type": "code",
   "execution_count": 4,
   "metadata": {},
   "outputs": [],
   "source": [
    "class Employee:\n",
    "    def __init__(self, name):\n",
    "        self.__name = name\n",
    "    @property\n",
    "    def name(self):\n",
    "        return self.__name\n",
    "class Engineer(Employee):\n",
    "    pass\n",
    "class Salesperson(Employee):\n",
    "    pass\n",
    "class Manager(Employee):\n",
    "    pass\n",
    "def createEmployee(name, type_):\n",
    "    if type == 'engineer':\n",
    "        return Engineer(name)\n",
    "\n",
    "    elif type == 'salesperson':\n",
    "        return Salesperson(name)\n",
    "\n",
    "    elif type == 'manager':\n",
    "        return Manager(name)"
   ]
  },
  {
   "cell_type": "markdown",
   "metadata": {},
   "source": [
    "### 소프트웨어 시스템에서는 비슷한 대상들을 특정 특성에 따라 구분해야 할 때가 자주 있다. <br> 이때 특성을 타입코드로 필드를 가지고 처리하게 할 수 있다. <br> 이때 타입 코드필드로 객체를 관리해도 되지만 서브클래스로 관리를 진행하면 두가지 매력적인 점이 있다. <br>  첫번째로는 조건에 따라서 다르게 동작하도록 해주는 다형성을 가질 수 있게 된다.<br> 특히 여러개의 함수에서 타입으로 관리해서 사용한다면, 코드가 복잡해질 우려가 있는데, <br> 다형성으로 손쉽게 관리가 가능하다. <br> 두번째는 특정 타입에서만 의미가 있는 값을 사용하는 필드나 메서드가 있을때, 보다 코드를 명확하게 관리할 수 있다. <br> 해당 특정 메서드나 필드를 슈퍼클래스에서 사용하는 서브클래스로 옮기게 되면 관리적인 측면에도 보다 좋고, 코드를 읽을때도 보다 명확해진다. <br> "
   ]
  },
  {
   "cell_type": "markdown",
   "metadata": {},
   "source": [
    "## 절차\n",
    "\n",
    "### 1. 타입 코드 필드를 자가 캡슐화한다. <br> \n",
    "\n",
    "### 2. 타입 코드 값 하나를 선택하여 그 값에 해당하는 서브클래스를 만든다. 타입 코드 게터 메서드를 오버라이드하여 해당 타입 코드의 리터럴 값을 반환하게 한다. <br>\n",
    "\n",
    "### 3. 매개변수로 받은 타입 코드와 방금 만든 서브클래스를 매핑하는 선택 로직을 만든다. <br>\n",
    "\n",
    "### 4. 테스트한다. <br>\n",
    " \n",
    "### 5. 타입 코드 값 각각에 대해 서브클래스 생성과 선택 로직 추가를 반복한다. 클래스 하나가 완성될 때마다 테스트한다. <br>\n",
    " \n",
    "### 6. 타입 코드 필드를 제거한다.<br>\n",
    "\n",
    "### 7. 테스트한다.<br>\n",
    "\n",
    "### 8. 타입 코드 접근자를 이용하는 메서드 모두에 메서드 내리기와 조건부 로직을 다형성으로 바꾸기를 적용한다.<br>"
   ]
  },
  {
   "cell_type": "code",
   "execution_count": 8,
   "metadata": {},
   "outputs": [],
   "source": [
    "class Employee:\n",
    "    def __init__(self, name, type_):\n",
    "        self.__name = name\n",
    "        self.__type = type_\n",
    "    @property\n",
    "    def name(self):\n",
    "        return self.__name\n",
    "    @property\n",
    "    def type(self):\n",
    "        return self.__type\n",
    "    \n",
    "    def method(self):\n",
    "        if self.type == 'engineer':\n",
    "            print('engineer')\n",
    "            \n",
    "        elif self.type == 'salesperson':\n",
    "            print('salesperson')\n",
    "            \n",
    "        elif self.type == 'manager':\n",
    "            print('manager')\n",
    "def createEmployee(name, type_):\n",
    "    return Employee(name, type_)"
   ]
  },
  {
   "cell_type": "code",
   "execution_count": 10,
   "metadata": {},
   "outputs": [],
   "source": [
    "class Employee:\n",
    "    def __init__(self, name):\n",
    "        self.__name = name\n",
    "    @property\n",
    "    def name(self):\n",
    "        return self.__name\n",
    "class Engineer(Employee):\n",
    "    pass\n",
    "class Salesperson(Employee):\n",
    "    pass\n",
    "class Manager(Employee):\n",
    "    pass\n",
    "def createEmployee(name, type_):\n",
    "    if type == 'engineer':\n",
    "        return Engineer(name)\n",
    "\n",
    "    elif type == 'salesperson':\n",
    "        return Salesperson(name)\n",
    "\n",
    "    elif type == 'manager':\n",
    "        return Manager(name)\n",
    "    else:\n",
    "        raise ValueError(f\"{type_} 유형의 직원은 없습니다.\")"
   ]
  }
 ],
 "metadata": {
  "kernelspec": {
   "display_name": "Python 3",
   "language": "python",
   "name": "python3"
  },
  "language_info": {
   "codemirror_mode": {
    "name": "ipython",
    "version": 3
   },
   "file_extension": ".py",
   "mimetype": "text/x-python",
   "name": "python",
   "nbconvert_exporter": "python",
   "pygments_lexer": "ipython3",
   "version": "3.6.5"
  }
 },
 "nbformat": 4,
 "nbformat_minor": 2
}
