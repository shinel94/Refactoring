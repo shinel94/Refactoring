{
 "cells": [
  {
   "cell_type": "code",
   "execution_count": 1,
   "metadata": {},
   "outputs": [],
   "source": [
    "class Party:\n",
    "    pass\n",
    "\n",
    "class Employee(Party):\n",
    "    def __init__(self, name, id_, monthlyCost):\n",
    "        super(Employee, self).__init__()\n",
    "        self.__id = id_\n",
    "        self.__name = name\n",
    "        self.__monthlyCost = monthlyCost\n",
    "        "
   ]
  },
  {
   "cell_type": "code",
   "execution_count": 2,
   "metadata": {},
   "outputs": [],
   "source": [
    "class Party:\n",
    "    def __init__(self, name):\n",
    "        self.__name = name\n",
    "\n",
    "class Employee(Party):\n",
    "    def __init__(self, name, id_, monthlyCost):\n",
    "        super(Employee, self).__init__(name)\n",
    "        self.__id = id_\n",
    "        self.__monthlyCost = monthlyCost\n",
    "        "
   ]
  },
  {
   "cell_type": "markdown",
   "metadata": {},
   "source": [
    "### 생성자는 다루기 까다롭다. 일반 메서드와는 많이 달라서, 생성자에서 하는 일은 필드를 초기화 하는 등 행동만을 수행하는 등 추가적인 행동을 제약하는 것이 좋다. <br> 서브클래스들에서 기능이 같은 메서드들을 발견하면 함수 추출하기와 메서드 올리기를 차례로 적용하여 말끔히 슈퍼클래스로 옮기는 것이 좋은데,  <br>  그 메서드가 생성자라면 스텝이 꼬일 수 있다. 생성자는 하는 일 과 호출 순서에 제약이 있기 때문에 조금 다른 식으로 접근을 해야한다. <br> "
   ]
  },
  {
   "cell_type": "markdown",
   "metadata": {},
   "source": [
    "## 절차\n",
    "\n",
    "### 1. 슈퍼클래스에 생성자가 없다면 하나 정의한다. 서브클래스의 생성자들에서 이 생성자가 호출되는지 확인한다. <br> \n",
    "\n",
    "### 2. 문장 슬라이스하기로 공통 문장을 모두 super 클래스의 생성자 호출 직후로 옮긴다. <br>\n",
    "\n",
    "### 3. 공통 코드를 슈퍼클래스에 추가하고 서브클래스들에서는 제거한다. 생성자 매개변수 중 공통 코드에서 참조하는 값들을 모두 슈퍼클래스 생성자로 건넨다. <br>\n",
    "\n",
    "### 4. 테스트한다. <br>\n",
    " \n",
    "### 5. 생성자 시작 부분으로 옮길 수 없는 공통 코드에는 함수 추출하기와 메서드 올리기를 차례로 적용한다. <br>"
   ]
  },
  {
   "cell_type": "code",
   "execution_count": 5,
   "metadata": {},
   "outputs": [],
   "source": [
    "class Party:\n",
    "    pass\n",
    "\n",
    "class Employee(Party):\n",
    "    def __init__(self, name, id_, monthlyCost):\n",
    "        super(Employee, self).__init__()\n",
    "        self._id = id_\n",
    "        self._name = name\n",
    "        self._monthlyCost = monthlyCost\n",
    "\n",
    "class Department(Party):\n",
    "    def __init__(self, name, staff):\n",
    "        super(Department, self).__init__()\n",
    "        self._name = name\n",
    "        self._staff = staff"
   ]
  },
  {
   "cell_type": "code",
   "execution_count": 6,
   "metadata": {},
   "outputs": [],
   "source": [
    "class Party:\n",
    "    def __init__(self, name):\n",
    "        self._name = name\n",
    "\n",
    "\n",
    "class Employee(Party):\n",
    "    def __init__(self, name, id_, monthlyCost):\n",
    "        super(Employee, self).__init__(name)\n",
    "        self._id = id_\n",
    "        self._monthlyCost = monthlyCost\n",
    "\n",
    "class Department(Party):\n",
    "    def __init__(self, name, staff):\n",
    "        super(Department, self).__init__(name)\n",
    "        self._staff = staff"
   ]
  }
 ],
 "metadata": {
  "kernelspec": {
   "display_name": "Python 3",
   "language": "python",
   "name": "python3"
  },
  "language_info": {
   "codemirror_mode": {
    "name": "ipython",
    "version": 3
   },
   "file_extension": ".py",
   "mimetype": "text/x-python",
   "name": "python",
   "nbconvert_exporter": "python",
   "pygments_lexer": "ipython3",
   "version": "3.6.5"
  }
 },
 "nbformat": 4,
 "nbformat_minor": 2
}
