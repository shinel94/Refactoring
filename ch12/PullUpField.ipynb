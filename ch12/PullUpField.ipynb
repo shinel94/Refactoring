{
 "cells": [
  {
   "cell_type": "code",
   "execution_count": 1,
   "metadata": {},
   "outputs": [],
   "source": [
    "class Employee:\n",
    "    pass\n",
    "\n",
    "class Salesperson(Employee):\n",
    "    def __init__(self):\n",
    "        self.__name = None\n",
    "\n",
    "class Engineer(Employee):\n",
    "    def __init__(self):\n",
    "        self.__name = None\n"
   ]
  },
  {
   "cell_type": "code",
   "execution_count": 2,
   "metadata": {},
   "outputs": [],
   "source": [
    "class Employee:\n",
    "    def __init__(self):\n",
    "        self.__name = None\n",
    "\n",
    "class Salesperson(Employee):\n",
    "    def __init__(self):\n",
    "        super(Salesperson, self).__init__()\n",
    "\n",
    "class Engineer(Employee):\n",
    "    def __init__(self):\n",
    "        super(Engineer, self).__init__()\n"
   ]
  },
  {
   "cell_type": "markdown",
   "metadata": {},
   "source": [
    "### 서브클래스들이 독립적으로 개발되다가, 하나의 계층구조로 리팩터링되는 경우에 일부 메서드나 일부 멤버 변수들이 중복될 수 있다. <br> 보통 필드이름을 동일하게 작성하게 되기 마련이지만, 그렇지 않은 경우도 빈번하게 있기 때문에, <br>코드를 파악해서 동일한 방식으로 쓰이는 것으로 판단된다면, <br>이름을 변경하고 상위클래스 멤버 변수로 옮기는 것이 좋다.<br> 이렇게 하면 데이터 중복 선언(파이썬의 경우는 상관없음)을 줄일 수 있고, 또한 해당 필드를 사용하는 동작을 서브클래스에서 슈퍼클래스로 옮길 수 있다.<br>"
   ]
  },
  {
   "cell_type": "markdown",
   "metadata": {},
   "source": [
    "## 절차\n",
    "\n",
    "### 1. 후보 필드들을 사용하는 곳 모두가 그 필드들을 똑같은 방식으로 사용하는지 면밀히 살핀다. <br> \n",
    "\n",
    "### 2. 필드들의 이름이 각기 다르다면 똑같은 이름으로 바꾼다 <br>\n",
    "\n",
    "### 3. 슈퍼클래스에 새로운 필드를 생성한다. 이때 슈퍼클래스에서 선언한 변수에 접근이 가능해야 한다. <br>\n",
    "\n",
    "### 4. 서브클래스의 필드들을 제거한다. <br>\n",
    " \n",
    "### 5. 테스트한다. <br>"
   ]
  },
  {
   "cell_type": "code",
   "execution_count": null,
   "metadata": {},
   "outputs": [],
   "source": []
  }
 ],
 "metadata": {
  "kernelspec": {
   "display_name": "Python 3",
   "language": "python",
   "name": "python3"
  },
  "language_info": {
   "codemirror_mode": {
    "name": "ipython",
    "version": 3
   },
   "file_extension": ".py",
   "mimetype": "text/x-python",
   "name": "python",
   "nbconvert_exporter": "python",
   "pygments_lexer": "ipython3",
   "version": "3.6.5"
  }
 },
 "nbformat": 4,
 "nbformat_minor": 2
}
