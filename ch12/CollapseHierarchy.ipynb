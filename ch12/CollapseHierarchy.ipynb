{
 "cells": [
  {
   "cell_type": "code",
   "execution_count": 1,
   "metadata": {},
   "outputs": [],
   "source": [
    "class Employee:\n",
    "    pass\n",
    "class Salesperson(Employee):\n",
    "    pass"
   ]
  },
  {
   "cell_type": "code",
   "execution_count": 2,
   "metadata": {},
   "outputs": [],
   "source": [
    "class Employee:\n",
    "    pass"
   ]
  },
  {
   "cell_type": "markdown",
   "metadata": {},
   "source": [
    "### 클래스 계층구조를 리팩터링하다 보면 기능들을 위로 올리거나 아래로 내리는 일은 다반사로 벌어진다. <br> 예컨대 계층구조도 진화하면서 어떤 클래스와 그 부모가 너무 비슷해져서 더는 구분해서 사용할 필요가 없어질 때 <br> 주저하지 않고 두개의 클래스를 합쳐 코드를 정리하면 좋다."
   ]
  },
  {
   "cell_type": "markdown",
   "metadata": {},
   "source": [
    "## 절차\n",
    "\n",
    "### 1. 두 클래스 중 제거할 것을 고른다. 이때 골라질 클래스는 명확한 이름을 가지고 있어야 나중에 탈이 없다. <br> \n",
    "\n",
    "### 2. 필드 올리기와 메서드 올리기 혹은 필드 내리기와 메서드 내리기를 적절히 활용하여 모든 요소를 하나의 클래스로 모은다. <br>\n",
    "\n",
    "### 3. 제거할 클래스를 참조하던 모든 코드가 남겨질 클래스를 참조하도록 고친다. <br>\n",
    "\n",
    "### 4. 빈 클래스를 제거한다. <br>\n",
    " \n",
    "### 5. 테스트한다. <br>"
   ]
  },
  {
   "cell_type": "code",
   "execution_count": null,
   "metadata": {},
   "outputs": [],
   "source": []
  }
 ],
 "metadata": {
  "kernelspec": {
   "display_name": "Python 3",
   "language": "python",
   "name": "python3"
  },
  "language_info": {
   "codemirror_mode": {
    "name": "ipython",
    "version": 3
   },
   "file_extension": ".py",
   "mimetype": "text/x-python",
   "name": "python",
   "nbconvert_exporter": "python",
   "pygments_lexer": "ipython3",
   "version": "3.6.5"
  }
 },
 "nbformat": 4,
 "nbformat_minor": 2
}
