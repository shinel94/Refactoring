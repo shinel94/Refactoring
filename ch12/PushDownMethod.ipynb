{
 "cells": [
  {
   "cell_type": "code",
   "execution_count": 1,
   "metadata": {},
   "outputs": [],
   "source": [
    "class Employee:\n",
    "    \n",
    "    @property\n",
    "    def quota(self):\n",
    "        return \"pass\"\n",
    "class Engineer(Employee):\n",
    "    pass\n",
    "\n",
    "class Salesperson(Employee):\n",
    "    pass"
   ]
  },
  {
   "cell_type": "code",
   "execution_count": 3,
   "metadata": {},
   "outputs": [
    {
     "name": "stdout",
     "output_type": "stream",
     "text": [
      "pass\n"
     ]
    }
   ],
   "source": [
    "eng = Engineer()\n",
    "sal = Salesperson()\n",
    "print(sal.quota)"
   ]
  },
  {
   "cell_type": "code",
   "execution_count": 4,
   "metadata": {},
   "outputs": [],
   "source": [
    "class Employee:\n",
    "    pass\n",
    "class Engineer(Employee):\n",
    "    pass\n",
    "\n",
    "class Salesperson(Employee):\n",
    "    \n",
    "    @property\n",
    "    def quota(self):\n",
    "        return \"pass\""
   ]
  },
  {
   "cell_type": "code",
   "execution_count": 5,
   "metadata": {},
   "outputs": [
    {
     "name": "stdout",
     "output_type": "stream",
     "text": [
      "pass\n"
     ]
    }
   ],
   "source": [
    "eng = Engineer()\n",
    "sal = Salesperson()\n",
    "print(sal.quota)"
   ]
  },
  {
   "cell_type": "markdown",
   "metadata": {},
   "source": [
    "### 특정 서브클래스 하나(혹은 소수)와만 관련된 메서드는 슈퍼클래스에서 제거하고 해당 서브클래스 들에만 추가하는 것이 코드를 보기가 좋다. <br> 이 리팩터링은 해당 기능을 제공하는 서브클래스가 정확히 무엇인지를 호출자가 알고 있을 때만 적용할 수 있다. <br>  그렇지 못한 상황이라면 서브클래스에 따라 다르게 동작하는 슈퍼클래스의 기만적인 조건부 로직을 다형성으로 바꿔야 한다. <br> "
   ]
  },
  {
   "cell_type": "markdown",
   "metadata": {},
   "source": [
    "## 절차\n",
    "\n",
    "### 1. 대상 메서드를 모든 서브클래스에 복사한다. <br> \n",
    "\n",
    "### 2. 슈퍼클레스에서 그 메서드를 제거한다. <br>\n",
    "\n",
    "### 3. 테스트한다. <br>\n",
    "\n",
    "### 4. 이 메서드를 사용하지 않는 모든 서브클래스에서 제거한다. <br>\n",
    " \n",
    "### 5. 테스트한다. <br>"
   ]
  },
  {
   "cell_type": "code",
   "execution_count": null,
   "metadata": {},
   "outputs": [],
   "source": []
  }
 ],
 "metadata": {
  "kernelspec": {
   "display_name": "Python 3",
   "language": "python",
   "name": "python3"
  },
  "language_info": {
   "codemirror_mode": {
    "name": "ipython",
    "version": 3
   },
   "file_extension": ".py",
   "mimetype": "text/x-python",
   "name": "python",
   "nbconvert_exporter": "python",
   "pygments_lexer": "ipython3",
   "version": "3.6.5"
  }
 },
 "nbformat": 4,
 "nbformat_minor": 2
}
