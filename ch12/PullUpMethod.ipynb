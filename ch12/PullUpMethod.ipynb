{
 "cells": [
  {
   "cell_type": "code",
   "execution_count": 1,
   "metadata": {},
   "outputs": [],
   "source": [
    "class Employee:\n",
    "    pass\n",
    "\n",
    "class Salesperson(Employee):\n",
    "    def __init__(self):\n",
    "        self.__name = '이름'\n",
    "    @property\n",
    "    def name(self):\n",
    "        return self.__name\n",
    "    \n",
    "    \n",
    "class Engineer(Employee):\n",
    "    def __init__(self):\n",
    "        self.__name = '이름'\n",
    "    @property\n",
    "    def name(self):\n",
    "        return self.__name\n",
    "    \n",
    "    "
   ]
  },
  {
   "cell_type": "code",
   "execution_count": 2,
   "metadata": {},
   "outputs": [],
   "source": [
    "class Employee:\n",
    "    def __init__(self):\n",
    "        self.__name = '이름'\n",
    "    @property\n",
    "    def name(self):\n",
    "        return self.__name\n",
    "    \n",
    "\n",
    "class Salesperson(Employee):\n",
    "    pass\n",
    "\n",
    "    \n",
    "class Engineer(Employee):\n",
    "    pass"
   ]
  },
  {
   "cell_type": "markdown",
   "metadata": {},
   "source": [
    "### 중복 코드 제거는 중요하다. 중복된 두 메서드가 당장은 문젱벗이 동작할지라도 미래에는 벌레가 꼬이는 음식물 쓰레기로 전락할 수 있다. <br> 무언가 중복되었다는 것은 한쪽의 변경이 다른쪽에는 반영되지 않아서, 코드의 일치성에 손상이 가는 위험을 수반하게 되며, <br>  또한 하나를 고치는 과정에서 중복이 있다는 것을 인지하는 것은 쉽지 않다. <br> 메서드 올리기를 적용하기 가장 쉬운 상황은 메서드들의 본문 코드가 똑같다면 그냥 복사를해서 슈퍼클래스로 옮기면 된다. <br>  이때 슈퍼클래스에 올리기전에 메서드에서 사용하는 매개변수 또는 변수가 서브클래스에서만 사용하는 필드변수인지를 확인해야 한다. <br> 이럴때는 해당 필드를 슈퍼클래스의 필드변수로 올려준 뒤 메서드를 올린다. "
   ]
  },
  {
   "cell_type": "markdown",
   "metadata": {},
   "source": [
    "## 절차\n",
    "\n",
    "### 1. 똑같이 동작하는 메서드인지 면밀히 살펴본다. → 실제로 하는 일은 같지만 함수 구현이 다르다면 리팩터링을 통해서 함수를 일치시킨다. <br> \n",
    "\n",
    "### 2. 메서드 안에서 호출하는 다른 메서드와 참조하는 필드들을 슈퍼클래스에서도 호출하고 참조할 수 있는지 확인한다. <br>\n",
    "\n",
    "### 3. 메서드 시그니처가 다르다면 함수 선언 바꾸기로 슈퍼클래스에서 사용하고 싶은 형태로 통일한다. <br>\n",
    "\n",
    "### 4. 슈퍼클래스에 새로운 메서드를 생성하고, 대상 메서드의 코드를 복사해서넣는다. <br>\n",
    " \n",
    "### 5. 정적 검사를 수행한다. <br>\n",
    "\n",
    "### 6. 서브클래스 중 하나의 메서드를 제거한다. <br>\n",
    "\n",
    "### 7. 테스트한다. <br>\n",
    "\n",
    "### 8. 모든 서브클래스의 메서드가 없어질 때까지 다른 서브클래스의 메서드를 하나씩 제거한다. <br>"
   ]
  },
  {
   "cell_type": "markdown",
   "metadata": {},
   "source": [
    "# Example"
   ]
  },
  {
   "cell_type": "code",
   "execution_count": 7,
   "metadata": {},
   "outputs": [],
   "source": [
    "class Party:\n",
    "    def __init__(self):\n",
    "        pass\n",
    "    \n",
    "class Employee(Party):\n",
    "    def __init__(self, value):\n",
    "        self.__monthlyCost = value\n",
    "    \n",
    "    @property\n",
    "    def annualCost(self):\n",
    "        return self.__monthlyCost * 12\n",
    "    \n",
    "class Department(Party):\n",
    "    def __init__(self, value):\n",
    "        self.__monthlyCost = value\n",
    "    \n",
    "    @property\n",
    "    def totalAnnualCost(self):\n",
    "        return self.__monthlyCost * 12\n",
    "\n",
    "    "
   ]
  },
  {
   "cell_type": "code",
   "execution_count": 8,
   "metadata": {},
   "outputs": [
    {
     "name": "stdout",
     "output_type": "stream",
     "text": [
      "120\n",
      "120\n"
     ]
    }
   ],
   "source": [
    "print(Employee(10).annualCost)\n",
    "print(Department(10).totalAnnualCost)"
   ]
  },
  {
   "cell_type": "code",
   "execution_count": 9,
   "metadata": {},
   "outputs": [],
   "source": [
    "class Party:\n",
    "    def __init__(self):\n",
    "        pass\n",
    "    \n",
    "class Employee(Party):\n",
    "    def __init__(self, value):\n",
    "        self.__monthlyCost = value\n",
    "    \n",
    "    @property\n",
    "    def annualCost(self):\n",
    "        return self.__monthlyCost * 12\n",
    "    \n",
    "class Department(Party):\n",
    "    def __init__(self, value):\n",
    "        self.__monthlyCost = value\n",
    "    \n",
    "    @property\n",
    "    def annualCost(self):\n",
    "        return self.__monthlyCost * 12\n",
    "\n",
    "    "
   ]
  },
  {
   "cell_type": "code",
   "execution_count": 10,
   "metadata": {},
   "outputs": [
    {
     "name": "stdout",
     "output_type": "stream",
     "text": [
      "120\n",
      "120\n"
     ]
    }
   ],
   "source": [
    "print(Employee(10).annualCost)\n",
    "print(Department(10).annualCost)"
   ]
  },
  {
   "cell_type": "code",
   "execution_count": 28,
   "metadata": {},
   "outputs": [],
   "source": [
    "class Party:\n",
    "    def __init__(self):\n",
    "        pass\n",
    "    \n",
    "    @property\n",
    "    def annualCost(self):\n",
    "        return self.monthlyCost * 12\n",
    "    @property\n",
    "    def monthlyCost(self):\n",
    "        raise NotImplementedError\n",
    "    \n",
    "    \n",
    "class Employee(Party):\n",
    "    def __init__(self):\n",
    "        super(Employee, self).__init__()\n",
    "        self.__monthlyCost = 0\n",
    "        \n",
    "    @property\n",
    "    def monthlyCost(self):\n",
    "        return self.__monthlyCost\n",
    "        \n",
    "    @monthlyCost.setter\n",
    "    def monthlyCost(self, value):\n",
    "        self.__monthlyCost = value\n",
    "    \n",
    "class Department(Party):\n",
    "    def __init__(self):\n",
    "        super(Department, self).__init__()\n",
    "        self.__monthlyCost = 0\n",
    "        \n",
    "    @property\n",
    "    def monthlyCost(self):\n",
    "        return self.__monthlyCost\n",
    "    \n",
    "    @monthlyCost.setter\n",
    "    def monthlyCost(self, value):\n",
    "        self.__monthlyCost = value\n",
    "\n",
    "    "
   ]
  },
  {
   "cell_type": "code",
   "execution_count": 29,
   "metadata": {},
   "outputs": [],
   "source": [
    "employee = Employee()\n",
    "department = Department()"
   ]
  },
  {
   "cell_type": "code",
   "execution_count": 30,
   "metadata": {},
   "outputs": [
    {
     "name": "stdout",
     "output_type": "stream",
     "text": [
      "360\n",
      "480\n"
     ]
    }
   ],
   "source": [
    "employee.monthlyCost = 30\n",
    "print(employee.annualCost)\n",
    "department.monthlyCost = 40\n",
    "print(department.annualCost)"
   ]
  }
 ],
 "metadata": {
  "kernelspec": {
   "display_name": "Python 3",
   "language": "python",
   "name": "python3"
  },
  "language_info": {
   "codemirror_mode": {
    "name": "ipython",
    "version": 3
   },
   "file_extension": ".py",
   "mimetype": "text/x-python",
   "name": "python",
   "nbconvert_exporter": "python",
   "pygments_lexer": "ipython3",
   "version": "3.6.5"
  }
 },
 "nbformat": 4,
 "nbformat_minor": 2
}
