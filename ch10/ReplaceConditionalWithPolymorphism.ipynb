{
 "cells": [
  {
   "cell_type": "code",
   "execution_count": 8,
   "metadata": {},
   "outputs": [],
   "source": [
    "def main(bird):\n",
    "    if bird.type == '유럽 제비':\n",
    "        return '보통이다'\n",
    "    elif bird.type == '아프리카 제비':\n",
    "        return '지쳤다' if bird.numberOfCoconuts > 2 else \"보통이다\"\n",
    "    elif bird.type == '노르웨이 파랑 앵무':\n",
    "        return \"그을렸다\" if bird.voltage > 100 else \"예쁘다\"\n",
    "    else:\n",
    "        return \"알 수 없다.\""
   ]
  },
  {
   "cell_type": "code",
   "execution_count": 10,
   "metadata": {},
   "outputs": [],
   "source": [
    "import abc\n",
    "\n",
    "class Bird(metaclass=abc.ABCMeta):\n",
    "    \n",
    "    @abc.abstractmethod\n",
    "    def plumage(self):\n",
    "        raise NotImplementedError"
   ]
  },
  {
   "cell_type": "code",
   "execution_count": 11,
   "metadata": {},
   "outputs": [],
   "source": [
    "class EuropeanSwallow(Bird):\n",
    "    def plumage(self):\n",
    "        return \"보통이다\"\n",
    "class AfricanSwallow(Bird):\n",
    "    def plumage(self):\n",
    "        return \"지쳤다\" if  self.numberOfConconuts > 2 else \"보통이다\"\n",
    "class NorwegianBlueParrot(Bird):\n",
    "    def plumage(self):\n",
    "        return \"그을렸다\" if self.voltage > 100 else \"예쁘다\""
   ]
  },
  {
   "cell_type": "markdown",
   "metadata": {},
   "source": [
    "### 복잡한 조건부 로직은 프로그램을 이해를 어렵게 만드는 주된 요소다 <br> 이때 클래스의 다형성을 적용하면 조건문을 더 확실하게 분리 할 수 있다. <br> 조건문 또는 조건부 로직에 객체의 다형성을 적용하여 보다 직관적인 조건문을 만들 수 있으나<br> 항상 과유불급이므로 잘 조절해서 사용해야 한다."
   ]
  },
  {
   "cell_type": "markdown",
   "metadata": {},
   "source": [
    "## 절차\n",
    "\n",
    "### 1. 다형적 동작을 표현하는 클래스들이 아직 없다면 만들어준다. 이왕이면 적합한 인스턴스를 알아서 만들어 반환하는 팩터리 함수도 함께 만드다.<br>\n",
    "\n",
    "### 2. 호출하는 코드에서 팩터리 함수를 사용하게 한다.<br>\n",
    "\n",
    "### 3. 조건부 로직 함수를 슈퍼클래스로 옮긴다. <br>\n",
    "\n",
    "### 4. 서브클래스 중 하나를 선택한다. 서브클래스에서 슈퍼클래스의 조건부 로직 메서드를 오버라이드한다. 조건부 문장 중 선택된 서브클래스에 해당하는 조건절을 서브클래스 메서드로 복사한 다음 적절히 수정한다. <br>\n",
    "\n",
    "### 5. 같은 방식으로 각 조건절을 해당 서브클래스에서 메서드로 구현한다. <br>\n",
    "\n",
    "### 6. 슈퍼클래스 메서드에는 기본 동작 부분만 남긴다. 혹은 슈퍼클래스가 추상 클래스여야 한다면, 이 메서드를 추상으로 선언하거나 서브 클래스에서 오버라이드 하는 등 다시한번 처리해야 함을 명시한다. <br>"
   ]
  },
  {
   "cell_type": "code",
   "execution_count": 12,
   "metadata": {},
   "outputs": [],
   "source": [
    "def plumages(birds):\n",
    "    return [(b.name, plumage(b)) for b in birds]\n",
    "\n",
    "def speeds(birds):\n",
    "    return [(b.name, airSpeedVelocity(b)) for b in birds]"
   ]
  },
  {
   "cell_type": "code",
   "execution_count": 13,
   "metadata": {},
   "outputs": [],
   "source": [
    "def plumage(bird):\n",
    "    if bird.type == '유럽제비':\n",
    "        return \"보통이다\"\n",
    "    elif bird.type == '아프리카 제비':\n",
    "        return \"지쳤다\" if bird.numberOfCoconuts > 2 else \"보통이다\"\n",
    "    elif bird.type == '노르웨이 파랑 앵무':\n",
    "        return \"그을렸다\" if bird.voltage > 100 else \"예쁘다\"\n",
    "    else:\n",
    "        return \"알 수 없다\""
   ]
  },
  {
   "cell_type": "code",
   "execution_count": 14,
   "metadata": {},
   "outputs": [],
   "source": [
    "def airSpeedVelocity(bird):\n",
    "    if bird.type == '유럽제비':\n",
    "        return 35\n",
    "    elif bird.type == '아프리카 제비':\n",
    "        return 40 - 2 * bird.numberOfCoconuts\n",
    "    elif bird.type == '노르웨이 파랑 앵무':\n",
    "        return 0 if bird.isNailed else 10 + bird.voltage / 10\n",
    "    else:\n",
    "        return None"
   ]
  },
  {
   "cell_type": "code",
   "execution_count": 15,
   "metadata": {},
   "outputs": [],
   "source": [
    "def plumage(bird):\n",
    "    return Bird(bird).plumage\n",
    "\n",
    "def airSpeedVelocity(bird):\n",
    "    return Bird(bird).airSpeedVelocity"
   ]
  },
  {
   "cell_type": "code",
   "execution_count": 20,
   "metadata": {},
   "outputs": [],
   "source": [
    "class Bird:\n",
    "    def __init__(self, bird):\n",
    "        self = bird\n",
    "    \n",
    "    @property\n",
    "    def plumage(self):\n",
    "        if self.type == '유럽제비':\n",
    "            return \"보통이다\"\n",
    "        elif self.type == '아프리카 제비':\n",
    "            return \"지쳤다\" if self.numberOfCoconuts > 2 else \"보통이다\"\n",
    "        elif self.type == '노르웨이 파랑 앵무':\n",
    "            return \"그을렸다\" if self.voltage > 100 else \"예쁘다\"\n",
    "        else:\n",
    "            return \"알 수 없다\"\n",
    "    @property\n",
    "    def airSpeedVelocity(self):\n",
    "        if self.type == '유럽제비':\n",
    "            return 35\n",
    "        elif self.type == '아프리카 제비':\n",
    "            return 40 - 2 * self.numberOfCoconuts\n",
    "        elif self.type == '노르웨이 파랑 앵무':\n",
    "            return 0 if self.isNailed else 10 + self.voltage / 10\n",
    "        else:\n",
    "            return None"
   ]
  },
  {
   "cell_type": "code",
   "execution_count": 21,
   "metadata": {},
   "outputs": [],
   "source": [
    "def plumage(bird):\n",
    "    return createBird(bird).plumage\n",
    "\n",
    "def airSpeedVelocity(bird):\n",
    "    return createBird(bird).airSpeedVelocity"
   ]
  },
  {
   "cell_type": "code",
   "execution_count": 23,
   "metadata": {},
   "outputs": [],
   "source": [
    "def createBird(bird):\n",
    "    if self.type == '유럽제비':\n",
    "        return EuropeanSwallow(bird)\n",
    "    elif self.type == '아프리카 제비':\n",
    "        return AfricanSwallow(bird)\n",
    "    elif self.type == '노르웨이 파랑 앵무':\n",
    "        return NorwegianBlueParrot(bird)\n",
    "    else:\n",
    "        return Bird(bird)"
   ]
  },
  {
   "cell_type": "code",
   "execution_count": 24,
   "metadata": {},
   "outputs": [],
   "source": [
    "class Bird:\n",
    "    def __init__(self, bird):\n",
    "        self = bird\n",
    "    \n",
    "    @property\n",
    "    def plumage(self):\n",
    "        if self.type == '유럽제비':\n",
    "            raise NotImplementedError\n",
    "        elif self.type == '아프리카 제비':\n",
    "            return \"지쳤다\" if self.numberOfCoconuts > 2 else \"보통이다\"\n",
    "        elif self.type == '노르웨이 파랑 앵무':\n",
    "            return \"그을렸다\" if self.voltage > 100 else \"예쁘다\"\n",
    "        else:\n",
    "            return \"알 수 없다\"\n",
    "    @property\n",
    "    def airSpeedVelocity(self):\n",
    "        if self.type == '유럽제비':\n",
    "            return 35\n",
    "        elif self.type == '아프리카 제비':\n",
    "            return 40 - 2 * self.numberOfCoconuts\n",
    "        elif self.type == '노르웨이 파랑 앵무':\n",
    "            return 0 if self.isNailed else 10 + self.voltage / 10\n",
    "        else:\n",
    "            return None\n",
    "        \n",
    "class EuropeanSwallow(Bird):\n",
    "    \n",
    "    @property\n",
    "    def plumage(self):\n",
    "        return \"보통이다\""
   ]
  },
  {
   "cell_type": "code",
   "execution_count": 26,
   "metadata": {},
   "outputs": [],
   "source": [
    "class Bird:\n",
    "    def __init__(self, bird):\n",
    "        self = bird\n",
    "    \n",
    "    @property\n",
    "    def plumage(self):\n",
    "        return \"알 수 없다\"\n",
    "    @property\n",
    "    def airSpeedVelocity(self):\n",
    "        return None\n",
    "        \n",
    "class EuropeanSwallow(Bird):\n",
    "    \n",
    "    @property\n",
    "    def plumage(self):\n",
    "        return \"보통이다\"\n",
    "    \n",
    "    @property\n",
    "    def airSpeedVelocity(self):\n",
    "        return 35\n",
    "    \n",
    "class AfricanSwallow(Bird):\n",
    "    \n",
    "    @property\n",
    "    def plumage(self):\n",
    "        return \"지쳤다\" if self.numberOfCoconuts > 2 else \"보통이다\"\n",
    "    @property\n",
    "    def airSpeedVelocity(self):\n",
    "        return 40 - 2 * self.numberOfCoconuts\n",
    "    \n",
    "class NorwegianBlueParrot(Bird):\n",
    "    \n",
    "    @property\n",
    "    def plumage(self):\n",
    "        return \"그을렸다\" if self.voltage > 100 else \"예쁘다\" \n",
    "    @property\n",
    "    def airSpeedVelocity(self):\n",
    "        return 0 if self.isNailed else 10 + self.voltage / 10\n",
    "        "
   ]
  }
 ],
 "metadata": {
  "kernelspec": {
   "display_name": "Python 3",
   "language": "python",
   "name": "python3"
  },
  "language_info": {
   "codemirror_mode": {
    "name": "ipython",
    "version": 3
   },
   "file_extension": ".py",
   "mimetype": "text/x-python",
   "name": "python",
   "nbconvert_exporter": "python",
   "pygments_lexer": "ipython3",
   "version": "3.6.5"
  }
 },
 "nbformat": 4,
 "nbformat_minor": 2
}
