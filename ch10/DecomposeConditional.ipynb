{
 "cells": [
  {
   "cell_type": "markdown",
   "metadata": {},
   "source": [
    "### 복잡한 조건부 로직은 프로그램을 복잡하게 만드는 가장 흔한 원흉에 속한다. <br> 다양한 조건, 그에 따라 동작도 다양한 코드를 작성하면 순식간에 꽤 긴 함수가 생성된다. <br> 긴 함수는 그 자체로 읽기가 어렵지만, 조건문은 그 어려움을 한층 가중시킨다. <br>  조건을 검사하고 그 결과에 따른 동작을 표현하는 코드는 무슨 일이 일어나는지는 알지만, <br>  왜 그일이 일어나야 하는지는 제대로 말해주지 않을 때가 많다. <br> 이럴때 조건식과 조건 절 자체를 함수로 추출해 관리하면 보다 이해하기 쉬워진다."
   ]
  },
  {
   "cell_type": "markdown",
   "metadata": {},
   "source": [
    "## 절차\n",
    "\n",
    "### 1. 조건식과 그 조건식에 딸린 조건절 각각을 함수로 추출한다."
   ]
  },
  {
   "cell_type": "code",
   "execution_count": 3,
   "metadata": {},
   "outputs": [],
   "source": [
    "import datetime"
   ]
  },
  {
   "cell_type": "code",
   "execution_count": 10,
   "metadata": {},
   "outputs": [
    {
     "data": {
      "text/plain": [
       "True"
      ]
     },
     "execution_count": 10,
     "metadata": {},
     "output_type": "execute_result"
    }
   ],
   "source": [
    "(datetime.date(2020, 8, 7) - datetime.date(2020, 9, 7)) < datetime.timedelta(0)"
   ]
  },
  {
   "cell_type": "code",
   "execution_count": 5,
   "metadata": {},
   "outputs": [
    {
     "ename": "TypeError",
     "evalue": "an integer is required (got type str)",
     "output_type": "error",
     "traceback": [
      "\u001b[1;31m---------------------------------------------------------------------------\u001b[0m",
      "\u001b[1;31mTypeError\u001b[0m                                 Traceback (most recent call last)",
      "\u001b[1;32m<ipython-input-5-3f11ab42acfb>\u001b[0m in \u001b[0;36m<module>\u001b[1;34m()\u001b[0m\n\u001b[1;32m----> 1\u001b[1;33m \u001b[0mdatetime\u001b[0m\u001b[1;33m.\u001b[0m\u001b[0mtime\u001b[0m\u001b[1;33m(\u001b[0m\u001b[1;34m\"2020-08-07\"\u001b[0m\u001b[1;33m)\u001b[0m\u001b[1;33m\u001b[0m\u001b[0m\n\u001b[0m",
      "\u001b[1;31mTypeError\u001b[0m: an integer is required (got type str)"
     ]
    }
   ],
   "source": [
    "datetime.time(\"2020-08-07\")"
   ]
  },
  {
   "cell_type": "code",
   "execution_count": 11,
   "metadata": {},
   "outputs": [],
   "source": [
    "class Date_func:\n",
    "    def __init__(self, date):\n",
    "        self.__date = date\n",
    "    def isBefore(self, summerstart):\n",
    "        return (self.__date - summerstart) < datetime.timedelta(0)\n",
    "    \n",
    "    def isAfter(self, summerstart):\n",
    "        return (self.__date - summerstart) > datetime.timedelta(0)"
   ]
  },
  {
   "cell_type": "code",
   "execution_count": 14,
   "metadata": {},
   "outputs": [],
   "source": [
    "class Plan:\n",
    "    def __init__(self, start, end, rate):\n",
    "        self.__summerStart = start\n",
    "        self.__summerEnd = end\n",
    "        self.__summerRate = rate\n",
    "        self.regularServiceCharge = 250\n",
    "        \n",
    "    @property\n",
    "    def summerStart(self):\n",
    "        return self.__summerStart\n",
    "    \n",
    "    @property\n",
    "    def summerEnd(self):\n",
    "        return self.__summerEnd\n",
    "    \n",
    "    @property\n",
    "    def summerRate(self):\n",
    "        return self.__summerRate\n",
    "    \n",
    "    @property\n",
    "    def regularRate(self):\n",
    "        return self.__summerRate - 0.2"
   ]
  },
  {
   "cell_type": "code",
   "execution_count": 16,
   "metadata": {},
   "outputs": [],
   "source": [
    "aDate = Date_func(datetime.date(2020,8,22))\n",
    "plan = Plan(datetime.date(2020,6,1), datetime.date(2020,9,1), 1.5)\n",
    "quantity = 250"
   ]
  },
  {
   "cell_type": "code",
   "execution_count": 19,
   "metadata": {},
   "outputs": [],
   "source": [
    "\n",
    "if ~(aDate.isBefore(plan.summerStart)) and ~(aDate.isAfter(plan.summerEnd)):\n",
    "    charge = quantity * plan.summerRate\n",
    "else:\n",
    "    charge = quantity * plan.regularRate + plan.regularServiceCharge"
   ]
  },
  {
   "cell_type": "code",
   "execution_count": 20,
   "metadata": {},
   "outputs": [
    {
     "data": {
      "text/plain": [
       "375.0"
      ]
     },
     "execution_count": 20,
     "metadata": {},
     "output_type": "execute_result"
    }
   ],
   "source": [
    "charge"
   ]
  },
  {
   "cell_type": "code",
   "execution_count": 21,
   "metadata": {},
   "outputs": [
    {
     "name": "stdout",
     "output_type": "stream",
     "text": [
      "375.0\n"
     ]
    }
   ],
   "source": [
    "def summer():\n",
    "    return ~(aDate.isBefore(plan.summerStart)) and ~(aDate.isAfter(plan.summerEnd))\n",
    "\n",
    "\n",
    "if summer():\n",
    "    charge = quantity * plan.summerRate\n",
    "else:\n",
    "    charge = quantity * plan.regularRate + plan.regularServiceCharge\n",
    "print(charge)"
   ]
  },
  {
   "cell_type": "code",
   "execution_count": 23,
   "metadata": {},
   "outputs": [
    {
     "name": "stdout",
     "output_type": "stream",
     "text": [
      "375.0\n"
     ]
    }
   ],
   "source": [
    "def summer():\n",
    "    return ~(aDate.isBefore(plan.summerStart)) and ~(aDate.isAfter(plan.summerEnd))\n",
    "\n",
    "def summerCharge():\n",
    "    return quantity * plan.summerRate\n",
    "\n",
    "if summer():\n",
    "    charge = summerCharge()\n",
    "else:\n",
    "    charge = quantity * plan.regularRate + plan.regularServiceCharge\n",
    "print(charge)"
   ]
  },
  {
   "cell_type": "code",
   "execution_count": 24,
   "metadata": {},
   "outputs": [
    {
     "name": "stdout",
     "output_type": "stream",
     "text": [
      "375.0\n"
     ]
    }
   ],
   "source": [
    "def summer():\n",
    "    return ~(aDate.isBefore(plan.summerStart)) and ~(aDate.isAfter(plan.summerEnd))\n",
    "\n",
    "def summerCharge():\n",
    "    return quantity * plan.summerRate\n",
    "\n",
    "def regularCharge():\n",
    "    return quantity * plan.regularRate + plan.regularServiceCharge\n",
    "if summer():\n",
    "    charge = summerCharge()\n",
    "else:\n",
    "    charge = regularCharge()\n",
    "print(charge)"
   ]
  }
 ],
 "metadata": {
  "kernelspec": {
   "display_name": "Python 3",
   "language": "python",
   "name": "python3"
  },
  "language_info": {
   "codemirror_mode": {
    "name": "ipython",
    "version": 3
   },
   "file_extension": ".py",
   "mimetype": "text/x-python",
   "name": "python",
   "nbconvert_exporter": "python",
   "pygments_lexer": "ipython3",
   "version": "3.6.5"
  }
 },
 "nbformat": 4,
 "nbformat_minor": 2
}
