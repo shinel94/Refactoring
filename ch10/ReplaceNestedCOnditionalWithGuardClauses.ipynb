{
 "cells": [
  {
   "cell_type": "markdown",
   "metadata": {},
   "source": [
    "### 조건문은 주로 두가지 형태로 쓰인다. <br> 1) 참인 경로와 거짓인 경로 모두 정상 동작으로 이어지는 형태 <br> 2) 참 또는 거짓 한쪽만 정상인 동작이로 이어지는 형태 이다<br> 두 형태는 의도하는 바가 서로 다르므로 그 의도가 코드에 드러나야 한다.<br> 두 경로 모도구 정상 동작이라면 if-else구문을 활용하고 한쪽만 정상이라면 비정상 조건을 if로 검사하여 참인 경우에 함수에서 빠져나오도록 한다.<br> 두번째 표현을 보통 보호구문 이라고 한다."
   ]
  },
  {
   "cell_type": "markdown",
   "metadata": {},
   "source": [
    "## 절차\n",
    "\n",
    "### 1. 교체해야 할 조건 중 가장 바깥 것을 선택하여 보호 구문으로 바꾼다. <br> \n",
    "\n",
    "### 2. 테스트 한다. <br>\n",
    "\n",
    "### 3. 위 과정을 필요한 만큼 반복한다. <br>\n",
    "\n",
    "### 4. 모든 보호 구문이 같은 결과를 반환한다면 보호 구문들의 조건식을 통합한다. <br>\n",
    "\n",
    "\n"
   ]
  },
  {
   "cell_type": "code",
   "execution_count": 41,
   "metadata": {},
   "outputs": [],
   "source": [
    "def payAmount(employee):\n",
    "    result = None\n",
    "    if employee.isSeparated:\n",
    "        result = {'amount': 0, 'reasonCode': \"SEP\"}\n",
    "    else:\n",
    "        if employee.isRetired:\n",
    "            result = {'amount': 0, 'reasonCode': \"RET\"}\n",
    "        else:\n",
    "            # 급여 계산 로직\n",
    "            result = {'amount': employee.totpay, 'reasonCode': None}\n",
    "    return result"
   ]
  },
  {
   "cell_type": "code",
   "execution_count": 42,
   "metadata": {},
   "outputs": [],
   "source": [
    "class Employee:\n",
    "    work_day = 30\n",
    "    def __init__(self, pay, isSeparated, isRetired):\n",
    "        self.__pay = pay\n",
    "        self.__isSeparated = isSeparated\n",
    "        self.__isRetired = isRetired\n",
    "        \n",
    "    @property\n",
    "    def pay(self):\n",
    "        return self.__pay\n",
    "    \n",
    "    @pay.setter\n",
    "    def pay(self, value):\n",
    "        self.__pay = value\n",
    "        \n",
    "    @property\n",
    "    def isSeparated(self):\n",
    "        return self.__isSeparated\n",
    "    \n",
    "    @isSeparated.setter\n",
    "    def isSeparated(self, value):\n",
    "        self.__isSeparated = value\n",
    "        \n",
    "    @property\n",
    "    def isRetired(self):\n",
    "        return self.__isRetired\n",
    "    \n",
    "    @isRetired.setter\n",
    "    def isRetired(self,value):\n",
    "        self.__isRetired = value\n",
    "    \n",
    "    @property\n",
    "    def totpay(self):\n",
    "        return self.__pay * self.work_day"
   ]
  },
  {
   "cell_type": "code",
   "execution_count": 43,
   "metadata": {},
   "outputs": [
    {
     "name": "stdout",
     "output_type": "stream",
     "text": [
      "{'amount': 900, 'reasonCode': None}\n",
      "{'amount': 0, 'reasonCode': 'SEP'}\n",
      "{'amount': 0, 'reasonCode': 'RET'}\n"
     ]
    }
   ],
   "source": [
    "employee = Employee(30, False, False)\n",
    "print(payAmount(employee))\n",
    "employee = Employee(300, True, False)\n",
    "print(payAmount(employee))\n",
    "employee = Employee(3000, False, True)\n",
    "\n",
    "print(payAmount(employee))\n"
   ]
  },
  {
   "cell_type": "code",
   "execution_count": 44,
   "metadata": {},
   "outputs": [],
   "source": [
    "def payAmount(employee):\n",
    "    result = None\n",
    "    if employee.isSeparated:\n",
    "        return {'amount': 0, 'reasonCode': \"SEP\"}\n",
    "    else:\n",
    "        if employee.isRetired:\n",
    "            result = {'amount': 0, 'reasonCode': \"RET\"}\n",
    "        else:\n",
    "            # 급여 계산 로직\n",
    "            result = {'amount': employee.totpay, 'reasonCode': None}\n",
    "    return result"
   ]
  },
  {
   "cell_type": "code",
   "execution_count": 45,
   "metadata": {},
   "outputs": [
    {
     "name": "stdout",
     "output_type": "stream",
     "text": [
      "{'amount': 900, 'reasonCode': None}\n",
      "{'amount': 0, 'reasonCode': 'SEP'}\n",
      "{'amount': 0, 'reasonCode': 'RET'}\n"
     ]
    }
   ],
   "source": [
    "employee = Employee(30, False, False)\n",
    "print(payAmount(employee))\n",
    "employee = Employee(300, True, False)\n",
    "print(payAmount(employee))\n",
    "employee = Employee(3000, False, True)\n",
    "\n",
    "print(payAmount(employee))\n"
   ]
  },
  {
   "cell_type": "code",
   "execution_count": 46,
   "metadata": {},
   "outputs": [],
   "source": [
    "def payAmount(employee):\n",
    "    result = None\n",
    "    if employee.isSeparated:\n",
    "        return {'amount': 0, 'reasonCode': \"SEP\"}\n",
    "    if employee.isRetired:\n",
    "        return {'amount': 0, 'reasonCode': \"RET\"}\n",
    "    else:\n",
    "        # 급여 계산 로직\n",
    "        result = {'amount': employee.totpay, 'reasonCode': None}\n",
    "    return result"
   ]
  },
  {
   "cell_type": "code",
   "execution_count": 47,
   "metadata": {},
   "outputs": [
    {
     "name": "stdout",
     "output_type": "stream",
     "text": [
      "{'amount': 900, 'reasonCode': None}\n",
      "{'amount': 0, 'reasonCode': 'SEP'}\n",
      "{'amount': 0, 'reasonCode': 'RET'}\n"
     ]
    }
   ],
   "source": [
    "employee = Employee(30, False, False)\n",
    "print(payAmount(employee))\n",
    "employee = Employee(300, True, False)\n",
    "print(payAmount(employee))\n",
    "employee = Employee(3000, False, True)\n",
    "\n",
    "print(payAmount(employee))\n"
   ]
  },
  {
   "cell_type": "code",
   "execution_count": 48,
   "metadata": {},
   "outputs": [],
   "source": [
    "def payAmount(employee):\n",
    "    if employee.isSeparated:\n",
    "        return {'amount': 0, 'reasonCode': \"SEP\"}\n",
    "    if employee.isRetired:\n",
    "        return {'amount': 0, 'reasonCode': \"RET\"}\n",
    "    return {'amount': employee.totpay, 'reasonCode': None}"
   ]
  },
  {
   "cell_type": "code",
   "execution_count": 49,
   "metadata": {},
   "outputs": [
    {
     "name": "stdout",
     "output_type": "stream",
     "text": [
      "{'amount': 900, 'reasonCode': None}\n",
      "{'amount': 0, 'reasonCode': 'SEP'}\n",
      "{'amount': 0, 'reasonCode': 'RET'}\n"
     ]
    }
   ],
   "source": [
    "employee = Employee(30, False, False)\n",
    "print(payAmount(employee))\n",
    "employee = Employee(300, True, False)\n",
    "print(payAmount(employee))\n",
    "employee = Employee(3000, False, True)\n",
    "\n",
    "print(payAmount(employee))\n"
   ]
  },
  {
   "cell_type": "code",
   "execution_count": null,
   "metadata": {},
   "outputs": [],
   "source": []
  }
 ],
 "metadata": {
  "kernelspec": {
   "display_name": "Python 3",
   "language": "python",
   "name": "python3"
  },
  "language_info": {
   "codemirror_mode": {
    "name": "ipython",
    "version": 3
   },
   "file_extension": ".py",
   "mimetype": "text/x-python",
   "name": "python",
   "nbconvert_exporter": "python",
   "pygments_lexer": "ipython3",
   "version": "3.6.5"
  }
 },
 "nbformat": 4,
 "nbformat_minor": 2
}
