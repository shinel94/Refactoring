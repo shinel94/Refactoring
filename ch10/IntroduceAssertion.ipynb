{
 "cells": [
  {
   "cell_type": "markdown",
   "metadata": {},
   "source": [
    "### 특정 조건이 참일때만 코드를 작동시키게 하려면 Assertion을 코드 자체 삽입 시켜, <br> 다음사람이 코드를 파악할 때 도움을 줄 수 있다.  <br> 물론 모든 Assertion이 참일때에만 작동하도록 작성된 코드는 아닐 수 있다. <br> 또한 Assertion이 수행되는 구문은 항상 참이들어와야 하는 구문으로,  거짓인 상황이 발생한다면,  <br>코드 작성자가 잘못 코드를 작성하고 있는 것이 된다.  <br> 따라서 Assertion은 개발을 위한 도구로만 사용되어여하며, 추후에 프로그램으로 작성되었을때 끄고 켤수 있도록 하여야 한다. <br> 또한 Assertion을 사용하면 추후 코더에게 지금 상황이 어떤 상황인지 유추할수 있는 단서를 줄 수 있다. <br> 또한 모든 참인 곳에 Assertion을 사용하는 것 보다는, 반드시 참이어야 하는 코드 / 또는 참이 아니면 시스템이 정상작동하지 않을 수 있는 그런 특별한 경우에만 사용하는 것이 좋다."
   ]
  },
  {
   "cell_type": "markdown",
   "metadata": {},
   "source": [
    "## 절차\n",
    "\n",
    "### 1.참이라고 가정하는 조건이 보이면 그 조건을 명시하는 어서션을 추가한다. 또한 어서션은 항상 참이기 때문에 코드 동작 및 시스템 운영에 영향을 주면 안된다."
   ]
  },
  {
   "cell_type": "code",
   "execution_count": 1,
   "metadata": {},
   "outputs": [],
   "source": [
    "class Data:\n",
    "    def __init__(self):\n",
    "        self.__discountRate = None\n",
    "    @property\n",
    "    def discountRate(self):\n",
    "        return self.__discountRate\n",
    "    @discountRate.setter\n",
    "    def discountRate(self,value):\n",
    "        self.__discountRate = value\n",
    "    \n",
    "    def applyDiscount(self, aNumber):\n",
    "        if self.__discountRate is None:\n",
    "            return aNumber\n",
    "        else:\n",
    "            return aNumber - self.discountRate * aNumber\n"
   ]
  },
  {
   "cell_type": "code",
   "execution_count": 3,
   "metadata": {},
   "outputs": [
    {
     "name": "stdout",
     "output_type": "stream",
     "text": [
      "131\n",
      "117.9\n",
      "144.1\n"
     ]
    }
   ],
   "source": [
    "data = Data()\n",
    "print(data.applyDiscount(131))\n",
    "data.discountRate = 0.1\n",
    "print(data.applyDiscount(131))\n",
    "data.discountRate = -0.1\n",
    "print(data.applyDiscount(131))"
   ]
  },
  {
   "cell_type": "code",
   "execution_count": 4,
   "metadata": {},
   "outputs": [],
   "source": [
    "class Data:\n",
    "    def __init__(self):\n",
    "        self.__discountRate = None\n",
    "    @property\n",
    "    def discountRate(self):\n",
    "        return self.__discountRate\n",
    "    @discountRate.setter\n",
    "    def discountRate(self,value):\n",
    "        self.__discountRate = value\n",
    "    \n",
    "    def applyDiscount(self, aNumber):\n",
    "        if self.__discountRate is None:\n",
    "            return aNumber\n",
    "        else:\n",
    "            assert self.discountRate >= 0, \"할인율이 잘못 되었습니다.\"\n",
    "            return aNumber - self.discountRate * aNumber\n"
   ]
  },
  {
   "cell_type": "code",
   "execution_count": 5,
   "metadata": {},
   "outputs": [
    {
     "name": "stdout",
     "output_type": "stream",
     "text": [
      "131\n",
      "117.9\n"
     ]
    },
    {
     "ename": "AssertionError",
     "evalue": "할인율이 잘못 되었습니다.",
     "output_type": "error",
     "traceback": [
      "\u001b[1;31m---------------------------------------------------------------------------\u001b[0m",
      "\u001b[1;31mAssertionError\u001b[0m                            Traceback (most recent call last)",
      "\u001b[1;32m<ipython-input-5-69b6ab4c5183>\u001b[0m in \u001b[0;36m<module>\u001b[1;34m()\u001b[0m\n\u001b[0;32m      4\u001b[0m \u001b[0mprint\u001b[0m\u001b[1;33m(\u001b[0m\u001b[0mdata\u001b[0m\u001b[1;33m.\u001b[0m\u001b[0mapplyDiscount\u001b[0m\u001b[1;33m(\u001b[0m\u001b[1;36m131\u001b[0m\u001b[1;33m)\u001b[0m\u001b[1;33m)\u001b[0m\u001b[1;33m\u001b[0m\u001b[0m\n\u001b[0;32m      5\u001b[0m \u001b[0mdata\u001b[0m\u001b[1;33m.\u001b[0m\u001b[0mdiscountRate\u001b[0m \u001b[1;33m=\u001b[0m \u001b[1;33m-\u001b[0m\u001b[1;36m0.1\u001b[0m\u001b[1;33m\u001b[0m\u001b[0m\n\u001b[1;32m----> 6\u001b[1;33m \u001b[0mprint\u001b[0m\u001b[1;33m(\u001b[0m\u001b[0mdata\u001b[0m\u001b[1;33m.\u001b[0m\u001b[0mapplyDiscount\u001b[0m\u001b[1;33m(\u001b[0m\u001b[1;36m131\u001b[0m\u001b[1;33m)\u001b[0m\u001b[1;33m)\u001b[0m\u001b[1;33m\u001b[0m\u001b[0m\n\u001b[0m",
      "\u001b[1;32m<ipython-input-4-e2c3b35898eb>\u001b[0m in \u001b[0;36mapplyDiscount\u001b[1;34m(self, aNumber)\u001b[0m\n\u001b[0;32m     13\u001b[0m             \u001b[1;32mreturn\u001b[0m \u001b[0maNumber\u001b[0m\u001b[1;33m\u001b[0m\u001b[0m\n\u001b[0;32m     14\u001b[0m         \u001b[1;32melse\u001b[0m\u001b[1;33m:\u001b[0m\u001b[1;33m\u001b[0m\u001b[0m\n\u001b[1;32m---> 15\u001b[1;33m             \u001b[1;32massert\u001b[0m \u001b[0mself\u001b[0m\u001b[1;33m.\u001b[0m\u001b[0mdiscountRate\u001b[0m \u001b[1;33m>=\u001b[0m \u001b[1;36m0\u001b[0m\u001b[1;33m,\u001b[0m \u001b[1;34m\"할인율이 잘못 되었습니다.\"\u001b[0m\u001b[1;33m\u001b[0m\u001b[0m\n\u001b[0m\u001b[0;32m     16\u001b[0m             \u001b[1;32mreturn\u001b[0m \u001b[0maNumber\u001b[0m \u001b[1;33m-\u001b[0m \u001b[0mself\u001b[0m\u001b[1;33m.\u001b[0m\u001b[0mdiscountRate\u001b[0m \u001b[1;33m*\u001b[0m \u001b[0maNumber\u001b[0m\u001b[1;33m\u001b[0m\u001b[0m\n",
      "\u001b[1;31mAssertionError\u001b[0m: 할인율이 잘못 되었습니다."
     ]
    }
   ],
   "source": [
    "data = Data()\n",
    "print(data.applyDiscount(131))\n",
    "data.discountRate = 0.1\n",
    "print(data.applyDiscount(131))\n",
    "data.discountRate = -0.1\n",
    "print(data.applyDiscount(131))"
   ]
  },
  {
   "cell_type": "code",
   "execution_count": null,
   "metadata": {},
   "outputs": [],
   "source": []
  }
 ],
 "metadata": {
  "kernelspec": {
   "display_name": "Python 3",
   "language": "python",
   "name": "python3"
  },
  "language_info": {
   "codemirror_mode": {
    "name": "ipython",
    "version": 3
   },
   "file_extension": ".py",
   "mimetype": "text/x-python",
   "name": "python",
   "nbconvert_exporter": "python",
   "pygments_lexer": "ipython3",
   "version": "3.6.5"
  }
 },
 "nbformat": 4,
 "nbformat_minor": 2
}
