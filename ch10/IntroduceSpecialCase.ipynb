{
 "cells": [
  {
   "cell_type": "code",
   "execution_count": 1,
   "metadata": {},
   "outputs": [],
   "source": [
    "def main(aCustomer):\n",
    "    if aCustomer == '미확인 고객':\n",
    "        customerName = '거주자'"
   ]
  },
  {
   "cell_type": "code",
   "execution_count": 2,
   "metadata": {},
   "outputs": [],
   "source": [
    "class UnknownCustomer:\n",
    "    @property\n",
    "    def name(self):\n",
    "        return \"거주자\""
   ]
  },
  {
   "cell_type": "markdown",
   "metadata": {},
   "source": [
    "### 데이터 구조의 특정 값을 확인한 후 똑같은 동작을 수행하는 코드가 곳곳에 등장하는 경우가 종종 있다. <br> 흔히 볼 수 있는 중복코드 중 하나이므로, 특정 값에 대해서 똑같은 방식으로 작동하는 코드가 있다면 <br> 이 작동을 한곳에 모아서 관리하는 것이 효과적이다. <br> 특수한 경우의 공통 동작을 요소 하나에 모아서 사용하는 특이 케이스 패턴이라고 한다.  <br> "
   ]
  },
  {
   "cell_type": "markdown",
   "metadata": {},
   "source": [
    "## 절차\n",
    "\n",
    "### 1. 컨테이너에 특이 케이스인지를 검사하는 속성을 추가하고, false를 반환하게 한다. <br>\n",
    "\n",
    "### 2. 특이 케이스 객체를 만든다. 이 객체는 특이 케이스인지를 검사하는 속성만 포함하며, 이 속성은 true를 반환하게 한다. <br>\n",
    "\n",
    "### 3. 클라이언트에서 특이 케이스인지를 검사하는 코드를 함수로 추출한다. 모든 클라이언트가 값을 직접 비교하는 대신 방금 추출한 함수를 사용하도록 고친다. <br>\n",
    "\n",
    "### 4. 코드에 새로운 특이 케이스 대상을 추가한ㄷ. 함수의 반환 값으로 받거나 변환 함수를 적용하면 된다.<br>\n",
    "\n",
    "### 5. 특이 케이스를 검사하는 함수 본문을 수정하여 특이 케이스 객체의 속성을 사용하도록 한다.<br>\n",
    "\n",
    "### 6. 테스트한다.<br>\n",
    "\n",
    "### 7. 여러 함수를 클래스로 묶기나 여러 함수를 변환 함수로 묶기를 적용하여 특이 케이스를 처리하는 공통 동작을 새로운 요소로 옮긴다.<br>\n",
    "\n",
    "### 8. 아직도 특이 케이스 검사 함수를 이용하는 곳이 남아 있다면 검사 함수를 인라인한다.<br>\n"
   ]
  },
  {
   "cell_type": "markdown",
   "metadata": {},
   "source": [
    "# Example"
   ]
  },
  {
   "cell_type": "code",
   "execution_count": 3,
   "metadata": {},
   "outputs": [],
   "source": [
    "class Site:\n",
    "    def __init__(self):\n",
    "        self.__customer = \"미확인 고객\"\n",
    "        \n",
    "    @property\n",
    "    def customer(self):\n",
    "        return self.__customer\n",
    "    \n",
    "    @customer.setter\n",
    "    def customer(self, value):\n",
    "        self.__customer = value\n",
    "\n",
    "class Customer:\n",
    "    def __init__(self, name, billingPlan):\n",
    "        self.__name = name\n",
    "        self.__billingPlan = billingPlan\n",
    "        self.__paymentHistory = None\n",
    "        \n",
    "    @property\n",
    "    def name(self):\n",
    "        return self.__name\n",
    "    \n",
    "    @property\n",
    "    def billingPlan(self):\n",
    "        return self.billingPlan\n",
    "    \n",
    "    @property\n",
    "    def paymentHistory(self):\n",
    "        return self.__paymentHistory\n",
    "    \n",
    "    @name.setter\n",
    "    def name(self, value):\n",
    "        self.__name = value\n",
    "    \n",
    "    @billingPlan.setter\n",
    "    def billingPlan(self, value):\n",
    "        self.__billingPlan = value"
   ]
  },
  {
   "cell_type": "code",
   "execution_count": 10,
   "metadata": {},
   "outputs": [
    {
     "name": "stdout",
     "output_type": "stream",
     "text": [
      "거주자\n",
      "홍길동\n"
     ]
    }
   ],
   "source": [
    "site = Site()\n",
    "aCustomer = site.customer\n",
    "customerName = \"거주자\" if aCustomer == '미확인 고객' else aCustomer.name\n",
    "print(customerName)\n",
    "site.customer = Customer(name=\"홍길동\", billingPlan='card')\n",
    "aCustomer = site.customer\n",
    "customerName = \"거주자\" if aCustomer == '미확인 고객' else aCustomer.name\n",
    "print(customerName)"
   ]
  },
  {
   "cell_type": "code",
   "execution_count": 12,
   "metadata": {},
   "outputs": [
    {
     "name": "stdout",
     "output_type": "stream",
     "text": [
      "basic\n"
     ]
    }
   ],
   "source": [
    "site = Site()\n",
    "aCustomer = site.customer\n",
    "plan = \"basic\" if aCustomer == '미확인 고객' else aCustomer.billingPlan\n",
    "print(plan)"
   ]
  },
  {
   "cell_type": "code",
   "execution_count": 13,
   "metadata": {},
   "outputs": [],
   "source": [
    "site = Site()\n",
    "aCustomer = site.customer\n",
    "if aCustomer != '미확인 고객':\n",
    "    aCustomer.billingPlane = 'newPlan'"
   ]
  },
  {
   "cell_type": "code",
   "execution_count": 14,
   "metadata": {},
   "outputs": [],
   "source": [
    "weeksDelinquent = 0 if aCustomer == \"미확인 고객\" else aCustomer.paymentHistory.weeksDelinquentInLastYear"
   ]
  },
  {
   "cell_type": "code",
   "execution_count": 19,
   "metadata": {},
   "outputs": [],
   "source": [
    "class Customer:\n",
    "    def __init__(self, name, billingPlan):\n",
    "        self.__name = name\n",
    "        self.__billingPlan = billingPlan\n",
    "        self.__paymentHistory = None\n",
    "        \n",
    "    @property\n",
    "    def name(self):\n",
    "        return self.__name\n",
    "    \n",
    "    @property\n",
    "    def billingPlan(self):\n",
    "        return self.billingPlan\n",
    "    \n",
    "    @property\n",
    "    def paymentHistory(self):\n",
    "        return self.__paymentHistory\n",
    "    \n",
    "    @name.setter\n",
    "    def name(self, value):\n",
    "        self.__name = value\n",
    "    \n",
    "    @billingPlan.setter\n",
    "    def billingPlan(self, value):\n",
    "        self.__billingPlan = value\n",
    "    \n",
    "    @property\n",
    "    def isUnknown(self):\n",
    "        return False\n",
    "    \n",
    "class UnknownCustomer:\n",
    "    @property\n",
    "    def isUnknown(self):\n",
    "        return True\n",
    "    \n",
    "def isUnknown(arg):\n",
    "    if not (isinstance(arg, Customer) or (arg==\"미확인 고객\")):\n",
    "        raise Exception(f\"잘못된 값 비교 : {arg}\")\n",
    "    return (arg=='미확인 고객')\n",
    "\n"
   ]
  },
  {
   "cell_type": "code",
   "execution_count": 20,
   "metadata": {},
   "outputs": [
    {
     "name": "stdout",
     "output_type": "stream",
     "text": [
      "거주자\n"
     ]
    }
   ],
   "source": [
    "site = Site()\n",
    "aCustomer = site.customer\n",
    "customerName = \"거주자\" if isUnknown(aCustomer) else aCustomer.name\n",
    "print(customerName)"
   ]
  },
  {
   "cell_type": "code",
   "execution_count": 21,
   "metadata": {},
   "outputs": [
    {
     "name": "stdout",
     "output_type": "stream",
     "text": [
      "basic\n"
     ]
    }
   ],
   "source": [
    "site = Site()\n",
    "aCustomer = site.customer\n",
    "plan = \"basic\" if isUnknown(aCustomer) else aCustomer.billingPlan\n",
    "print(plan)"
   ]
  },
  {
   "cell_type": "code",
   "execution_count": 23,
   "metadata": {},
   "outputs": [],
   "source": [
    "site = Site()\n",
    "aCustomer = site.customer\n",
    "if not isUnknown(aCustomer):\n",
    "    aCustomer.billingPlane = 'newPlan'"
   ]
  },
  {
   "cell_type": "code",
   "execution_count": 24,
   "metadata": {},
   "outputs": [],
   "source": [
    "weeksDelinquent = 0 if isUnknown(aCustomer) else aCustomer.paymentHistory.weeksDelinquentInLastYear"
   ]
  },
  {
   "cell_type": "code",
   "execution_count": 25,
   "metadata": {},
   "outputs": [],
   "source": [
    "class Site:\n",
    "    def __init__(self):\n",
    "        self.__customer = \"미확인 고객\"\n",
    "        \n",
    "    @property\n",
    "    def customer(self):\n",
    "        return UnknownCustomer() if self.__customer == \"미확인 고객\" else self.__customer\n",
    "    \n",
    "    @customer.setter\n",
    "    def customer(self, value):\n",
    "        self.__customer = value"
   ]
  },
  {
   "cell_type": "code",
   "execution_count": 26,
   "metadata": {},
   "outputs": [],
   "source": [
    "def isUnknown(arg):\n",
    "    if not (isinstance(arg, Customer) or (isinstance(arg, UnknownCustomer))):\n",
    "        raise Exception(f\"잘못된 값 비교 : {arg}\")\n",
    "    return arg.isUnknown"
   ]
  },
  {
   "cell_type": "code",
   "execution_count": 27,
   "metadata": {},
   "outputs": [
    {
     "name": "stdout",
     "output_type": "stream",
     "text": [
      "거주자\n"
     ]
    }
   ],
   "source": [
    "site = Site()\n",
    "aCustomer = site.customer\n",
    "customerName = \"거주자\" if isUnknown(aCustomer) else aCustomer.name\n",
    "print(customerName)"
   ]
  },
  {
   "cell_type": "code",
   "execution_count": 28,
   "metadata": {},
   "outputs": [
    {
     "name": "stdout",
     "output_type": "stream",
     "text": [
      "basic\n"
     ]
    }
   ],
   "source": [
    "site = Site()\n",
    "aCustomer = site.customer\n",
    "plan = \"basic\" if isUnknown(aCustomer) else aCustomer.billingPlan\n",
    "print(plan)"
   ]
  },
  {
   "cell_type": "code",
   "execution_count": 29,
   "metadata": {},
   "outputs": [],
   "source": [
    "site = Site()\n",
    "aCustomer = site.customer\n",
    "if not isUnknown(aCustomer):\n",
    "    aCustomer.billingPlane = 'newPlan'"
   ]
  },
  {
   "cell_type": "code",
   "execution_count": 30,
   "metadata": {},
   "outputs": [],
   "source": [
    "class UnknownCustomer:\n",
    "    @property\n",
    "    def isUnknown(self):\n",
    "        return True\n",
    "    \n",
    "    @property\n",
    "    def name(self):\n",
    "        return \"거주자\"\n",
    "    \n",
    "    @property\n",
    "    def billingPlan(self):\n",
    "        return \"basic\"\n",
    "    \n",
    "    @billingPlan.setter\n",
    "    def billingPlan(self,value):\n",
    "        pass"
   ]
  },
  {
   "cell_type": "code",
   "execution_count": 31,
   "metadata": {},
   "outputs": [
    {
     "name": "stdout",
     "output_type": "stream",
     "text": [
      "거주자\n"
     ]
    }
   ],
   "source": [
    "site = Site()\n",
    "aCustomer = site.customer\n",
    "customerName = aCustomer.name\n",
    "print(customerName)"
   ]
  },
  {
   "cell_type": "code",
   "execution_count": 32,
   "metadata": {},
   "outputs": [
    {
     "name": "stdout",
     "output_type": "stream",
     "text": [
      "basic\n"
     ]
    }
   ],
   "source": [
    "site = Site()\n",
    "aCustomer = site.customer\n",
    "plan = aCustomer.billingPlan\n",
    "print(plan)"
   ]
  },
  {
   "cell_type": "code",
   "execution_count": 33,
   "metadata": {},
   "outputs": [],
   "source": [
    "class UnknownCustomer:\n",
    "    @property\n",
    "    def isUnknown(self):\n",
    "        return True\n",
    "    \n",
    "    @property\n",
    "    def name(self):\n",
    "        return \"거주자\"\n",
    "    \n",
    "    @property\n",
    "    def billingPlan(self):\n",
    "        return \"basic\"\n",
    "    \n",
    "    @billingPlan.setter\n",
    "    def billingPlan(self,value):\n",
    "        pass\n",
    "    \n",
    "    @property\n",
    "    def paymentHistory(self):\n",
    "        return NullPaymentHistory()\n",
    "class NullPaymentHistory:\n",
    "    @property\n",
    "    def weeksDelinquentInLastYear(self):\n",
    "        return 0"
   ]
  },
  {
   "cell_type": "code",
   "execution_count": 41,
   "metadata": {},
   "outputs": [
    {
     "name": "stdout",
     "output_type": "stream",
     "text": [
      "0\n"
     ]
    }
   ],
   "source": [
    "site = Site()\n",
    "aCustomer = site.customer\n",
    "weeksDelinquent = 0 if aCustomer.isUnknown else aCustomer.paymentHistory.weeksDelinquentInLastYear\n",
    "print(weeksDelinquent)"
   ]
  },
  {
   "cell_type": "code",
   "execution_count": 42,
   "metadata": {},
   "outputs": [
    {
     "name": "stdout",
     "output_type": "stream",
     "text": [
      "미확인 거주자\n"
     ]
    }
   ],
   "source": [
    "site = Site()\n",
    "aCustomer = site.customer\n",
    "customerName = \"미확인 거주자\" if aCustomer.isUnknown else aCustomer.name\n",
    "print(customerName)"
   ]
  },
  {
   "cell_type": "code",
   "execution_count": 43,
   "metadata": {},
   "outputs": [
    {
     "name": "stdout",
     "output_type": "stream",
     "text": [
      "미확인 거주자\n"
     ]
    }
   ],
   "source": [
    "site = Site()\n",
    "aCustomer = site.customer\n",
    "customerName = \"미확인 거주자\" if aCustomer.isUnknown else aCustomer.name\n",
    "print(customerName)"
   ]
  },
  {
   "cell_type": "code",
   "execution_count": null,
   "metadata": {},
   "outputs": [],
   "source": []
  }
 ],
 "metadata": {
  "kernelspec": {
   "display_name": "Python 3",
   "language": "python",
   "name": "python3"
  },
  "language_info": {
   "codemirror_mode": {
    "name": "ipython",
    "version": 3
   },
   "file_extension": ".py",
   "mimetype": "text/x-python",
   "name": "python",
   "nbconvert_exporter": "python",
   "pygments_lexer": "ipython3",
   "version": "3.6.5"
  }
 },
 "nbformat": 4,
 "nbformat_minor": 2
}
