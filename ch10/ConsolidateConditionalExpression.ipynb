{
 "cells": [
  {
   "cell_type": "code",
   "execution_count": 1,
   "metadata": {},
   "outputs": [],
   "source": [
    "def main(anEmployee):\n",
    "    if anEmployee.seniority < 2:\n",
    "        return 0\n",
    "    if anEmployee.monthsDisabled > 12:\n",
    "        return 0\n",
    "    if anEmployee.isPartTime:\n",
    "        return 0"
   ]
  },
  {
   "cell_type": "code",
   "execution_count": 2,
   "metadata": {},
   "outputs": [],
   "source": [
    "class Employee:\n",
    "    def __init__(self, seniority, disable_month, parttime):\n",
    "        self.__seniority = seniority\n",
    "        self.__monthsDisabled = disable_month\n",
    "        self.__isPartTime = parttime\n",
    "    \n",
    "    @property\n",
    "    def seniority(self):\n",
    "        return self.__seniority\n",
    "    \n",
    "    @property\n",
    "    def monthsDisabled(self):\n",
    "        return self.__monthsDisabled\n",
    "    \n",
    "    @property\n",
    "    def isPartTime(self):\n",
    "        return self.__isPartTime"
   ]
  },
  {
   "cell_type": "code",
   "execution_count": 4,
   "metadata": {},
   "outputs": [
    {
     "name": "stdout",
     "output_type": "stream",
     "text": [
      "None\n",
      "0\n",
      "0\n"
     ]
    }
   ],
   "source": [
    "employee = Employee(3, 10, False)\n",
    "print(main(employee))\n",
    "employee = Employee(3, 130, False)\n",
    "print(main(employee))\n",
    "employee = Employee(3, 10, True)\n",
    "print(main(employee))\n"
   ]
  },
  {
   "cell_type": "code",
   "execution_count": 5,
   "metadata": {},
   "outputs": [],
   "source": [
    "def main(anEmployee):\n",
    "    if (anEmployee.seniority < 2) or (anEmployee.monthsDisabled > 12) or (anEmployee.isPartTime):\n",
    "        return 0"
   ]
  },
  {
   "cell_type": "code",
   "execution_count": 6,
   "metadata": {},
   "outputs": [
    {
     "name": "stdout",
     "output_type": "stream",
     "text": [
      "None\n",
      "0\n",
      "0\n"
     ]
    }
   ],
   "source": [
    "employee = Employee(3, 10, False)\n",
    "print(main(employee))\n",
    "employee = Employee(3, 130, False)\n",
    "print(main(employee))\n",
    "employee = Employee(3, 10, True)\n",
    "print(main(employee))\n"
   ]
  },
  {
   "cell_type": "markdown",
   "metadata": {},
   "source": [
    "### 비교하는 조건은 다르지만 그 결과로 수행하는 동작은 똑같은 코드들이 더러 있는데, 어짜피 같은 일을 하는 경우라면 하나의 조건문 안에 모든 조건을 and 나 or로 통합해서 조건문을 합쳐두는 것이 좋다. <br> 크게 두가지 이유가 있는데, 여러 조각으로 나누어진 코드를 통합함으로써 내가 코드에게 우너하는 일이 보다 명확해지는 효과가 있다. <br> 두번째 이유는 함수 추출하기로 이어질 가능성이 높고, 그렇게 되면 코드의 명확성이 더욱 높아지는 효과가 있다.<br> 복잡한 조건식을 함수로 추출하면 코드의 의도가 훨씬 분명하게 드러나는 경우가 많기 때문에, <br> 함수 추출하기에 적용하기 위한 '무엇'을 추출하는지 가 적혀있던 코드를 '왜'추출하는지 를 말해주는 코드로 바뀌기 때문에 더욱 좋다."
   ]
  },
  {
   "cell_type": "markdown",
   "metadata": {},
   "source": [
    "## 절차\n",
    "\n",
    "### 1. 해당 조건식들 모두에 부수효과가 없는지 확인하고, 있다면 부수효과가 있는 조건식들에는 지르이 함수와 변경 함수 분리하기를 적용한다. <br> \n",
    "\n",
    "### 2. 조건문 두 개를 선택하여 두 조건문의 조건식들을 논리 연산자로 결합한다. <br>\n",
    "\n",
    "### 3. 테스트한다. <br>\n",
    "\n",
    "### 4. 조건이 하나만 남을 때 까지 위 과정을 반복한다. <br>\n",
    "\n",
    "### 5. 하나로 합쳐진 조건식을 함수로 추출할지 고려해본다. <br>\n",
    "\n",
    "\n"
   ]
  },
  {
   "cell_type": "code",
   "execution_count": 12,
   "metadata": {},
   "outputs": [],
   "source": [
    "def main(anEmployee):\n",
    "    if anEmployee.seniority < 2:\n",
    "        return 0\n",
    "    if anEmployee.monthsDisabled > 12:\n",
    "        return 0\n",
    "    if anEmployee.isPartTime:\n",
    "        return 0\n",
    "    # 장애수단 계산"
   ]
  },
  {
   "cell_type": "code",
   "execution_count": 13,
   "metadata": {},
   "outputs": [
    {
     "name": "stdout",
     "output_type": "stream",
     "text": [
      "None\n",
      "0\n",
      "0\n"
     ]
    }
   ],
   "source": [
    "employee = Employee(3, 10, False)\n",
    "print(main(employee))\n",
    "employee = Employee(3, 130, False)\n",
    "print(main(employee))\n",
    "employee = Employee(3, 10, True)\n",
    "print(main(employee))\n"
   ]
  },
  {
   "cell_type": "code",
   "execution_count": 14,
   "metadata": {},
   "outputs": [],
   "source": [
    "def main(anEmployee):\n",
    "    if (anEmployee.seniority < 2) or (anEmployee.monthsDisabled > 12) or (anEmployee.isPartTime):\n",
    "        return 0\n",
    "    # 장애수단 계산"
   ]
  },
  {
   "cell_type": "code",
   "execution_count": 15,
   "metadata": {},
   "outputs": [
    {
     "name": "stdout",
     "output_type": "stream",
     "text": [
      "None\n",
      "0\n",
      "0\n"
     ]
    }
   ],
   "source": [
    "employee = Employee(3, 10, False)\n",
    "print(main(employee))\n",
    "employee = Employee(3, 130, False)\n",
    "print(main(employee))\n",
    "employee = Employee(3, 10, True)\n",
    "print(main(employee))\n"
   ]
  },
  {
   "cell_type": "code",
   "execution_count": 16,
   "metadata": {},
   "outputs": [],
   "source": [
    "def isNotEligibleForDisability(anEmployee):\n",
    "    return (anEmployee.seniority < 2) or (anEmployee.monthsDisabled > 12) or (anEmployee.isPartTime)"
   ]
  },
  {
   "cell_type": "code",
   "execution_count": 17,
   "metadata": {},
   "outputs": [],
   "source": [
    "def main(anEmployee):\n",
    "    if isNotEligibleForDisability(anEmployee):\n",
    "        return 0\n",
    "    # 장애수단 계산"
   ]
  },
  {
   "cell_type": "code",
   "execution_count": 18,
   "metadata": {},
   "outputs": [
    {
     "name": "stdout",
     "output_type": "stream",
     "text": [
      "None\n",
      "0\n",
      "0\n"
     ]
    }
   ],
   "source": [
    "employee = Employee(3, 10, False)\n",
    "print(main(employee))\n",
    "employee = Employee(3, 130, False)\n",
    "print(main(employee))\n",
    "employee = Employee(3, 10, True)\n",
    "print(main(employee))\n"
   ]
  }
 ],
 "metadata": {
  "kernelspec": {
   "display_name": "Python 3",
   "language": "python",
   "name": "python3"
  },
  "language_info": {
   "codemirror_mode": {
    "name": "ipython",
    "version": 3
   },
   "file_extension": ".py",
   "mimetype": "text/x-python",
   "name": "python",
   "nbconvert_exporter": "python",
   "pygments_lexer": "ipython3",
   "version": "3.6.5"
  }
 },
 "nbformat": 4,
 "nbformat_minor": 2
}
