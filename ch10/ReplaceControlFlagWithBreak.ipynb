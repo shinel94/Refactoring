{
 "cells": [
  {
   "cell_type": "code",
   "execution_count": 2,
   "metadata": {
    "scrolled": true
   },
   "outputs": [
    {
     "name": "stdout",
     "output_type": "stream",
     "text": [
      "ALERT\n"
     ]
    }
   ],
   "source": [
    "people = ['김', '나', '박', '이', '조', '커', '조커']\n",
    "found = False\n",
    "def sendAlert():\n",
    "    print(\"ALERT\")\n",
    "for p in people:\n",
    "    if not found:\n",
    "        if p == '조커':\n",
    "            sendAlert()\n",
    "            found = True"
   ]
  },
  {
   "cell_type": "code",
   "execution_count": 3,
   "metadata": {},
   "outputs": [
    {
     "name": "stdout",
     "output_type": "stream",
     "text": [
      "ALERT\n"
     ]
    }
   ],
   "source": [
    "for p in people:\n",
    "    if p == '조커':\n",
    "        sendAlert()\n",
    "        break"
   ]
  },
  {
   "cell_type": "markdown",
   "metadata": {},
   "source": [
    "### 제어 플래그란 코드의 동작을 변경하는 데 사용되는 변수를 말하고, 어딘가에서 값을 계산해서 제어 플래그에 설정한 후 다른 어딘가의 조건문에서 검사하여, <br> 코드 진행 방향 또는 순서 루틴을 변경하는데 활용된다. <br> 이런식으로 코드가 작성되어 있으면, 제어 플래그를 확인하는 조건문을 참조하는 것 보다 탈출문을 활용하는 것이 더 좋을 수 있다. <br> 왜냐하면 제어 플래그를 활용하는 구문은 보통 코드 진행이 복잡하기 때문에, 명확하게 이해하는데 방해가 되는 요소이기 때문이다."
   ]
  },
  {
   "cell_type": "markdown",
   "metadata": {},
   "source": [
    "## 절차\n",
    "\n",
    "### 1. 제어 플래그를 사용하는 코드를 함수로 추출할지 고려한다.<br> \n",
    "\n",
    "### 2. 제어 플래그를 갱신하는 코드 각각을 적절한 데어문으로 바꾼다. 하나 바꿀 때마다 테스트한다. <br>\n",
    "\n",
    "### 3. 모두 수정했다면 제어 플래그를 제거한다. <br>"
   ]
  },
  {
   "cell_type": "markdown",
   "metadata": {},
   "source": [
    "# Example"
   ]
  },
  {
   "cell_type": "code",
   "execution_count": 5,
   "metadata": {},
   "outputs": [],
   "source": [
    "def checkForMiscreants(people):\n",
    "    found = False\n",
    "    for p in people:\n",
    "        if not found:\n",
    "            if p == '조커':\n",
    "                sendAlert()\n",
    "                found = True\n",
    "            elif p == '사루만':\n",
    "                sendAlert()\n",
    "                found = True"
   ]
  },
  {
   "cell_type": "code",
   "execution_count": 6,
   "metadata": {},
   "outputs": [
    {
     "name": "stdout",
     "output_type": "stream",
     "text": [
      "ALERT\n"
     ]
    }
   ],
   "source": [
    "checkForMiscreants(people)"
   ]
  },
  {
   "cell_type": "code",
   "execution_count": 7,
   "metadata": {},
   "outputs": [],
   "source": [
    "def checkForMiscreants(people):\n",
    "    for p in people:\n",
    "        if p == '조커':\n",
    "            sendAlert()\n",
    "            return\n",
    "        elif p == '사루만':\n",
    "            sendAlert()\n",
    "            return"
   ]
  },
  {
   "cell_type": "code",
   "execution_count": 8,
   "metadata": {},
   "outputs": [
    {
     "name": "stdout",
     "output_type": "stream",
     "text": [
      "ALERT\n"
     ]
    }
   ],
   "source": [
    "checkForMiscreants(people)"
   ]
  },
  {
   "cell_type": "code",
   "execution_count": null,
   "metadata": {},
   "outputs": [],
   "source": []
  }
 ],
 "metadata": {
  "kernelspec": {
   "display_name": "Python 3",
   "language": "python",
   "name": "python3"
  },
  "language_info": {
   "codemirror_mode": {
    "name": "ipython",
    "version": 3
   },
   "file_extension": ".py",
   "mimetype": "text/x-python",
   "name": "python",
   "nbconvert_exporter": "python",
   "pygments_lexer": "ipython3",
   "version": "3.6.5"
  }
 },
 "nbformat": 4,
 "nbformat_minor": 2
}
