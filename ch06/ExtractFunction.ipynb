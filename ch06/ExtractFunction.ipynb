{
 "cells": [
  {
   "cell_type": "code",
   "execution_count": 3,
   "metadata": {},
   "outputs": [],
   "source": [
    "def printOwing_before(invoice):\n",
    "    print(f'고객명 : {invoice.customer}')\n",
    "    print(f'채무액 : {invoice.outstanding}')"
   ]
  },
  {
   "cell_type": "code",
   "execution_count": 4,
   "metadata": {},
   "outputs": [],
   "source": [
    "def printOwing_after(invoice):\n",
    "    \n",
    "    def printDetail(invoice):\n",
    "        print(f'고객명 : {invoice.customer}')\n",
    "        print(f'채무액 : {invoice.outstanding}')\n",
    "        \n",
    "    printDetail(invoice)"
   ]
  },
  {
   "cell_type": "code",
   "execution_count": 5,
   "metadata": {},
   "outputs": [
    {
     "name": "stdout",
     "output_type": "stream",
     "text": [
      "고객명 : 홍길동\n",
      "채무액 : 35000\n",
      "고객명 : 홍길동\n",
      "채무액 : 35000\n"
     ]
    }
   ],
   "source": [
    "class TestCase:\n",
    "    def __init__(self):\n",
    "        self.customer = '홍길동'\n",
    "        self.outstanding = 35000\n",
    "testcase = TestCase()\n",
    "printOwing_before(testcase)\n",
    "printOwing_after(testcase)"
   ]
  },
  {
   "cell_type": "markdown",
   "metadata": {},
   "source": [
    "### 함수( 메서드, 프로시져, 서브루틴) 추출하기 : 특정 코드 조각의 하는 행동을 파악한 뒤, 독립한 함수로 추출하여 행동에 맞는 이름을 할당하여 코드 이해를 더욱 쉽게 할 수 있게 해준다."
   ]
  },
  {
   "cell_type": "markdown",
   "metadata": {},
   "source": [
    "#### 코드를 묶는 대략적인 기준<br>\n",
    "##### 1. 길이가 지나치게 긴 경우\n",
    "##### 2. 코드가 한 화면에 담기지 않는 경우\n",
    "##### 3. 두번 이상 사용된 경우\n",
    "##### **4. 코드의 목적이 한번에 파악하기 힘든 경우** \n",
    "\n",
    "#### 위 와같은 경우를 만나면 코드의 하는 행동을 하나의 함수로 추출하여, 해당 함수 이름을 설정해 두면, 추후에 코드를 파악할 때 도움이 되고, 추후에도 전체적인 흐름을 파악할때 내부의 상세한 구현을 파악하지 않고도 코드의 흐름을 파악할 수 있게 된다.<br>\n",
    "#### 이때 짧은 함수의 이점은 이름을 잘 지어야만 발휘되므로, 이름 짓는데 너 많은 노력을 기울이도록 하자"
   ]
  },
  {
   "cell_type": "markdown",
   "metadata": {},
   "source": [
    "## 절차\n",
    "\n",
    "### 1. 코드를 추출하여 함수를 새로 만들고 함수가 어떻게 행동하는지가 아닌 무엇을 하는지를 나타낼 수 있는 이름을 붙인다. <br>\n",
    "\n",
    "### 2. 추출할 코드를 원본 함수에서 복사하여 새 함수에 붙어넣는다. <br>\n",
    "\n",
    "### 3. 추출한 코드 중 원본 함수의 지역 변수를 참조(사용)하거나 추출한 함수 내에서 접근할 수 없는 유효범위를 벗어나는 변수가 있는지 검사하고, 있다면 매개변수 등으로 전달한다.<br>\n",
    "\n",
    "### 4. 변수를 다 처리했다면, 코드 구문상, 문서 형싱상의 버그가 없는지 확인한다. <br>\n",
    "\n",
    "### 5. 원본 함수에서 추출한 코드 부분을 새로 만든 함수를 호출하도록 코드를 변경한다.<br>\n",
    "\n",
    "### 6. 테스트 한다 <br>\n",
    "\n",
    "### 7. 프로젝트내 다른 코드에 방금 추출한 것과 똑같거나 비슷한 코드가 없는지 살핀 후, 방금 추출한 새 함수를 호출 할 수 있는지 검토한다. <br>\n",
    "\n"
   ]
  },
  {
   "cell_type": "markdown",
   "metadata": {},
   "source": [
    "# Example"
   ]
  },
  {
   "cell_type": "code",
   "execution_count": 54,
   "metadata": {},
   "outputs": [],
   "source": [
    "from datetime import datetime, timedelta\n",
    "\n",
    "def date_format(date):\n",
    "    return f'{date:%b %d %Y}'\n",
    "def printOwing(invoice):\n",
    "    outstanding = 0\n",
    "    print('*'*30)\n",
    "    print('*'*10 + '고객채무' + '*'*10)\n",
    "    print('*'*30)\n",
    "    \n",
    "    for order in invoice.orders:\n",
    "        outstanding += order.amount\n",
    "    \n",
    "    today = datetime.now()\n",
    "    invoice.duedate = today + timedelta(days=30)\n",
    "    \n",
    "    print(f'고객명 : {invoice.customer}')\n",
    "    print(f'채무액 : {outstanding}')\n",
    "    print(f'마감일 : {date_format(invoice.duedate)}')\n",
    "    "
   ]
  },
  {
   "cell_type": "code",
   "execution_count": 55,
   "metadata": {},
   "outputs": [],
   "source": [
    "class TestCase:\n",
    "    def __init__(self):\n",
    "        self.customer = '홍길동'\n",
    "        self.orders = [\n",
    "            Order(amount=30),\n",
    "            Order(amount=50),\n",
    "            Order(amount=15),\n",
    "            Order(amount=200),\n",
    "        ]\n",
    "        self.duedate = None\n",
    "class Order:\n",
    "    def __init__(self, amount):\n",
    "        self.amount = amount"
   ]
  },
  {
   "cell_type": "code",
   "execution_count": 56,
   "metadata": {},
   "outputs": [
    {
     "name": "stdout",
     "output_type": "stream",
     "text": [
      "******************************\n",
      "**********고객채무**********\n",
      "******************************\n",
      "고객명 : 홍길동\n",
      "채무액 : 295\n",
      "마감일 : Sep 01 2020\n"
     ]
    }
   ],
   "source": [
    "printOwing(TestCase())"
   ]
  },
  {
   "cell_type": "code",
   "execution_count": 58,
   "metadata": {},
   "outputs": [],
   "source": [
    "def printBanner():\n",
    "    print('*'*30)\n",
    "    print('*'*10 + '고객채무' + '*'*10)\n",
    "    print('*'*30)\n",
    "    \n",
    "def printDetails(invoice, outstanding):\n",
    "    print(f'고객명 : {invoice.customer}')\n",
    "    print(f'채무액 : {outstanding}')\n",
    "    print(f'마감일 : {date_format(invoice.duedate)}')"
   ]
  },
  {
   "cell_type": "code",
   "execution_count": 61,
   "metadata": {},
   "outputs": [],
   "source": [
    "def printOwing(invoice):\n",
    "    outstanding = 0\n",
    "    printBanner()\n",
    "    \n",
    "    for order in invoice.orders:\n",
    "        outstanding += order.amount\n",
    "    \n",
    "    today = datetime.now()\n",
    "    invoice.duedate = today + timedelta(days=30)\n",
    "    \n",
    "    printDetails(invoice=invoice, outstanding=outstanding)"
   ]
  },
  {
   "cell_type": "code",
   "execution_count": 62,
   "metadata": {},
   "outputs": [
    {
     "name": "stdout",
     "output_type": "stream",
     "text": [
      "******************************\n",
      "**********고객채무**********\n",
      "******************************\n",
      "고객명 : 홍길동\n",
      "채무액 : 295\n",
      "마감일 : Sep 01 2020\n"
     ]
    }
   ],
   "source": [
    "printOwing(TestCase())"
   ]
  },
  {
   "cell_type": "code",
   "execution_count": 63,
   "metadata": {},
   "outputs": [],
   "source": [
    "def recordDueDate(invoice, dudate_delta=30):\n",
    "    today = datetime.now()\n",
    "    invoice.duedate = today + timedelta(days=dudate_delta)"
   ]
  },
  {
   "cell_type": "code",
   "execution_count": 66,
   "metadata": {},
   "outputs": [],
   "source": [
    "def printOwing(invoice):\n",
    "    outstanding = 0\n",
    "    printBanner()\n",
    "    \n",
    "    for order in invoice.orders:\n",
    "        outstanding += order.amount\n",
    "    \n",
    "    recordDueDate(invoice)\n",
    "    \n",
    "    printDetails(invoice=invoice, outstanding=outstanding)"
   ]
  },
  {
   "cell_type": "code",
   "execution_count": 67,
   "metadata": {},
   "outputs": [
    {
     "name": "stdout",
     "output_type": "stream",
     "text": [
      "******************************\n",
      "**********고객채무**********\n",
      "******************************\n",
      "고객명 : 홍길동\n",
      "채무액 : 295\n",
      "마감일 : Sep 01 2020\n"
     ]
    }
   ],
   "source": [
    "printOwing(TestCase())"
   ]
  },
  {
   "cell_type": "code",
   "execution_count": 68,
   "metadata": {},
   "outputs": [],
   "source": [
    "def calculateOustanding(invoice):\n",
    "    result = 0\n",
    "    for order in invoice.orders:\n",
    "        result += order.amount\n",
    "    return result"
   ]
  },
  {
   "cell_type": "code",
   "execution_count": 69,
   "metadata": {},
   "outputs": [],
   "source": [
    "def printOwing(invoice):\n",
    "    \n",
    "    printBanner()\n",
    "    \n",
    "    outstanding = calculateOustanding(invoice)\n",
    "    \n",
    "    recordDueDate(invoice)\n",
    "    \n",
    "    printDetails(invoice, outstanding)"
   ]
  },
  {
   "cell_type": "code",
   "execution_count": 70,
   "metadata": {},
   "outputs": [
    {
     "name": "stdout",
     "output_type": "stream",
     "text": [
      "******************************\n",
      "**********고객채무**********\n",
      "******************************\n",
      "고객명 : 홍길동\n",
      "채무액 : 295\n",
      "마감일 : Sep 01 2020\n"
     ]
    }
   ],
   "source": [
    "printOwing(TestCase())"
   ]
  }
 ],
 "metadata": {
  "kernelspec": {
   "display_name": "Python 3",
   "language": "python",
   "name": "python3"
  },
  "language_info": {
   "codemirror_mode": {
    "name": "ipython",
    "version": 3
   },
   "file_extension": ".py",
   "mimetype": "text/x-python",
   "name": "python",
   "nbconvert_exporter": "python",
   "pygments_lexer": "ipython3",
   "version": "3.6.5"
  }
 },
 "nbformat": 4,
 "nbformat_minor": 4
}
