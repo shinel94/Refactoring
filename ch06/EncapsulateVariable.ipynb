{
 "cells": [
  {
   "cell_type": "code",
   "execution_count": 3,
   "metadata": {},
   "outputs": [],
   "source": [
    "defualtOwner = {'firstName': '마틴', 'lastName': '파울러'}"
   ]
  },
  {
   "cell_type": "code",
   "execution_count": 4,
   "metadata": {},
   "outputs": [],
   "source": [
    "def defualtOwner():\n",
    "    return defualtOwnder"
   ]
  },
  {
   "cell_type": "code",
   "execution_count": 5,
   "metadata": {},
   "outputs": [],
   "source": [
    "def setdefualtOwner(arg):\n",
    "    defualtOwner = arg"
   ]
  },
  {
   "cell_type": "markdown",
   "metadata": {},
   "source": [
    "### 함수는 대체로 데이터보다 다루기가 수월하기 때문에, 특히 변수의 경우 변수에 할당된 유효범위도 신경써야 하며, 유효범위가 넓어질 수록 데이터 관리가 어려워 지기 때문에, 주의가 필요하다.<br> 접근할 수 있는 범위가 넓은 데이터를 옮길 때는 먼저 그 데이터로의 접근을 독접하는 함수를 만드는 식으로 캡슐화하는 것이 가장 좋은 방법일 때가 많다.<br> 또한 데이터를 캡슐화 하여 관리하게 되면, 데이터를 변경하고 사용하는데 있어서, 데이터를 감시하는 확실한 통로가 되어 줄 수 있다."
   ]
  },
  {
   "cell_type": "markdown",
   "metadata": {},
   "source": [
    "## 절차\n",
    "\n",
    "### 1. 변수로의 접근과 갱신을 전담하는 캡슐화 함수를 만든다. <br>\n",
    "\n",
    "### 2. 정적 검사를 수행한다.<br>\n",
    "\n",
    "### 3. 변수를 직접 참조하던 부분을 모두 적절한 캡슐화 함수 호출로 바꾸고, 바뀌는 시점마다 테스트한다.<br>\n",
    "\n",
    "### 4. 변수로의 접근 범위를 제한한다. <br>\n",
    "\n",
    "### 5. 변수 값이 레코드라면 레코드 캡슐화하기를 적용할지 고려해본다.<br>"
   ]
  },
  {
   "cell_type": "code",
   "execution_count": null,
   "metadata": {},
   "outputs": [],
   "source": []
  }
 ],
 "metadata": {
  "kernelspec": {
   "display_name": "Python 3",
   "language": "python",
   "name": "python3"
  },
  "language_info": {
   "codemirror_mode": {
    "name": "ipython",
    "version": 3
   },
   "file_extension": ".py",
   "mimetype": "text/x-python",
   "name": "python",
   "nbconvert_exporter": "python",
   "pygments_lexer": "ipython3",
   "version": "3.6.5"
  }
 },
 "nbformat": 4,
 "nbformat_minor": 2
}
