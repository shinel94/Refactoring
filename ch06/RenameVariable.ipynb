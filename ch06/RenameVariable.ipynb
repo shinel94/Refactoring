{
 "cells": [
  {
   "cell_type": "code",
   "execution_count": 1,
   "metadata": {},
   "outputs": [],
   "source": [
    "height = 10\n",
    "width = 20\n",
    "a = height * width"
   ]
  },
  {
   "cell_type": "code",
   "execution_count": 2,
   "metadata": {},
   "outputs": [],
   "source": [
    "area = height * width"
   ]
  },
  {
   "cell_type": "markdown",
   "metadata": {},
   "source": [
    "### 프로그래밍의 가장 중요한 부분은 이름명명하기다. 잘 지어진 이름을 가진 변수는 프로그래머가 하려는 일에 관해 많은 것을 설명해 줄 수 있다. <br> 특히 참조나 호출이 여러번 일어나는 변수의 경우에는 특히 신경써서 변수명을 지어야 한다."
   ]
  },
  {
   "cell_type": "markdown",
   "metadata": {},
   "source": [
    "## 절차\n",
    "\n",
    "### 1. 폭넓게 자주 참조되고 변경되는 변수라면 변수 캡슐화하기를 고려한다. <br>\n",
    "\n",
    "### 2. 이름을 바꿀 변수를 참조하는 곳을 모두 찾아서 하나씩 변경한다. <br>\n",
    "\n",
    "### 3. 테스트 한다. <br>"
   ]
  },
  {
   "cell_type": "code",
   "execution_count": 4,
   "metadata": {},
   "outputs": [],
   "source": [
    "obj = {'articleTitle':'제목'}\n",
    "tqHd = \"untitled\"\n",
    "result = f'<h1>{tqHd}</h1>'\n",
    "tdHd = obj['articleTitle']"
   ]
  },
  {
   "cell_type": "code",
   "execution_count": 19,
   "metadata": {},
   "outputs": [],
   "source": [
    "class tqHd:\n",
    "    def __init__(self):\n",
    "        self.__var = \"untitled\"\n",
    "    def __call__(self, arg=None):\n",
    "        if arg is None:\n",
    "            return self.__var\n",
    "        else:\n",
    "            self.__var = arg\n",
    "            return self.__var"
   ]
  },
  {
   "cell_type": "code",
   "execution_count": 20,
   "metadata": {},
   "outputs": [],
   "source": [
    "x = tqHd()\n",
    "print(f'<h1>{x()}</h1>')"
   ]
  },
  {
   "cell_type": "code",
   "execution_count": 23,
   "metadata": {},
   "outputs": [
    {
     "name": "stdout",
     "output_type": "stream",
     "text": [
      "<h1>ab</h1>\n"
     ]
    }
   ],
   "source": [
    "x('ab')\n",
    "print(f'<h1>{x()}</h1>')"
   ]
  }
 ],
 "metadata": {
  "kernelspec": {
   "display_name": "Python 3",
   "language": "python",
   "name": "python3"
  },
  "language_info": {
   "codemirror_mode": {
    "name": "ipython",
    "version": 3
   },
   "file_extension": ".py",
   "mimetype": "text/x-python",
   "name": "python",
   "nbconvert_exporter": "python",
   "pygments_lexer": "ipython3",
   "version": "3.6.5"
  }
 },
 "nbformat": 4,
 "nbformat_minor": 2
}
