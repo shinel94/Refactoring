{
 "cells": [
  {
   "cell_type": "code",
   "execution_count": 1,
   "metadata": {},
   "outputs": [],
   "source": [
    "def base(aRating):\n",
    "    pass\n",
    "def taxableCharge(aRating):\n",
    "    pass"
   ]
  },
  {
   "cell_type": "code",
   "execution_count": 2,
   "metadata": {},
   "outputs": [],
   "source": [
    "def enrichReading(argReading):\n",
    "    aReading = argReading.copy()\n",
    "    aReading.baseCharge = base(aReading)\n",
    "    aReading.taxableCharge = taxableCharge(aReading)\n",
    "    return aReading"
   ]
  },
  {
   "cell_type": "markdown",
   "metadata": {},
   "source": [
    "### 소프트웨어나 모든 기능을 가진 프로그램은 데이터를 입력받아서 여러 가지 액션을 취해서 정보를 도출한다. <br> 이렇게 도출된 정보는 여러 곳에서 사용될 수 있는데, 이런 정보가 사용될 경우에는 정보를 도출하는 액션이 반복해서 호출되는 경우가 많다. <br> 이런 반복호출을 막기 위해서, 변환 함수를 통해서 원본 데이터를 입력받고, 도출되는 정보들을 모두 미리 계산해둔뒤 필드에 저장해두고 사용시 해당 값을 호출하도록 설정 할 수 있다. <br> 이렇게 되면, 정보를 도출하는 과정을 파악하거나, 변경이 생길때 해당 변환함수만 파악하면 되기 때문에, 코드 수정 및 파악이 보다 매끄러워 진다. <br> 하나의 클래스로 묶기도 가능하지만, 호출 되는 데이터가 코드 안에서 갱신이 되지 않는다면, 클래스보다는 변환함수를 호출하는 것이 낫다."
   ]
  },
  {
   "cell_type": "markdown",
   "metadata": {},
   "source": [
    "## 절차\n",
    "\n",
    "### 1. 변환할 레코드를 입력받아서 값을 그대로 변환하는 변환 함수를 만든다. 이때 원본 데이터가 오염되지 않도록 유의한다.<br>\n",
    "\n",
    "### 2. 묶을 함수 중 함수 하나를 골라서 본문 코드를 변환 함수로 옮기고, 처리 결과를 레코드에서 새 필드로 기록한다. 그런 다음 클라이언트 코드(해당 정보를 사용하는 부분)가 이 필드를 사용하도록 수정한다. <br>\n",
    "\n",
    "### 3. 테스트한다. <br>\n",
    "\n",
    "### 4. 나머지 관련 함수도 위 과정에 따라서 처리한다. <br>\n",
    "\n",
    "\n"
   ]
  },
  {
   "cell_type": "code",
   "execution_count": 6,
   "metadata": {},
   "outputs": [],
   "source": [
    "reading = {'customer': 'ivan', 'quantity': 10, 'month': 5, 'year': 2017}"
   ]
  },
  {
   "cell_type": "code",
   "execution_count": 12,
   "metadata": {},
   "outputs": [],
   "source": [
    "def acquireReading():\n",
    "    return {'customer': 'ivan', 'quantity': 10, 'month': 5, 'year': 2017}\n",
    "\n",
    "def baseRate(month, year):\n",
    "    return month // 10 + year\n",
    "\n",
    "def taxThreshold(year):\n",
    "    if year < 5:\n",
    "        return 5\n",
    "    else:\n",
    "        return -2"
   ]
  },
  {
   "cell_type": "code",
   "execution_count": 14,
   "metadata": {
    "scrolled": true
   },
   "outputs": [],
   "source": [
    "aReading = acquireReading()\n",
    "baseCharge = baseRate(aReading['month'], aReading['year']) * aReading['quantity']\n",
    "taxableCharge = max(0, baseCharge - taxThreshold(aReading['year']))"
   ]
  },
  {
   "cell_type": "code",
   "execution_count": 16,
   "metadata": {},
   "outputs": [],
   "source": [
    "\n",
    "def calculateBaseCharge(aReading):\n",
    "    return baseRate(aReading['month'], aReading['year']) * aReading['quantity']\n",
    "aReading = acquireReading()\n",
    "basicChargeAmount = calculateBaseCharge(aReading)"
   ]
  },
  {
   "cell_type": "code",
   "execution_count": 17,
   "metadata": {},
   "outputs": [],
   "source": [
    "def enrichReading(original):\n",
    "    result = original.copy()\n",
    "    return result"
   ]
  },
  {
   "cell_type": "code",
   "execution_count": 20,
   "metadata": {},
   "outputs": [
    {
     "name": "stdout",
     "output_type": "stream",
     "text": [
      "20170\n"
     ]
    }
   ],
   "source": [
    "rawReading = acquireReading()\n",
    "aReading = enrichReading(rawReading)\n",
    "basicChargeAmount = calculateBaseCharge(aReading)\n",
    "print(basicChargeAmount)"
   ]
  },
  {
   "cell_type": "code",
   "execution_count": 21,
   "metadata": {},
   "outputs": [],
   "source": [
    "def enrichReading(original):\n",
    "    result = original.copy()\n",
    "    result['baseCharge'] = calculateBaseCharge(original)\n",
    "    return result"
   ]
  },
  {
   "cell_type": "code",
   "execution_count": 22,
   "metadata": {},
   "outputs": [
    {
     "name": "stdout",
     "output_type": "stream",
     "text": [
      "20170\n"
     ]
    }
   ],
   "source": [
    "rawReading = acquireReading()\n",
    "aReading = enrichReading(rawReading)\n",
    "basicChargeAmount = aReading['baseCharge']\n",
    "print(basicChargeAmount)"
   ]
  },
  {
   "cell_type": "code",
   "execution_count": 33,
   "metadata": {},
   "outputs": [],
   "source": [
    "def enrichReading(original):\n",
    "    result = original.copy()\n",
    "    result['baseCharge'] = calculateBaseCharge(original)\n",
    "    assert result is not original\n",
    "    return result"
   ]
  },
  {
   "cell_type": "code",
   "execution_count": 34,
   "metadata": {},
   "outputs": [],
   "source": [
    "aReading = acquireReading()\n",
    "aReading = enrichReading(aReading)\n",
    "baseCharge = aReading['baseCharge']\n",
    "taxableCharge = max(0, baseCharge - taxThreshold(aReading['year']))"
   ]
  },
  {
   "cell_type": "code",
   "execution_count": 35,
   "metadata": {},
   "outputs": [],
   "source": [
    "aReading = acquireReading()\n",
    "aReading = enrichReading(aReading)\n",
    "taxableCharge = max(0, aReading['baseCharge'] - taxThreshold(aReading['year']))"
   ]
  },
  {
   "cell_type": "code",
   "execution_count": 36,
   "metadata": {},
   "outputs": [],
   "source": [
    "def enrichReading(original):\n",
    "    result = original.copy()\n",
    "    result['baseCharge'] = calculateBaseCharge(original)\n",
    "    result['taxableCharge'] = max(0, result['baseCharge'] - taxThreshold(aReading['year']))\n",
    "    assert result is not original\n",
    "    return result"
   ]
  },
  {
   "cell_type": "code",
   "execution_count": 37,
   "metadata": {},
   "outputs": [],
   "source": [
    "aReading = acquireReading()\n",
    "aReading = enrichReading(aReading)\n",
    "taxableCharge = aReading['taxableCharge']"
   ]
  },
  {
   "cell_type": "code",
   "execution_count": 38,
   "metadata": {},
   "outputs": [
    {
     "name": "stdout",
     "output_type": "stream",
     "text": [
      "20172\n"
     ]
    }
   ],
   "source": [
    "print(taxableCharge)"
   ]
  },
  {
   "cell_type": "markdown",
   "metadata": {},
   "source": [
    "# 위와 같이 함수로 변환을 하도록 짜두는 경우는, 데이터 컨테이너의 값들 중 하나만 변화하게 되어도, 데이터의 일관성이 소실되어서, 값이 변형되지 않도록 제어할 필요가 있다."
   ]
  }
 ],
 "metadata": {
  "kernelspec": {
   "display_name": "Python 3",
   "language": "python",
   "name": "python3"
  },
  "language_info": {
   "codemirror_mode": {
    "name": "ipython",
    "version": 3
   },
   "file_extension": ".py",
   "mimetype": "text/x-python",
   "name": "python",
   "nbconvert_exporter": "python",
   "pygments_lexer": "ipython3",
   "version": "3.6.5"
  }
 },
 "nbformat": 4,
 "nbformat_minor": 2
}
