{
 "cells": [
  {
   "cell_type": "code",
   "execution_count": 1,
   "metadata": {},
   "outputs": [],
   "source": [
    "def ammountInvoiced(startData, endData):\n",
    "    pass\n",
    "def ammountReceived(startDate, endDate):\n",
    "    pass\n",
    "def ammountOverdue(startDate, endDate):\n",
    "    pass"
   ]
  },
  {
   "cell_type": "code",
   "execution_count": 2,
   "metadata": {},
   "outputs": [],
   "source": [
    "def ammountInvoiced(aDateRange):\n",
    "    pass\n",
    "def ammountReceived(aDateRange):\n",
    "    pass\n",
    "def ammountOverdue(aDateRange):\n",
    "    pass"
   ]
  },
  {
   "cell_type": "markdown",
   "metadata": {},
   "source": [
    "### 데이터는 여러개의 항목들로 이 함수에서 저 함수로 페어하게 매개변수로 전달되는 경우가 많다. <br> 이렇게 함께 다니는 데이터들은 하나로 묶어서 관리하는 것이 좋다. <br> 이런 데이터 / 변수 뭉치들을 하나로 관리하면 변수들 데이터간의 관계가 <br> 보다 명확해져서 관리도 보다 효율적으로 할 수 있고, <br> 함수나 메서드에서 주고받을 매개변수의 수가 줄어드는 이점이 있다. <br> 또한 다른 모든함수에서 동일한 이름을 가진 변수로 값을 참조할 수 있다는 장점이 있다. <br>"
   ]
  },
  {
   "cell_type": "markdown",
   "metadata": {},
   "source": [
    "### 또한 공통 데이터를 모으고 취함해 관리하다 보면, 해당 데이터들에 적용되는 함수들도 하나의 객체에 추가하여 관리를 보다 효율적으로 할 수도있고, 해당 데이터와 메서드를 합쳐 하나의 객체로 만들어 추상화를 보다 진행해서 코드 구조를 보다 명확하게 이해할 수 있게 된다."
   ]
  },
  {
   "cell_type": "markdown",
   "metadata": {},
   "source": [
    "## 절차\n",
    "\n",
    "### 1. 적당한 데이터 구조로 관리되고 있지 않다면, 적절한 구조를 만든다. <br>\n",
    "\n",
    "### 2. 테스트 한다.<br>\n",
    "\n",
    "### 3. 함수 선언 바꾸기로 새 데이터 구조를 매개변수로 추가한다.<br>\n",
    "\n",
    "### 4. 테스트 한다. <br>\n",
    "\n",
    "### 5. 함수 호출 시 새로운 데이터 구조 인스턴스를 넘기고 활용하도록 코드를 수정하며, 수정이 될 때마다 테스트 한다.<br>\n",
    "\n",
    "### 6. 기존 매개변수를 사용하던 코드를 새 데이터 구조에 맞도록 고친다.<br>\n",
    "\n",
    "### 7. 기존 매개변수가 선언되고 사용되는 부분들을 다 제거하고 테스트한다<br>\n",
    "\n"
   ]
  },
  {
   "cell_type": "code",
   "execution_count": 3,
   "metadata": {},
   "outputs": [],
   "source": [
    "station = {'name':'ZB1',\n",
    "          'readings': [\n",
    "              {'temp': 47, 'time': '2016-11-10 09:10'},\n",
    "              {'temp': 53, 'time': '2016-11-10 09:20'},\n",
    "              {'temp': 58, 'time': '2016-11-10 09:30'},\n",
    "              {'temp': 53, 'time': '2016-11-10 09:40'},\n",
    "              {'temp': 51, 'time': '2016-11-10 09:50'},\n",
    "          ]}"
   ]
  },
  {
   "cell_type": "code",
   "execution_count": 8,
   "metadata": {},
   "outputs": [],
   "source": [
    "def readingsOutsideRange(station, min_, max_):\n",
    "    \n",
    "    return list(filter(lambda readings: (readings['temp'] < min_) or (readings['temp'] > max_), station['readings']))"
   ]
  },
  {
   "cell_type": "code",
   "execution_count": 9,
   "metadata": {},
   "outputs": [],
   "source": [
    "class TestData:\n",
    "    def __init__(self, floor_temp, ceiling_temp):\n",
    "        self.temperatureFloor = floor_temp\n",
    "        self.temperatureCeiling = ceiling_temp"
   ]
  },
  {
   "cell_type": "code",
   "execution_count": 10,
   "metadata": {},
   "outputs": [],
   "source": [
    "operationPlan = TestData(45, 55)\n",
    "alters = readingsOutsideRange(station, operationPlan.temperatureFloor, operationPlan.temperatureCeiling)"
   ]
  },
  {
   "cell_type": "code",
   "execution_count": 11,
   "metadata": {},
   "outputs": [
    {
     "data": {
      "text/plain": [
       "[{'temp': 58, 'time': '2016-11-10 09:30'}]"
      ]
     },
     "execution_count": 11,
     "metadata": {},
     "output_type": "execute_result"
    }
   ],
   "source": [
    "alters"
   ]
  },
  {
   "cell_type": "code",
   "execution_count": 12,
   "metadata": {},
   "outputs": [],
   "source": [
    "class NumberRange:\n",
    "    def __init__(self, min_, max_):\n",
    "        self._data = {'min': min_, 'max': max_}\n",
    "        self.min = self._data['min']\n",
    "        self.max = self._data['max']"
   ]
  },
  {
   "cell_type": "code",
   "execution_count": 14,
   "metadata": {},
   "outputs": [],
   "source": [
    "def readingsOutsideRange(station, min_, max_, range_):\n",
    "    \n",
    "    return list(filter(lambda readings: (readings['temp'] < min_) or (readings['temp'] > max_), station['readings']))"
   ]
  },
  {
   "cell_type": "code",
   "execution_count": 15,
   "metadata": {},
   "outputs": [
    {
     "data": {
      "text/plain": [
       "[{'temp': 58, 'time': '2016-11-10 09:30'}]"
      ]
     },
     "execution_count": 15,
     "metadata": {},
     "output_type": "execute_result"
    }
   ],
   "source": [
    "readingsOutsideRange(station, operationPlan.temperatureFloor, operationPlan.temperatureCeiling, None)"
   ]
  },
  {
   "cell_type": "code",
   "execution_count": 16,
   "metadata": {},
   "outputs": [],
   "source": [
    "range_ = NumberRange(operationPlan.temperatureFloor, operationPlan.temperatureCeiling)"
   ]
  },
  {
   "cell_type": "code",
   "execution_count": 17,
   "metadata": {},
   "outputs": [
    {
     "data": {
      "text/plain": [
       "[{'temp': 58, 'time': '2016-11-10 09:30'}]"
      ]
     },
     "execution_count": 17,
     "metadata": {},
     "output_type": "execute_result"
    }
   ],
   "source": [
    "readingsOutsideRange(station, operationPlan.temperatureFloor, operationPlan.temperatureCeiling, range_)"
   ]
  },
  {
   "cell_type": "code",
   "execution_count": 18,
   "metadata": {},
   "outputs": [],
   "source": [
    "def readingsOutsideRange(station, range_):\n",
    "    \n",
    "    return list(filter(lambda readings: (readings['temp'] < range_.min) or (readings['temp'] > range_.max), station['readings']))"
   ]
  },
  {
   "cell_type": "code",
   "execution_count": 19,
   "metadata": {},
   "outputs": [
    {
     "data": {
      "text/plain": [
       "[{'temp': 58, 'time': '2016-11-10 09:30'}]"
      ]
     },
     "execution_count": 19,
     "metadata": {},
     "output_type": "execute_result"
    }
   ],
   "source": [
    "readingsOutsideRange(station, range_)"
   ]
  },
  {
   "cell_type": "code",
   "execution_count": 21,
   "metadata": {},
   "outputs": [],
   "source": [
    "class NumberRange:\n",
    "    def __init__(self, min_, max_):\n",
    "        self._data = {'min': min_, 'max': max_}\n",
    "        self.min = self._data['min']\n",
    "        self.max = self._data['max']\n",
    "    \n",
    "    def contains(self, temp):\n",
    "        return (temp >= self.min) and (temp <= self.max)"
   ]
  },
  {
   "cell_type": "code",
   "execution_count": 32,
   "metadata": {},
   "outputs": [],
   "source": [
    "def readingsOutsideRange(station, range_):\n",
    "    \n",
    "    return list(filter(lambda readings: not(range_.contains(readings['temp'])), station['readings']))"
   ]
  },
  {
   "cell_type": "code",
   "execution_count": 33,
   "metadata": {},
   "outputs": [
    {
     "data": {
      "text/plain": [
       "[{'temp': 58, 'time': '2016-11-10 09:30'}]"
      ]
     },
     "execution_count": 33,
     "metadata": {},
     "output_type": "execute_result"
    }
   ],
   "source": [
    "range_ = NumberRange(operationPlan.temperatureFloor, operationPlan.temperatureCeiling)\n",
    "readingsOutsideRange(station, range_)"
   ]
  }
 ],
 "metadata": {
  "kernelspec": {
   "display_name": "Python 3",
   "language": "python",
   "name": "python3"
  },
  "language_info": {
   "codemirror_mode": {
    "name": "ipython",
    "version": 3
   },
   "file_extension": ".py",
   "mimetype": "text/x-python",
   "name": "python",
   "nbconvert_exporter": "python",
   "pygments_lexer": "ipython3",
   "version": "3.6.5"
  }
 },
 "nbformat": 4,
 "nbformat_minor": 2
}
