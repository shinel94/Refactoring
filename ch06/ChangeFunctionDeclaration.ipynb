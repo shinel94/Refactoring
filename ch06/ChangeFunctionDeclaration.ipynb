{
 "cells": [
  {
   "cell_type": "code",
   "execution_count": 1,
   "metadata": {},
   "outputs": [],
   "source": [
    "def circum(radius):\n",
    "    pass"
   ]
  },
  {
   "cell_type": "code",
   "execution_count": 2,
   "metadata": {},
   "outputs": [],
   "source": [
    "def circumferencer(radius):\n",
    "    pass"
   ]
  },
  {
   "cell_type": "markdown",
   "metadata": {},
   "source": [
    "### 함수는 프로그램을 작은 부분으로 나누는 주된 수단으로, 함수 선언은 각 부분이 서로 맞물리는 방식으로 표현하며, 실직적인 프로그램/ 시스템의 구성 오소를 직접 조립하는 연결부 역할을 한다. <br> 그렇기 때문에 이 연결부를 잘 정의하고 사용해야 프로그램 작성 및 새로운 기능 추가도 쉽게 할  수 있게 된다."
   ]
  },
  {
   "cell_type": "markdown",
   "metadata": {},
   "source": [
    "### 이때 가장 중요한 것이 바로 함수의 이름이다, 함수의 이름이 명확하다면, 함수 내부 코드를 확인 할 필요도 없이 함수의 하는 일을 파악할 수 있다. <br> 이때 함수 이름을 짓기에 좋은 방법은 주석을 이용해 함수의 목적을 먼저 파악한 뒤, 목적에 맞는 이름을 설정할 수 있게 되고, 주석도 필요 없어 질 수 있다."
   ]
  },
  {
   "cell_type": "markdown",
   "metadata": {},
   "source": [
    "### 함수의 입력과 출력을 담당하는 매개변수의 이름들 역시 함수의 문맥을 표현해주는 중요한 간판이다. <br> 매개변수를 잘 활용하면 다른 모듈과의 커플링을 제거 할 수 있고, 필요한 모듈의 수가 줄어듦으로써 코드 이해도 보다 쉬워지는 효과가 있다."
   ]
  },
  {
   "cell_type": "markdown",
   "metadata": {},
   "source": [
    "## 절차\n",
    "\n",
    "### 1) 간단한 절차\n",
    "\n",
    "### 1. 매개변수를 제거할 때는 함수 본문에서 해당 매개변수를 사용하고 있는지 여부를 파악한다. (파이참의 경우 매개변수가 회색빛을 나타내면 사용하지 않는 것) <br>\n",
    "\n",
    "### 2. 메서드 선언을 원하는 형태로 바꾼다. <br>\n",
    "\n",
    "### 3. 기존 메서드 선언을 참조하는 부분을 모두 찾아서 바뀐 형태로 수정한다.<br>\n",
    "\n",
    "### 4. 테스트 한다. <br>\n",
    "\n",
    "\n",
    "### 2) 마이그레이션 절차\n",
    "\n",
    "### 1. 이어지는 추출 단계를 수월하게 만들어야 한다면, 함수의 본문을 적절히 리팩터링 한다.\n",
    "\n",
    "### 2.함수 본문을 새로운 함수로 추출한다. <br>\n",
    "\n",
    "### 3. 추출한 함수에 매개변수를 추가해야 한다면, 위의 간단한 절차를 따라 추가한다.<br>\n",
    "\n",
    "### 4. 테스트 한다. <br>\n",
    "\n",
    "### 5. 기존 함수를 인라인 한다. <br>\n",
    "\n",
    "### 6. 이름을 보다 명확하게 명명시킨다. <br>\n",
    "\n",
    "### 7. 테스트 한다.\n",
    "\n"
   ]
  },
  {
   "cell_type": "markdown",
   "metadata": {},
   "source": [
    "# Example"
   ]
  },
  {
   "cell_type": "code",
   "execution_count": 3,
   "metadata": {},
   "outputs": [],
   "source": [
    "import math\n",
    "def circum(radius):\n",
    "    return radius * 2 * math.pi"
   ]
  },
  {
   "cell_type": "code",
   "execution_count": 5,
   "metadata": {},
   "outputs": [],
   "source": [
    "def circumference(radius):\n",
    "    return 2 * math.pi * radius"
   ]
  },
  {
   "cell_type": "code",
   "execution_count": 6,
   "metadata": {},
   "outputs": [],
   "source": [
    "def circum(radius):\n",
    "    return 2 * math.pi * radius"
   ]
  },
  {
   "cell_type": "code",
   "execution_count": 7,
   "metadata": {},
   "outputs": [],
   "source": [
    "def circum(radius):\n",
    "    return circumference(radius)"
   ]
  },
  {
   "cell_type": "code",
   "execution_count": 8,
   "metadata": {},
   "outputs": [],
   "source": [
    "def circumference(radius):\n",
    "    return 2 * math.pi.radius"
   ]
  },
  {
   "cell_type": "code",
   "execution_count": 9,
   "metadata": {},
   "outputs": [],
   "source": [
    "class Book:\n",
    "    def __init__(self):\n",
    "        self._reservation = []\n",
    "        self.name = 'name'\n",
    "        \n",
    "    def addReservation(self, customer):\n",
    "        self._reservation.append(customer)"
   ]
  },
  {
   "cell_type": "code",
   "execution_count": 10,
   "metadata": {},
   "outputs": [],
   "source": [
    "class Book:\n",
    "    def __init__(self):\n",
    "        self._reservation = []\n",
    "        self.name = 'name'\n",
    "        \n",
    "    def addReservation(self, customer, isPriority):\n",
    "        self.__addReservation(customer, isPriority)\n",
    "        \n",
    "    def __addReservation(self, customer, isPriority):\n",
    "        if isPriority:\n",
    "            self._reservation = [customer, *self._reservation]\n",
    "        else:\n",
    "            self._reservation.append(customer)"
   ]
  },
  {
   "cell_type": "code",
   "execution_count": 11,
   "metadata": {},
   "outputs": [],
   "source": [
    "def inNewEngland(aCustomer):\n",
    "    return aCustomer.address.state in ['MA', 'CT', 'ME', 'VT', 'NH', 'RI']"
   ]
  },
  {
   "cell_type": "code",
   "execution_count": 12,
   "metadata": {},
   "outputs": [],
   "source": [
    "def inNewEngland(stateCoder):\n",
    "    return stateCoder in ['MA', 'CT', 'ME', 'VT', 'NH', 'RI']"
   ]
  }
 ],
 "metadata": {
  "kernelspec": {
   "display_name": "Python 3",
   "language": "python",
   "name": "python3"
  },
  "language_info": {
   "codemirror_mode": {
    "name": "ipython",
    "version": 3
   },
   "file_extension": ".py",
   "mimetype": "text/x-python",
   "name": "python",
   "nbconvert_exporter": "python",
   "pygments_lexer": "ipython3",
   "version": "3.6.5"
  }
 },
 "nbformat": 4,
 "nbformat_minor": 2
}
