{
 "cells": [
  {
   "cell_type": "code",
   "execution_count": 6,
   "metadata": {},
   "outputs": [],
   "source": [
    "def ReturnValue(order):\n",
    "    return int(order.quantity * order.itemPrice - max(0, order.quantity - 500) * order.itemPrice * 0.05 + min(order.quantity * order.itemPrice * 0.1, 100))"
   ]
  },
  {
   "cell_type": "code",
   "execution_count": 7,
   "metadata": {},
   "outputs": [],
   "source": [
    "class TestCase:\n",
    "    def __init__(self, quantity = 800, itemPrice=5000):\n",
    "        self.quantity = quantity\n",
    "        self.itemPrice = itemPrice"
   ]
  },
  {
   "cell_type": "code",
   "execution_count": 8,
   "metadata": {},
   "outputs": [
    {
     "data": {
      "text/plain": [
       "3925100"
      ]
     },
     "execution_count": 8,
     "metadata": {},
     "output_type": "execute_result"
    }
   ],
   "source": [
    "ReturnValue(TestCase())"
   ]
  },
  {
   "cell_type": "code",
   "execution_count": 10,
   "metadata": {},
   "outputs": [],
   "source": [
    "def ReturnValue(order):\n",
    "    basePrice = order.quantity * order.itemPrice\n",
    "    quantityDiscount = max(0, order.quantity - 500) * order.itemPrice * 0.05\n",
    "    shipping = min(order.quantity * order.itemPrice * 0.1, 100)\n",
    "    return int(basePrice - quantityDiscount + shipping)"
   ]
  },
  {
   "cell_type": "code",
   "execution_count": 11,
   "metadata": {},
   "outputs": [
    {
     "data": {
      "text/plain": [
       "3925100"
      ]
     },
     "execution_count": 11,
     "metadata": {},
     "output_type": "execute_result"
    }
   ],
   "source": [
    "ReturnValue(TestCase())"
   ]
  },
  {
   "cell_type": "markdown",
   "metadata": {},
   "source": [
    "### 하나의 계산식 / 표현식이 너무 길고 복잡하면 코드를 이해를 방해하는 요소가 된다. 이럴때 지역변수를 적절히 활용하여 <br> 계산식 / 표현식을 보다 명확하게 이해할 수 있도록 코드를 쪼갤 수 있고 복잡한 로직을 단계별로 구성하여 관리할 수 있게 된다.<br> 또한 이 과정에서 추가한 지역변수는 디버깅시에도 중단점 등과 같은 요소로 활용하거나 중간 상태를 표현할 수 있게 해준다."
   ]
  },
  {
   "cell_type": "markdown",
   "metadata": {},
   "source": [
    "## 절차\n",
    "\n",
    "### 1. 추출을 적용하려는 표현식에 추출을 적용했을때, 문제는 없는지 확인한다. <br>\n",
    "\n",
    "### 2. 불변 변수를 하나 선언하고 이름을 붙일 표현식의 복제본을 대입한다. (지역변수에 표현식의 일부분을 할당한다) <br>\n",
    "\n",
    "### 3. 원본 표현식을 새로 만든 변수로 교체한다<br>\n",
    "\n",
    "### 4. 테스트 한다. <br>\n",
    "\n",
    "### 5. 프로젝트내 유사한 표현식을 여러 곳에서 사용하고 있다면, 각각을 새로 만든 변수로 교체하고, 교체시마다 테스트 한다.<br>"
   ]
  },
  {
   "cell_type": "markdown",
   "metadata": {},
   "source": [
    "# Example"
   ]
  },
  {
   "cell_type": "code",
   "execution_count": 16,
   "metadata": {},
   "outputs": [],
   "source": [
    "def price(order):\n",
    "    return int(order.quantity * order.itemPrice - \\\n",
    "            max(0, order.quantity - 500) * order.itemPrice * 0.05 + \\\n",
    "            min(order.quantity * order.itemPrice * 0.1, 100))"
   ]
  },
  {
   "cell_type": "code",
   "execution_count": 19,
   "metadata": {},
   "outputs": [],
   "source": [
    "class TestCase:\n",
    "    def __init__(self, quantity=700, itemPrice=2000):\n",
    "        self.quantity = quantity\n",
    "        self.itemPrice = itemPrice"
   ]
  },
  {
   "cell_type": "code",
   "execution_count": 20,
   "metadata": {},
   "outputs": [
    {
     "data": {
      "text/plain": [
       "1380100"
      ]
     },
     "execution_count": 20,
     "metadata": {},
     "output_type": "execute_result"
    }
   ],
   "source": [
    "price(TestCase())"
   ]
  },
  {
   "cell_type": "code",
   "execution_count": 23,
   "metadata": {},
   "outputs": [],
   "source": [
    "def price(order):\n",
    "    basePrice = order.quantity * order.itemPrice\n",
    "    return int(basePrice - \\\n",
    "            max(0, order.quantity - 500) * order.itemPrice * 0.05 + \\\n",
    "            min(basePrice * 0.1, 100))"
   ]
  },
  {
   "cell_type": "code",
   "execution_count": 24,
   "metadata": {},
   "outputs": [
    {
     "data": {
      "text/plain": [
       "1380100"
      ]
     },
     "execution_count": 24,
     "metadata": {},
     "output_type": "execute_result"
    }
   ],
   "source": [
    "price(TestCase())"
   ]
  },
  {
   "cell_type": "code",
   "execution_count": 25,
   "metadata": {},
   "outputs": [],
   "source": [
    "def price(order):\n",
    "    basePrice = order.quantity * order.itemPrice\n",
    "    quantityDiscount = max(0, order.quantity - 500) * order.itemPrice * 0.05\n",
    "    return int(basePrice - quantityDiscount + \\\n",
    "            min(basePrice * 0.1, 100))"
   ]
  },
  {
   "cell_type": "code",
   "execution_count": 26,
   "metadata": {},
   "outputs": [
    {
     "data": {
      "text/plain": [
       "1380100"
      ]
     },
     "execution_count": 26,
     "metadata": {},
     "output_type": "execute_result"
    }
   ],
   "source": [
    "price(TestCase())"
   ]
  },
  {
   "cell_type": "code",
   "execution_count": 27,
   "metadata": {},
   "outputs": [],
   "source": [
    "def price(order):\n",
    "    basePrice = order.quantity * order.itemPrice\n",
    "    quantityDiscount = max(0, order.quantity - 500) * order.itemPrice * 0.05\n",
    "    shipping = min(basePrice * 0.1, 100)\n",
    "    return int(basePrice - quantityDiscount + shipping)"
   ]
  },
  {
   "cell_type": "code",
   "execution_count": 28,
   "metadata": {},
   "outputs": [
    {
     "data": {
      "text/plain": [
       "1380100"
      ]
     },
     "execution_count": 28,
     "metadata": {},
     "output_type": "execute_result"
    }
   ],
   "source": [
    "price(TestCase())"
   ]
  },
  {
   "cell_type": "code",
   "execution_count": 29,
   "metadata": {},
   "outputs": [],
   "source": [
    "class Order:\n",
    "    def __init__(self, aRecord):\n",
    "        self._data = aRecord\n",
    "        self.quantity = aRecord['quantity']\n",
    "        self.itemPrice = aRecord['itemPrice']\n",
    "        self.price = int(self.quantity * self.itemPrice - \\\n",
    "            max(0, self.quantity - 500) * self.itemPrice * 0.05 + \\\n",
    "            min(self.quantity * self.itemPrice * 0.1, 100))"
   ]
  },
  {
   "cell_type": "code",
   "execution_count": 30,
   "metadata": {},
   "outputs": [
    {
     "name": "stdout",
     "output_type": "stream",
     "text": [
      "1380100\n"
     ]
    }
   ],
   "source": [
    "aRecord = {'quantity' : 700,\n",
    "          'itemPrice': 2000}\n",
    "order = Order(aRecord)\n",
    "print(order.price)"
   ]
  },
  {
   "cell_type": "code",
   "execution_count": 33,
   "metadata": {},
   "outputs": [],
   "source": [
    "class Order:\n",
    "    def __init__(self, aRecord):\n",
    "        self._data = aRecord\n",
    "        self.quantity = aRecord['quantity']\n",
    "        self.itemPrice = aRecord['itemPrice']\n",
    "        self.basePrice = self.quantity * self.itemPrice\n",
    "        self.quantityDiscount = max(0, self.quantity - 500) * self.itemPrice * 0.05\n",
    "        self.shipping = min(self.basePrice * 0.1, 100)\n",
    "        self.price = int(self.basePrice - self.quantityDiscount + self.shipping)"
   ]
  },
  {
   "cell_type": "code",
   "execution_count": 34,
   "metadata": {},
   "outputs": [
    {
     "name": "stdout",
     "output_type": "stream",
     "text": [
      "1380100\n"
     ]
    }
   ],
   "source": [
    "aRecord = {'quantity' : 700,\n",
    "          'itemPrice': 2000}\n",
    "order = Order(aRecord)\n",
    "print(order.price)"
   ]
  }
 ],
 "metadata": {
  "kernelspec": {
   "display_name": "Python 3",
   "language": "python",
   "name": "python3"
  },
  "language_info": {
   "codemirror_mode": {
    "name": "ipython",
    "version": 3
   },
   "file_extension": ".py",
   "mimetype": "text/x-python",
   "name": "python",
   "nbconvert_exporter": "python",
   "pygments_lexer": "ipython3",
   "version": "3.6.5"
  }
 },
 "nbformat": 4,
 "nbformat_minor": 2
}
