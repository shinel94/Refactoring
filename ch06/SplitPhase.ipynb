{
 "cells": [
  {
   "cell_type": "code",
   "execution_count": 1,
   "metadata": {},
   "outputs": [
    {
     "ename": "NameError",
     "evalue": "name 'orderString' is not defined",
     "output_type": "error",
     "traceback": [
      "\u001b[1;31m---------------------------------------------------------------------------\u001b[0m",
      "\u001b[1;31mNameError\u001b[0m                                 Traceback (most recent call last)",
      "\u001b[1;32m<ipython-input-1-7aefebd20f99>\u001b[0m in \u001b[0;36m<module>\u001b[1;34m()\u001b[0m\n\u001b[1;32m----> 1\u001b[1;33m \u001b[0morderDate\u001b[0m \u001b[1;33m=\u001b[0m \u001b[0morderString\u001b[0m\u001b[1;33m.\u001b[0m\u001b[0msplit\u001b[0m\u001b[1;33m(\u001b[0m\u001b[1;34m' '\u001b[0m\u001b[1;33m)\u001b[0m\u001b[1;33m\u001b[0m\u001b[0m\n\u001b[0m\u001b[0;32m      2\u001b[0m \u001b[0mproductPrice\u001b[0m \u001b[1;33m=\u001b[0m \u001b[0mpriceList\u001b[0m\u001b[1;33m[\u001b[0m\u001b[0morderDate\u001b[0m\u001b[1;33m[\u001b[0m\u001b[1;36m0\u001b[0m\u001b[1;33m]\u001b[0m\u001b[1;33m.\u001b[0m\u001b[0msplit\u001b[0m\u001b[1;33m(\u001b[0m\u001b[1;34m'-'\u001b[0m\u001b[1;33m)\u001b[0m\u001b[1;33m[\u001b[0m\u001b[1;36m1\u001b[0m\u001b[1;33m]\u001b[0m\u001b[1;33m]\u001b[0m\u001b[1;33m\u001b[0m\u001b[0m\n\u001b[0;32m      3\u001b[0m \u001b[0morderPrice\u001b[0m \u001b[1;33m=\u001b[0m \u001b[0mparseInt\u001b[0m\u001b[1;33m(\u001b[0m\u001b[0morderDate\u001b[0m\u001b[1;33m[\u001b[0m\u001b[1;36m1\u001b[0m\u001b[1;33m]\u001b[0m\u001b[1;33m)\u001b[0m \u001b[1;33m*\u001b[0m \u001b[0mproductPrice\u001b[0m\u001b[1;33m\u001b[0m\u001b[0m\n",
      "\u001b[1;31mNameError\u001b[0m: name 'orderString' is not defined"
     ]
    }
   ],
   "source": [
    "orderDate = orderString.split(' ')\n",
    "productPrice = priceList[orderDate[0].split('-')[1]]\n",
    "orderPrice = parseInt(orderDate[1]) * productPrice"
   ]
  },
  {
   "cell_type": "code",
   "execution_count": 2,
   "metadata": {},
   "outputs": [
    {
     "ename": "NameError",
     "evalue": "name 'order' is not defined",
     "output_type": "error",
     "traceback": [
      "\u001b[1;31m---------------------------------------------------------------------------\u001b[0m",
      "\u001b[1;31mNameError\u001b[0m                                 Traceback (most recent call last)",
      "\u001b[1;32m<ipython-input-2-5046421a31b2>\u001b[0m in \u001b[0;36m<module>\u001b[1;34m()\u001b[0m\n\u001b[0;32m      2\u001b[0m     \u001b[0mvalues\u001b[0m \u001b[1;33m=\u001b[0m \u001b[0maString\u001b[0m\u001b[1;33m.\u001b[0m\u001b[0msplit\u001b[0m\u001b[1;33m(\u001b[0m\u001b[1;34m' '\u001b[0m\u001b[1;33m)\u001b[0m\u001b[1;33m\u001b[0m\u001b[0m\n\u001b[0;32m      3\u001b[0m     \u001b[1;32mreturn\u001b[0m \u001b[1;33m{\u001b[0m\u001b[1;34m'productID'\u001b[0m\u001b[1;33m:\u001b[0m \u001b[0mvalues\u001b[0m\u001b[1;33m[\u001b[0m\u001b[1;36m0\u001b[0m\u001b[1;33m]\u001b[0m\u001b[1;33m.\u001b[0m\u001b[0msplit\u001b[0m\u001b[1;33m(\u001b[0m\u001b[1;34m'-'\u001b[0m\u001b[1;33m)\u001b[0m\u001b[1;33m[\u001b[0m\u001b[1;36m1\u001b[0m\u001b[1;33m]\u001b[0m\u001b[1;33m,\u001b[0m \u001b[1;34m'quantity'\u001b[0m\u001b[1;33m:\u001b[0m \u001b[0mparseInt\u001b[0m\u001b[1;33m(\u001b[0m\u001b[0mvalues\u001b[0m\u001b[1;33m[\u001b[0m\u001b[1;36m1\u001b[0m\u001b[1;33m]\u001b[0m\u001b[1;33m)\u001b[0m\u001b[1;33m}\u001b[0m\u001b[1;33m\u001b[0m\u001b[0m\n\u001b[1;32m----> 4\u001b[1;33m \u001b[0morderRecord\u001b[0m \u001b[1;33m=\u001b[0m \u001b[0mparseOrder\u001b[0m\u001b[1;33m(\u001b[0m\u001b[0morder\u001b[0m\u001b[1;33m)\u001b[0m\u001b[1;33m\u001b[0m\u001b[0m\n\u001b[0m\u001b[0;32m      5\u001b[0m \u001b[0morderPrice\u001b[0m \u001b[1;33m=\u001b[0m \u001b[0mprice\u001b[0m\u001b[1;33m(\u001b[0m\u001b[0morderRecord\u001b[0m\u001b[1;33m,\u001b[0m \u001b[0mpriceList\u001b[0m\u001b[1;33m)\u001b[0m\u001b[1;33m\u001b[0m\u001b[0m\n",
      "\u001b[1;31mNameError\u001b[0m: name 'order' is not defined"
     ]
    }
   ],
   "source": [
    "def parseOrder(aString):\n",
    "    values = aString.split(' ')\n",
    "    return {'productID': values[0].split('-')[1], 'quantity': parseInt(values[1])}\n",
    "orderRecord = parseOrder(order)\n",
    "orderPrice = price(orderRecord, priceList)"
   ]
  },
  {
   "cell_type": "code",
   "execution_count": 3,
   "metadata": {},
   "outputs": [],
   "source": [
    "def price(order, priceList):\n",
    "    return order['quantity'] * priceList[order.productID]"
   ]
  },
  {
   "cell_type": "markdown",
   "metadata": {},
   "source": [
    "### 서로 다른 두 대상을 한꺼번에 다루는 코드는 각각을 별개 모듈로 나누는 방법이 있는지 찾아서 적용한다면, 해당 데이터들을 다루는 코드가 수정이 될 때, 두 대상을 동시에 생각할 필요가 없도록 할 수 있다. <br> 이처럼 모듈로 코드들이 잘 분리되어 있으면, 다른 모듈의 상세 내용을 파악하지 않고서도 모듈 수정이 원할하게 가능하다. <br>"
   ]
  },
  {
   "cell_type": "markdown",
   "metadata": {},
   "source": [
    "## 절차\n",
    "\n",
    "### 1. 코드를 두 부분으로 단계를 쪼갠다. <br>\n",
    "\n",
    "### 2. 두 번째 단계에 해당하는 코드를 독립 함수로 추출한다. <br>\n",
    "\n",
    "### 3. 테스트 한다.<br>\n",
    "\n",
    "### 4. 중간 데이터 구조를 만들어서 앞에서 추출한 함수의 인수로 추가한다. <br>\n",
    "\n",
    "### 5. 테스트 한다. <br>\n",
    "\n",
    "### 6. 추출한 두 번째 단계 함수의 매개변수를 하나씩 검토한다. 그중 첫 번째 단계에서 사용되는 것은 중간 데이터 구조로 옮긴다. 하나씩 옮길 때마다 테스트 한다. <br>\n",
    "\n",
    "### 7. 첫 번째 단계 코드를 함수로 추출하면서 중간 데이터 구조를 반환하도록 만든다. <br>\n",
    "\n",
    "\n",
    "\n"
   ]
  },
  {
   "cell_type": "markdown",
   "metadata": {},
   "source": [
    "# Example"
   ]
  },
  {
   "cell_type": "code",
   "execution_count": 22,
   "metadata": {},
   "outputs": [],
   "source": [
    "def priceOrder(product, quantity, shippingMethod):\n",
    "    basePrice = product.basePrice * quantity\n",
    "    discount = max(quantity - product.discountThreshold, 0) * product.basePrice * product.discountRate\n",
    "    if basePrice > shippingMethod.discountThreshold:\n",
    "        shippingPerCase = shippingMethod.discountedFee\n",
    "    else:\n",
    "        shippingPerCase = shippingMethod.feePerCase\n",
    "    shippingCost = quantity * shippingPerCase\n",
    "    price = basePrice - discount + shippingCost\n",
    "    return price"
   ]
  },
  {
   "cell_type": "code",
   "execution_count": 39,
   "metadata": {},
   "outputs": [
    {
     "name": "stdout",
     "output_type": "stream",
     "text": [
      "33750.0\n"
     ]
    }
   ],
   "source": [
    "test()"
   ]
  },
  {
   "cell_type": "code",
   "execution_count": 23,
   "metadata": {},
   "outputs": [],
   "source": [
    "def priceOrder(product, quantity, shippingMethod):\n",
    "    basePrice = product.basePrice * quantity\n",
    "    discount = max(quantity - product.discountThreshold, 0) * product.basePrice * product.discountRate\n",
    "    price = applyShipping(basePrice, shippingMethod, quantity, discount)\n",
    "    return price\n",
    "\n",
    "def applyShipping(basePrice, shippingMethod, quantity, discount):\n",
    "    if basePrice > shippingMethod.discountThreshold:\n",
    "        shippingPerCase = shippingMethod.discountedFee\n",
    "    else:\n",
    "        shippingPerCase = shippingMethod.feePerCase\n",
    "    shippingCost = quantity * shippingPerCase\n",
    "    price = basePrice - discount + shippingCost\n",
    "    return price"
   ]
  },
  {
   "cell_type": "code",
   "execution_count": 38,
   "metadata": {},
   "outputs": [
    {
     "name": "stdout",
     "output_type": "stream",
     "text": [
      "33750.0\n"
     ]
    }
   ],
   "source": [
    "test()"
   ]
  },
  {
   "cell_type": "code",
   "execution_count": 24,
   "metadata": {},
   "outputs": [],
   "source": [
    "def priceOrder(product, quantity, shippingMethod):\n",
    "    basePrice = product.basePrice * quantity\n",
    "    discount = max(quantity - product.discountThreshold, 0) * product.basePrice * product.discountRate\n",
    "    priceData = {}\n",
    "    priceData['basePrice'] = basePrice\n",
    "    price = applyShipping(priceData, shippingMethod, quantity, discount)\n",
    "    return price\n",
    "\n",
    "def applyShipping(priceData, shippingMethod, quantity, discount):\n",
    "    if priceData['basePrice'] > shippingMethod.discountThreshold:\n",
    "        shippingPerCase = shippingMethod.discountedFee\n",
    "    else:\n",
    "        shippingPerCase = shippingMethod.feePerCase\n",
    "    shippingCost = quantity * shippingPerCase\n",
    "    price = priceData['basePrice'] - discount + shippingCost\n",
    "    return price"
   ]
  },
  {
   "cell_type": "code",
   "execution_count": 37,
   "metadata": {},
   "outputs": [
    {
     "name": "stdout",
     "output_type": "stream",
     "text": [
      "33750.0\n"
     ]
    }
   ],
   "source": [
    "test()"
   ]
  },
  {
   "cell_type": "code",
   "execution_count": 25,
   "metadata": {},
   "outputs": [],
   "source": [
    "def priceOrder(product, quantity, shippingMethod):\n",
    "    basePrice = product.basePrice * quantity\n",
    "    discount = max(quantity - product.discountThreshold, 0) * product.basePrice * product.discountRate\n",
    "    priceData = {}\n",
    "    priceData['basePrice'] = basePrice\n",
    "    priceData['quantity'] = quantity\n",
    "    price = applyShipping(priceData, shippingMethod, discount)\n",
    "    return price\n",
    "\n",
    "def applyShipping(priceData, shippingMethod, discount):\n",
    "    if priceData['basePrice'] > shippingMethod.discountThreshold:\n",
    "        shippingPerCase = shippingMethod.discountedFee\n",
    "    else:\n",
    "        shippingPerCase = shippingMethod.feePerCase\n",
    "    shippingCost = priceData['quantity'] * shippingPerCase\n",
    "    price = priceData['basePrice'] - discount + shippingCost\n",
    "    return price"
   ]
  },
  {
   "cell_type": "code",
   "execution_count": 36,
   "metadata": {},
   "outputs": [
    {
     "name": "stdout",
     "output_type": "stream",
     "text": [
      "33750.0\n"
     ]
    }
   ],
   "source": [
    "test()"
   ]
  },
  {
   "cell_type": "code",
   "execution_count": 26,
   "metadata": {},
   "outputs": [],
   "source": [
    "def priceOrder(product, quantity, shippingMethod):\n",
    "    basePrice = product.basePrice * quantity\n",
    "    discount = max(quantity - product.discountThreshold, 0) * product.basePrice * product.discountRate\n",
    "    priceData = {}\n",
    "    priceData['basePrice'] = basePrice\n",
    "    priceData['quantity'] = quantity\n",
    "    priceData['discount'] = discount\n",
    "    price = applyShipping(priceData, shippingMethod)\n",
    "    return price\n",
    "\n",
    "def applyShipping(priceData, shippingMethod):\n",
    "    if priceData['basePrice'] > shippingMethod.discountThreshold:\n",
    "        shippingPerCase = shippingMethod.discountedFee\n",
    "    else:\n",
    "        shippingPerCase = shippingMethod.feePerCase\n",
    "    shippingCost = priceData['quantity'] * shippingPerCase\n",
    "    price = priceData['basePrice'] - priceData['discount'] + shippingCost\n",
    "    return price"
   ]
  },
  {
   "cell_type": "code",
   "execution_count": 35,
   "metadata": {},
   "outputs": [
    {
     "name": "stdout",
     "output_type": "stream",
     "text": [
      "33750.0\n"
     ]
    }
   ],
   "source": [
    "test()"
   ]
  },
  {
   "cell_type": "code",
   "execution_count": 27,
   "metadata": {},
   "outputs": [],
   "source": [
    "def priceOrder(product, quantity, shippingMethod):\n",
    "    priceData = calculatePricingData(product, quantity)\n",
    "    price = applyShipping(priceData, shippingMethod)\n",
    "    return price\n",
    "\n",
    "def applyShipping(priceData, shippingMethod):\n",
    "    if priceData['basePrice'] > shippingMethod.discountThreshold:\n",
    "        shippingPerCase = shippingMethod.discountedFee\n",
    "    else:\n",
    "        shippingPerCase = shippingMethod.feePerCase\n",
    "    shippingCost = priceData['quantity'] * shippingPerCase\n",
    "    price = priceData['basePrice'] - priceData['discount'] + shippingCost\n",
    "    return price\n",
    "    \n",
    "def calculatePricingData(product, quantity):\n",
    "    basePrice = product.basePrice * quantity\n",
    "    discount = max(quantity - product.discountThreshold, 0) * product.basePrice * product.discountRate\n",
    "    priceData = {}\n",
    "    priceData['basePrice'] = basePrice\n",
    "    priceData['quantity'] = quantity\n",
    "    priceData['discount'] = discount\n",
    "    return priceData"
   ]
  },
  {
   "cell_type": "code",
   "execution_count": 34,
   "metadata": {},
   "outputs": [
    {
     "name": "stdout",
     "output_type": "stream",
     "text": [
      "33750.0\n"
     ]
    }
   ],
   "source": [
    "test()"
   ]
  },
  {
   "cell_type": "code",
   "execution_count": 28,
   "metadata": {},
   "outputs": [],
   "source": [
    "def priceOrder(product, quantity, shippingMethod):\n",
    "    priceData = calculatePricingData(product, quantity)\n",
    "    price = applyShipping(priceData, shippingMethod)\n",
    "    return price\n",
    "\n",
    "def applyShipping(priceData, shippingMethod):\n",
    "    if priceData['basePrice'] > shippingMethod.discountThreshold:\n",
    "        shippingPerCase = shippingMethod.discountedFee\n",
    "    else:\n",
    "        shippingPerCase = shippingMethod.feePerCase\n",
    "    shippingCost = priceData['quantity'] * shippingPerCase\n",
    "    return priceData['basePrice'] - priceData['discount'] + shippingCost\n",
    "    \n",
    "    \n",
    "def calculatePricingData(product, quantity):\n",
    "    priceData = {}\n",
    "    priceData['basePrice'] = product.basePrice * quantity\n",
    "    priceData['quantity'] = quantity\n",
    "    priceData['discount'] = max(quantity - product.discountThreshold, 0) * product.basePrice * product.discountRate\n",
    "    return priceData"
   ]
  },
  {
   "cell_type": "code",
   "execution_count": 29,
   "metadata": {},
   "outputs": [],
   "source": [
    "class TestProduct:\n",
    "    def __init__(self):\n",
    "        self.basePrice = 500\n",
    "        self.discountThreshold = 30\n",
    "        self.discountRate = 0.15\n",
    "class TestShipping:\n",
    "    def __init__(self):\n",
    "        self.feePerCase = 50\n",
    "        self.discountedFee = 25\n",
    "        self.discountThreshold = 25\n",
    "        "
   ]
  },
  {
   "cell_type": "code",
   "execution_count": 33,
   "metadata": {},
   "outputs": [
    {
     "name": "stdout",
     "output_type": "stream",
     "text": [
      "33750.0\n"
     ]
    }
   ],
   "source": [
    "test()"
   ]
  },
  {
   "cell_type": "code",
   "execution_count": 32,
   "metadata": {},
   "outputs": [],
   "source": [
    "def test():\n",
    "    product = TestProduct()\n",
    "    shipping = TestShipping()\n",
    "    print(priceOrder(product, 70, shipping))"
   ]
  },
  {
   "cell_type": "code",
   "execution_count": null,
   "metadata": {},
   "outputs": [],
   "source": []
  }
 ],
 "metadata": {
  "kernelspec": {
   "display_name": "Python 3",
   "language": "python",
   "name": "python3"
  },
  "language_info": {
   "codemirror_mode": {
    "name": "ipython",
    "version": 3
   },
   "file_extension": ".py",
   "mimetype": "text/x-python",
   "name": "python",
   "nbconvert_exporter": "python",
   "pygments_lexer": "ipython3",
   "version": "3.6.5"
  }
 },
 "nbformat": 4,
 "nbformat_minor": 2
}
