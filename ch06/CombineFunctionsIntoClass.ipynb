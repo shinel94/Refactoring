{
 "cells": [
  {
   "cell_type": "code",
   "execution_count": 2,
   "metadata": {},
   "outputs": [],
   "source": [
    "def base(aReading):\n",
    "    pass\n",
    "def taxableCharge(aReading):\n",
    "    pass\n",
    "def calculateBaseCharge(aReading):\n",
    "    pass"
   ]
  },
  {
   "cell_type": "code",
   "execution_count": 3,
   "metadata": {},
   "outputs": [],
   "source": [
    "class Reading:\n",
    "    def __init__(self):\n",
    "        pass\n",
    "    def base(self):\n",
    "        pass\n",
    "    def taxableCharge(self):\n",
    "        pass\n",
    "    def calculateBaseCharge(self):\n",
    "        pass"
   ]
  },
  {
   "cell_type": "markdown",
   "metadata": {},
   "source": [
    "### 클래스는 데이터와 함수를 하나의 공유 환경으로 묶은후 다른 프로그램 요소와 어우러 질 수 있도록 가지고있는 자원 중 일부를 외부에 제공한다.  <br> 함께 뭉쳐다니는 데이터 무리를 하나의 클래스로 묶으면, 데이터 간의 관계도 보다 명확해지며, 또한 전달되는 인수의 수를 줄여 함수 호출 관계를 보다 간결하고 명확하게 관리 할 수 있다. <br> 또한 데이터 뭉치에 적용하는 함수의 경우 객체 내 메서드로 선언을 하여 관리와 활용을 보다 쉽게 할 수 있게 해준다."
   ]
  },
  {
   "cell_type": "markdown",
   "metadata": {},
   "source": [
    "## 절차\n",
    "\n",
    "### 1. 함수들이 공유하는 공통 데이터 레코드( 하나의 객체로 묶어 둔 객체)를 캡슐화 한다. <br>\n",
    "\n",
    "### 2. 공통 레코드를 사용하는 함수 각각을 새 클래스 내 메서드로 옮긴다. 이때 입출력 매개변수들을 관리한다.<br>\n",
    "\n",
    "### 3. 데이터를 조작하는 로직들은 함수로 추출해서 새 클래스로 옮긴다.<br>\n",
    "\n",
    "### 4. 테스트 한다. <br>"
   ]
  },
  {
   "cell_type": "code",
   "execution_count": 4,
   "metadata": {},
   "outputs": [],
   "source": [
    "reading = {'customer': 'ivan', 'quantity': 10, 'month': 5, 'year': 2017}\n",
    "def acquireReading():\n",
    "    return {'customer': 'ivan', 'quantity': 10, 'month': 5, 'year': 2017}"
   ]
  },
  {
   "cell_type": "code",
   "execution_count": 5,
   "metadata": {},
   "outputs": [],
   "source": [
    "aRating = acquireReading()"
   ]
  },
  {
   "cell_type": "code",
   "execution_count": 6,
   "metadata": {},
   "outputs": [],
   "source": [
    "def baseRate(month, year):\n",
    "    if year < 2018:\n",
    "        return month/12\n",
    "    else:\n",
    "        return 2018 - year + month/12"
   ]
  },
  {
   "cell_type": "code",
   "execution_count": 7,
   "metadata": {},
   "outputs": [
    {
     "name": "stdout",
     "output_type": "stream",
     "text": [
      "4.166666666666667\n"
     ]
    }
   ],
   "source": [
    "baseCharge = baseRate(aRating['month'], aRating['year']) * aRating['quantity']\n",
    "print(baseCharge)"
   ]
  },
  {
   "cell_type": "code",
   "execution_count": 8,
   "metadata": {},
   "outputs": [],
   "source": [
    "def calculateBaseCharge(aRating):\n",
    "    return baseRate(aRating['month'], aRating['year']) * aRating['quantity']"
   ]
  },
  {
   "cell_type": "code",
   "execution_count": 10,
   "metadata": {},
   "outputs": [
    {
     "name": "stdout",
     "output_type": "stream",
     "text": [
      "4.166666666666667\n"
     ]
    }
   ],
   "source": [
    "baseCharge = calculateBaseCharge(aRating)\n",
    "print(baseCharge)"
   ]
  },
  {
   "cell_type": "code",
   "execution_count": 11,
   "metadata": {},
   "outputs": [],
   "source": [
    "def taxThreshold(year):\n",
    "    if year > 2018:\n",
    "        return 3\n",
    "    else:\n",
    "        return 1"
   ]
  },
  {
   "cell_type": "code",
   "execution_count": 13,
   "metadata": {},
   "outputs": [
    {
     "name": "stdout",
     "output_type": "stream",
     "text": [
      "3.166666666666667\n"
     ]
    }
   ],
   "source": [
    "baseCharge = baseRate(aRating['month'], aRating['year']) * aRating['quantity']\n",
    "taxableCharge = max(0, baseCharge - taxThreshold(aRating['year']))\n",
    "print(taxableCharge)"
   ]
  },
  {
   "cell_type": "code",
   "execution_count": 21,
   "metadata": {},
   "outputs": [],
   "source": [
    "class Reading:\n",
    "    def __init__(self, data):\n",
    "        self._customer = data['customer']\n",
    "        self._quantity = data['quantity']\n",
    "        self._month = data['month']\n",
    "        self._year = data['year']\n",
    "        self._baseCharge = self.calculateBaseCharge()\n",
    "    def calculateBaseCharge(self):\n",
    "        return baseRate(self._month, self._year) * self._quantity"
   ]
  },
  {
   "cell_type": "code",
   "execution_count": 22,
   "metadata": {},
   "outputs": [],
   "source": [
    "data = Reading(acquireReading())"
   ]
  },
  {
   "cell_type": "code",
   "execution_count": 24,
   "metadata": {},
   "outputs": [
    {
     "name": "stdout",
     "output_type": "stream",
     "text": [
      "4.166666666666667\n"
     ]
    }
   ],
   "source": [
    "basicChargeAmount = data._baseCharge\n",
    "print(basicChargeAmount)"
   ]
  },
  {
   "cell_type": "code",
   "execution_count": 25,
   "metadata": {},
   "outputs": [],
   "source": [
    "class Reading:\n",
    "    def __init__(self, data):\n",
    "        self._customer = data['customer']\n",
    "        self._quantity = data['quantity']\n",
    "        self._month = data['month']\n",
    "        self._year = data['year']\n",
    "        self._baseCharge = self.calculateBaseCharge()\n",
    "        self._taxableCharge = self.calculateTaxableCharge()\n",
    "    def calculateBaseCharge(self):\n",
    "        return baseRate(self._month, self._year) * self._quantity\n",
    "    \n",
    "    def calculateTaxableCharge(self):\n",
    "        return max(0, self._baseCharge - taxThreshold(self._year))"
   ]
  },
  {
   "cell_type": "code",
   "execution_count": 26,
   "metadata": {},
   "outputs": [],
   "source": [
    "data = Reading(acquireReading())"
   ]
  },
  {
   "cell_type": "code",
   "execution_count": 27,
   "metadata": {},
   "outputs": [
    {
     "name": "stdout",
     "output_type": "stream",
     "text": [
      "4.166666666666667\n",
      "3.166666666666667\n"
     ]
    }
   ],
   "source": [
    "print(data._baseCharge)\n",
    "print(data._taxableCharge)"
   ]
  },
  {
   "cell_type": "markdown",
   "metadata": {},
   "source": [
    "### 위와 같이 정의해두면 내부 파라미터가 하나라도 변경이 되어도, 자동으로 결과값들이 계산되서 반환되므로, 값 관리가 보다 효율적으로 진행되는 장점이 있다."
   ]
  }
 ],
 "metadata": {
  "kernelspec": {
   "display_name": "Python 3",
   "language": "python",
   "name": "python3"
  },
  "language_info": {
   "codemirror_mode": {
    "name": "ipython",
    "version": 3
   },
   "file_extension": ".py",
   "mimetype": "text/x-python",
   "name": "python",
   "nbconvert_exporter": "python",
   "pygments_lexer": "ipython3",
   "version": "3.6.5"
  }
 },
 "nbformat": 4,
 "nbformat_minor": 2
}
