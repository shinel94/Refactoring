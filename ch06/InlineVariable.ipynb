{
 "cells": [
  {
   "cell_type": "code",
   "execution_count": 1,
   "metadata": {},
   "outputs": [],
   "source": [
    "def inline(anOrder):\n",
    "    basePrice = anOrder.basePrice\n",
    "    return (basePrice > 1000)"
   ]
  },
  {
   "cell_type": "code",
   "execution_count": 2,
   "metadata": {},
   "outputs": [],
   "source": [
    "class TestData:\n",
    "    def __init__(self, basePrice):\n",
    "        self.basePrice = basePrice"
   ]
  },
  {
   "cell_type": "code",
   "execution_count": 3,
   "metadata": {},
   "outputs": [
    {
     "data": {
      "text/plain": [
       "False"
      ]
     },
     "execution_count": 3,
     "metadata": {},
     "output_type": "execute_result"
    }
   ],
   "source": [
    "inline(TestData(1000))"
   ]
  },
  {
   "cell_type": "code",
   "execution_count": 4,
   "metadata": {},
   "outputs": [
    {
     "data": {
      "text/plain": [
       "True"
      ]
     },
     "execution_count": 4,
     "metadata": {},
     "output_type": "execute_result"
    }
   ],
   "source": [
    "inline(TestData(1001))"
   ]
  },
  {
   "cell_type": "code",
   "execution_count": 5,
   "metadata": {},
   "outputs": [],
   "source": [
    "inline = lambda anOrder : anOrder.basePrice > 1000"
   ]
  },
  {
   "cell_type": "code",
   "execution_count": 6,
   "metadata": {},
   "outputs": [
    {
     "data": {
      "text/plain": [
       "False"
      ]
     },
     "execution_count": 6,
     "metadata": {},
     "output_type": "execute_result"
    }
   ],
   "source": [
    "inline(TestData(1000))"
   ]
  },
  {
   "cell_type": "code",
   "execution_count": 7,
   "metadata": {},
   "outputs": [
    {
     "data": {
      "text/plain": [
       "True"
      ]
     },
     "execution_count": 7,
     "metadata": {},
     "output_type": "execute_result"
    }
   ],
   "source": [
    "inline(TestData(1001))"
   ]
  },
  {
   "cell_type": "markdown",
   "metadata": {},
   "source": [
    "### 변수가 표현식과 별반 다를바 없고, 표현식의 이해가 크게 어렵지 않고 표현도 복잡하지 않을때는, 따로 변수로 할당하는 것 보다는 인라인하여, 코드를 보다 보기 좋게 만들 수 있다."
   ]
  },
  {
   "cell_type": "markdown",
   "metadata": {},
   "source": [
    "## 절차\n",
    "\n",
    "### 1. 변수에 할당되는 코드를 변경했을때 생기는 부작용을 먼저 파악한다. <br>\n",
    "\n",
    "### 2. 변수가 불변으로 선언되지 않았다면, 붑련으로 만든 후 테스트 한다 (파이썬에서는 불가능함) / 변수의 값이 중간에 변경되는 부분이 있는지 쉽게 확인 할 수 있다.\n",
    "\n",
    "### 3. 변수를 가장 처음 사용하는 코드를 찾아서 할당되었던 표현식을 그대로 옮겨 넣는다.\n",
    "\n",
    "### 4. 테스트 한다. <br>\n",
    "\n",
    "### 5. 프로젝트내 변수를 사용하는 부분을 모두 교체할 때 까지 이 과정을 반복한다.\n",
    "\n",
    "### 6. 변수 선언문과 대입문을 지운다.\n",
    "\n",
    "### 7. 테스트 한다. <br>\n"
   ]
  }
 ],
 "metadata": {
  "kernelspec": {
   "display_name": "Python 3",
   "language": "python",
   "name": "python3"
  },
  "language_info": {
   "codemirror_mode": {
    "name": "ipython",
    "version": 3
   },
   "file_extension": ".py",
   "mimetype": "text/x-python",
   "name": "python",
   "nbconvert_exporter": "python",
   "pygments_lexer": "ipython3",
   "version": "3.6.5"
  }
 },
 "nbformat": 4,
 "nbformat_minor": 2
}
