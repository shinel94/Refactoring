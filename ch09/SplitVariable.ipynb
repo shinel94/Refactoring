{
 "cells": [
  {
   "cell_type": "code",
   "execution_count": 2,
   "metadata": {},
   "outputs": [],
   "source": [
    "height = 10\n",
    "width = 20"
   ]
  },
  {
   "cell_type": "code",
   "execution_count": 1,
   "metadata": {},
   "outputs": [
    {
     "name": "stdout",
     "output_type": "stream",
     "text": [
      "60\n",
      "200\n"
     ]
    }
   ],
   "source": [
    "\n",
    "temp = 2 * (height + width)\n",
    "print(temp)\n",
    "temp = height * width\n",
    "print(temp)"
   ]
  },
  {
   "cell_type": "code",
   "execution_count": 3,
   "metadata": {},
   "outputs": [
    {
     "name": "stdout",
     "output_type": "stream",
     "text": [
      "60\n",
      "200\n"
     ]
    }
   ],
   "source": [
    "perimeter = 2 * (height + width)\n",
    "print(perimeter)\n",
    "area = height * width\n",
    "print(area)"
   ]
  },
  {
   "cell_type": "markdown",
   "metadata": {},
   "source": [
    "### 변수는 다양한 용도로 쓰인다. 그중 변수에 값을 여러 번 대입할 수밖에 없는 루프 변수등과 같은 변수도 있지만,  <br>메서드 또는 함수나 코드가 진행하는 과정중에 중간 결과를 저장하는 수집 변수(collecting variable)도 있다. <br> 그 외에도 변수는 긴 코드의 결과를 저장한뒤, 추후에 참조를 쉽게 하기 위해서도 쓰이는데, 이때는 반드시 변수가 오염되거나 변경되면 안된다. <br> 여기서 두번 이상 할당 되면 여러가지 역할을 동시에 수행하는 변수가 된다. <br> 역할이 둘 이상인 변수가 있다면 변수를 쪼개어 추후에 코드 이해를 도울 수 있다."
   ]
  },
  {
   "cell_type": "markdown",
   "metadata": {},
   "source": [
    "## 절차\n",
    "\n",
    "### 1. 변수를 선언한 곳과 값을 처음 대입하는 곳에서 변수 이름을 바꾼다. 이때 값을 갱신할때 변수 자체가 들어가는 형태를 띄는 변수는 수집변수이기 때문에, 변수를 쪼개면 안된다.<br>\n",
    "\n",
    "### 2. 가능하면 이때 변수가 변형되지 않도록 조치를 취해 본다. <br>\n",
    "\n",
    "### 3. 이 변수에 두 번쨰로 값을 대입하는 곳 앞까지의 모든 참조를 새로운 변수 이름으로 바꾼다. <br>\n",
    "\n",
    "### 4. 두 번째 대임 시 변수를 원래 이름으로 다시 선언한다.<br>\n",
    "\n",
    "### 5. 테스트 한다. <br>\n",
    "\n",
    "### 6. 반복한다. 매 반복에서 변수를 새로운 이름으로 선언하고 다음번 대입 때 까지의 모든 참조를 새 변수명으로 바꾸고, 모두 바뀔때 까지 진행한다.<br>"
   ]
  },
  {
   "cell_type": "markdown",
   "metadata": {},
   "source": [
    "# Example"
   ]
  },
  {
   "cell_type": "code",
   "execution_count": 36,
   "metadata": {},
   "outputs": [],
   "source": [
    "def distanceTravelled(scenario, time):\n",
    "    result = None\n",
    "    acc = scenario.primaryForce / scenario.mass\n",
    "    primeTime = min(time, scenario.delay)\n",
    "    result = 0.5 * acc * primeTime**2\n",
    "    secondaryTime = time - scenario.delay\n",
    "    if secondaryTime > 0:\n",
    "        primaryVelocity = acc * scenario.delay\n",
    "        acc = (scenario.primaryForce + scenario.secondaryForce) / scenario.mass\n",
    "        result += primaryVelocity * secondaryTime + 0.5 * acc * secondaryTime ** 2\n",
    "    return result\n",
    "\n",
    "class Scenario:\n",
    "    \n",
    "    def __init__(self, primaryForce, secondaryForce, mass, delay):\n",
    "        self.__primaryForce = primaryForce\n",
    "        self.__secondaryForce = secondaryForce\n",
    "        self.__mass = mass\n",
    "        self.__delay = delay\n",
    "    \n",
    "    @property\n",
    "    def mass(self):\n",
    "        return self.__mass\n",
    "    \n",
    "    @property\n",
    "    def primaryForce(self):\n",
    "        return self.__primaryForce\n",
    "    \n",
    "    @property\n",
    "    def secondaryForce(self):\n",
    "        return self.__secondaryForce\n",
    "    \n",
    "    @property\n",
    "    def delay(self):\n",
    "        return self.__delay"
   ]
  },
  {
   "cell_type": "code",
   "execution_count": 37,
   "metadata": {},
   "outputs": [
    {
     "name": "stdout",
     "output_type": "stream",
     "text": [
      "4875.0\n"
     ]
    }
   ],
   "source": [
    "scenario = Scenario(10, 38, 5, 25)\n",
    "print(distanceTravelled(scenario, 50))"
   ]
  },
  {
   "cell_type": "code",
   "execution_count": 38,
   "metadata": {},
   "outputs": [],
   "source": [
    "def distanceTravelled(scenario, time):\n",
    "    result = None\n",
    "    primaryAcceleration = scenario.primaryForce / scenario.mass\n",
    "    primeTime = min(time, scenario.delay)\n",
    "    result = 0.5 * primaryAcceleration * primeTime**2\n",
    "    secondaryTime = time - scenario.delay\n",
    "    if secondaryTime > 0:\n",
    "        primaryVelocity = primaryAcceleration * scenario.delay\n",
    "        acc = (scenario.primaryForce + scenario.secondaryForce) / scenario.mass\n",
    "        result += primaryVelocity * secondaryTime + 0.5 * acc * secondaryTime ** 2\n",
    "    return result"
   ]
  },
  {
   "cell_type": "code",
   "execution_count": 39,
   "metadata": {},
   "outputs": [
    {
     "name": "stdout",
     "output_type": "stream",
     "text": [
      "4875.0\n"
     ]
    }
   ],
   "source": [
    "scenario = Scenario(10, 38, 5, 25)\n",
    "print(distanceTravelled(scenario, 50))"
   ]
  },
  {
   "cell_type": "code",
   "execution_count": 12,
   "metadata": {},
   "outputs": [],
   "source": [
    "def distanceTravelled(scenario, time):\n",
    "    result = None\n",
    "    primaryAcceleration = scenario.primaryForce / scenario.mass\n",
    "    primeTime = min(time, scenario.delay)\n",
    "    result = 0.5 * primaryAcceleration * primeTime**2\n",
    "    secondaryTime = time - scenario.delay\n",
    "    if secondaryTime > 0:\n",
    "        primaryVelocity = primaryAcceleration * scenario.delay\n",
    "        secondaryAcceleration = (scenario.primaryForce + scenario.secondaryForce) / scenario.mass\n",
    "        result += primaryVelocity * secondaryTime + 0.5 * secondaryAcceleration * secondaryTime ** 2\n",
    "    return result"
   ]
  },
  {
   "cell_type": "code",
   "execution_count": 13,
   "metadata": {},
   "outputs": [
    {
     "name": "stdout",
     "output_type": "stream",
     "text": [
      "4875.0\n"
     ]
    }
   ],
   "source": [
    "scenario = Scenario(10, 38, 5, 25)\n",
    "print(distanceTravelled(scenario, 50))"
   ]
  },
  {
   "cell_type": "code",
   "execution_count": 16,
   "metadata": {},
   "outputs": [],
   "source": [
    "def distanceTravelled(scenario, time):\n",
    "    result = None\n",
    "    primaryAcceleration = scenario.primaryForce / scenario.mass\n",
    "    result = 0.5 * primaryAcceleration * min(time, scenario.delay)**2\n",
    "    if (time - scenario.delay) > 0:\n",
    "        primaryVelocity = primaryAcceleration * scenario.delay\n",
    "        secondaryAcceleration = (scenario.primaryForce + scenario.secondaryForce) / scenario.mass\n",
    "        result += primaryVelocity * (time - scenario.delay) + 0.5 * secondaryAcceleration * (time - scenario.delay) ** 2\n",
    "    return result"
   ]
  },
  {
   "cell_type": "code",
   "execution_count": 17,
   "metadata": {},
   "outputs": [
    {
     "name": "stdout",
     "output_type": "stream",
     "text": [
      "4875.0\n"
     ]
    }
   ],
   "source": [
    "scenario = Scenario(10, 38, 5, 25)\n",
    "print(distanceTravelled(scenario, 50))"
   ]
  },
  {
   "cell_type": "code",
   "execution_count": 18,
   "metadata": {},
   "outputs": [],
   "source": [
    "def distanceTravelled(scenario, time):\n",
    "    result = 0\n",
    "    if (time - scenario.delay) > 0:\n",
    "        primaryVelocity = scenario.primaryForce / scenario.mass * scenario.delay\n",
    "        secondaryAcceleration = (scenario.primaryForce + scenario.secondaryForce) / scenario.mass\n",
    "        result += primaryVelocity * (time - scenario.delay) + 0.5 * secondaryAcceleration * (time - scenario.delay) ** 2\n",
    "    result += 0.5 * scenario.primaryForce / scenario.mass * min(time, scenario.delay)**2\n",
    "    return result"
   ]
  },
  {
   "cell_type": "code",
   "execution_count": 19,
   "metadata": {},
   "outputs": [
    {
     "name": "stdout",
     "output_type": "stream",
     "text": [
      "4875.0\n"
     ]
    }
   ],
   "source": [
    "scenario = Scenario(10, 38, 5, 25)\n",
    "print(distanceTravelled(scenario, 50))"
   ]
  },
  {
   "cell_type": "code",
   "execution_count": 21,
   "metadata": {},
   "outputs": [],
   "source": [
    "class Scenario:\n",
    "    \n",
    "    def __init__(self, primaryForce, secondaryForce, mass, delay):\n",
    "        self.__primaryForce = primaryForce\n",
    "        self.__secondaryForce = secondaryForce\n",
    "        self.__mass = mass\n",
    "        self.__delay = delay\n",
    "    \n",
    "    @property\n",
    "    def mass(self):\n",
    "        return self.__mass\n",
    "    \n",
    "    @property\n",
    "    def primaryForce(self):\n",
    "        return self.__primaryForce\n",
    "    \n",
    "    @property\n",
    "    def secondaryForce(self):\n",
    "        return self.__secondaryForce\n",
    "    \n",
    "    @property\n",
    "    def delay(self):\n",
    "        return self.__delay\n",
    "    \n",
    "    @property\n",
    "    def primaryAccerelation(self):\n",
    "        return self.__primaryForce / self.__mass\n",
    "    \n",
    "    @property\n",
    "    def secondaryAccerelation(self):\n",
    "        return (self.__primaryForce + self.__secondaryForce) / self.__mass\n",
    "    "
   ]
  },
  {
   "cell_type": "code",
   "execution_count": 22,
   "metadata": {},
   "outputs": [],
   "source": [
    "def distanceTravelled(scenario, time):\n",
    "    result = 0\n",
    "    if (time - scenario.delay) > 0:\n",
    "        primaryVelocity = scenario.primaryAccerelation * scenario.delay\n",
    "        result += primaryVelocity * (time - scenario.delay) + 0.5 * scenario.secondaryAccerelation * (time - scenario.delay) ** 2\n",
    "    result += 0.5 * scenario.primaryAccerelation * min(time, scenario.delay)**2\n",
    "    return result"
   ]
  },
  {
   "cell_type": "code",
   "execution_count": 23,
   "metadata": {},
   "outputs": [
    {
     "name": "stdout",
     "output_type": "stream",
     "text": [
      "4875.0\n"
     ]
    }
   ],
   "source": [
    "scenario = Scenario(10, 38, 5, 25)\n",
    "print(distanceTravelled(scenario, 50))"
   ]
  },
  {
   "cell_type": "code",
   "execution_count": 34,
   "metadata": {},
   "outputs": [],
   "source": [
    "def distanceTravelled(scenario, time):\n",
    "    return 0.5 * scenario.primaryAccerelation * min(time, scenario.delay)**2 + 0.5 * scenario.secondaryAccerelation * max(time - scenario.delay, 0) ** 2 + scenario.primaryAccerelation * scenario.delay * (time - scenario.delay)"
   ]
  },
  {
   "cell_type": "code",
   "execution_count": 35,
   "metadata": {},
   "outputs": [
    {
     "name": "stdout",
     "output_type": "stream",
     "text": [
      "4875.0\n"
     ]
    }
   ],
   "source": [
    "scenario = Scenario(10, 38, 5, 25)\n",
    "print(distanceTravelled(scenario, 50))"
   ]
  },
  {
   "cell_type": "markdown",
   "metadata": {},
   "source": [
    "# Example"
   ]
  },
  {
   "cell_type": "code",
   "execution_count": 40,
   "metadata": {},
   "outputs": [],
   "source": [
    "def discount(inputValue, quantity):\n",
    "    if inputValue > 50:\n",
    "        inputValue = inputValue - 2\n",
    "    if quantity > 100:\n",
    "        inputValue = inputValue - 1\n",
    "    return inputValue"
   ]
  },
  {
   "cell_type": "code",
   "execution_count": 41,
   "metadata": {},
   "outputs": [
    {
     "name": "stdout",
     "output_type": "stream",
     "text": [
      "7\n"
     ]
    }
   ],
   "source": [
    "print(discount(8, 500))"
   ]
  },
  {
   "cell_type": "code",
   "execution_count": 42,
   "metadata": {},
   "outputs": [
    {
     "name": "stdout",
     "output_type": "stream",
     "text": [
      "797\n"
     ]
    }
   ],
   "source": [
    "print(discount(800, 500))"
   ]
  },
  {
   "cell_type": "code",
   "execution_count": 43,
   "metadata": {},
   "outputs": [],
   "source": [
    "def discount(inputValue, quantity):\n",
    "    result = inputValue\n",
    "    if inputValue > 50:\n",
    "        result -=  2\n",
    "    if quantity > 100:\n",
    "        result -= 1\n",
    "    return result"
   ]
  },
  {
   "cell_type": "code",
   "execution_count": 44,
   "metadata": {},
   "outputs": [
    {
     "name": "stdout",
     "output_type": "stream",
     "text": [
      "7\n",
      "797\n"
     ]
    }
   ],
   "source": [
    "print(discount(8, 500))\n",
    "print(discount(800, 500))"
   ]
  },
  {
   "cell_type": "code",
   "execution_count": null,
   "metadata": {},
   "outputs": [],
   "source": []
  }
 ],
 "metadata": {
  "kernelspec": {
   "display_name": "Python 3",
   "language": "python",
   "name": "python3"
  },
  "language_info": {
   "codemirror_mode": {
    "name": "ipython",
    "version": 3
   },
   "file_extension": ".py",
   "mimetype": "text/x-python",
   "name": "python",
   "nbconvert_exporter": "python",
   "pygments_lexer": "ipython3",
   "version": "3.6.5"
  }
 },
 "nbformat": 4,
 "nbformat_minor": 2
}
