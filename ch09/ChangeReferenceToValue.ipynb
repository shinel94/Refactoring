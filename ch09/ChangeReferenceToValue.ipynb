{
 "cells": [
  {
   "cell_type": "code",
   "execution_count": 14,
   "metadata": {},
   "outputs": [],
   "source": [
    "class Product:\n",
    "    def __init__(self, price):\n",
    "        self.__price = price\n",
    "    \n",
    "    @property\n",
    "    def price(self):\n",
    "        return self.__price\n",
    "    \n",
    "    def applyDsicount(self, arg):\n",
    "        self.__price._Money__amount -= arg\n",
    "        \n",
    "class Money:\n",
    "    def __init__(self, amount, currency):\n",
    "        self.__amount = amount\n",
    "        self.__currency = currency\n",
    "    \n",
    "    @property\n",
    "    def amount(self):\n",
    "        return self.__amount\n",
    "    \n",
    "    @property\n",
    "    def currency(self):\n",
    "        return self.__currency"
   ]
  },
  {
   "cell_type": "code",
   "execution_count": 15,
   "metadata": {},
   "outputs": [
    {
     "name": "stdout",
     "output_type": "stream",
     "text": [
      "25\n"
     ]
    }
   ],
   "source": [
    "product = Product(Money(30, 20))\n",
    "product.applyDsicount(5)\n",
    "print(product.price.amount)"
   ]
  },
  {
   "cell_type": "code",
   "execution_count": 8,
   "metadata": {},
   "outputs": [],
   "source": [
    "class Product:\n",
    "    def __init__(self, price):\n",
    "        self.__price = price\n",
    "    \n",
    "    @property\n",
    "    def price(self):\n",
    "        return self.__price\n",
    "    \n",
    "    def applyDsicount(self, arg):\n",
    "        self.__price = Money(self.__price.amount - arg, self.__price.currency)"
   ]
  },
  {
   "cell_type": "code",
   "execution_count": 16,
   "metadata": {},
   "outputs": [
    {
     "name": "stdout",
     "output_type": "stream",
     "text": [
      "25\n"
     ]
    }
   ],
   "source": [
    "product = Product(Money(30, 20))\n",
    "product.applyDsicount(5)\n",
    "print(product.price.amount)"
   ]
  },
  {
   "cell_type": "markdown",
   "metadata": {},
   "source": [
    "### 객체를 다른 객체 또는 데이터 구조에 중첩하면 내부 객체를 참조 혹은 값으로 취급하여 처리를 할 수 있다. <br>  참조냐 값이냐의 차이는 내부 객체의 속성을 갱신하는 방식에서  <br> 참조로 다루는 경우에는 내부 객체는 그대로 둔채로 해당 객체의 필드 값에 직접 접근하여 값을 갱신한다.  <br> 반대로 값으로 다룬느 경우에는 새로운 속성을 담은 객체로 새로 생성하게 된다. <br> 필드를 값으로 다룬다면 내부 객체의 클래스를 수정하여 값 객체로 만들 수 있다.  <br>  값 객체는 대체로 자유롭게 활용하기 좋은데, 특히 불변이기 때문이다.  <br> 일반적으로 불변 데이터 구조는 다루기가 더 쉽고, 프로그램 외부로 전달 해줄때도 값이 오염될 가능성이 없다. <br> 따라서 분산처리시스템에서는 값 객체를 사용하여 데이터를 전달하는 것이 좋다. <br> "
   ]
  },
  {
   "cell_type": "markdown",
   "metadata": {},
   "source": [
    "## 절차\n",
    "\n",
    "### 1. 후보 클래스가 불변인지, 혹은 불변이 될 수 있는지 확인한다.<br>\n",
    "\n",
    "### 2. 각각의 세어를 하나씩 제거한다. <br>\n",
    "\n",
    "### 3. 이 값 객체의 필드들을 사용하는 동치성 비교 메서드를 만든다. <br>"
   ]
  },
  {
   "cell_type": "code",
   "execution_count": 25,
   "metadata": {},
   "outputs": [],
   "source": [
    "class Person:\n",
    "    def __init__(self):\n",
    "        self.__telephoneNumber = TelephoneNumber()\n",
    "    @property\n",
    "    def officeAreaCode(self):\n",
    "        return self.__telephoneNumber.areaCode\n",
    "    \n",
    "    @property\n",
    "    def officeNumber(self):\n",
    "        return self.__telephoneNumber.number\n",
    "    \n",
    "    @officeAreaCode.setter\n",
    "    def officeAreaCode(self, value):\n",
    "        self.__telephoneNumber.areaCode = value\n",
    "        \n",
    "    @officeNumber.setter\n",
    "    def officeNumber(self, value):\n",
    "        self.__telephoneNumber.number = value\n",
    "        \n",
    "    @property\n",
    "    def telephoneNumber(self):\n",
    "        return self.__telephoneNumber\n",
    "    \n",
    "class TelephoneNumber:\n",
    "    def __init__(self, areacode=None, number=None):\n",
    "        self.__areaCode = areacode\n",
    "        self.__number = number\n",
    "        \n",
    "    @property\n",
    "    def areaCode(self):\n",
    "        return self.__areaCode\n",
    "    \n",
    "    @property\n",
    "    def number(self):\n",
    "        return self.__number\n",
    "    \n",
    "    @areaCode.setter\n",
    "    def areaCode(self, value):\n",
    "        self.__areaCode = value\n",
    "        \n",
    "    @number.setter\n",
    "    def number(self, value):\n",
    "        self.__number = value"
   ]
  },
  {
   "cell_type": "code",
   "execution_count": 26,
   "metadata": {},
   "outputs": [],
   "source": [
    "person = Person()"
   ]
  },
  {
   "cell_type": "code",
   "execution_count": 27,
   "metadata": {},
   "outputs": [],
   "source": [
    "person.officeAreaCode = '254'"
   ]
  },
  {
   "cell_type": "code",
   "execution_count": 28,
   "metadata": {},
   "outputs": [
    {
     "data": {
      "text/plain": [
       "'254'"
      ]
     },
     "execution_count": 28,
     "metadata": {},
     "output_type": "execute_result"
    }
   ],
   "source": [
    "person.officeAreaCode"
   ]
  },
  {
   "cell_type": "code",
   "execution_count": 29,
   "metadata": {},
   "outputs": [
    {
     "data": {
      "text/plain": [
       "<__main__.TelephoneNumber at 0x2207c486588>"
      ]
     },
     "execution_count": 29,
     "metadata": {},
     "output_type": "execute_result"
    }
   ],
   "source": [
    "person.telephoneNumber"
   ]
  },
  {
   "cell_type": "code",
   "execution_count": 34,
   "metadata": {},
   "outputs": [],
   "source": [
    "class Person:\n",
    "    def __init__(self):\n",
    "        self.__telephoneNumber = TelephoneNumber()\n",
    "    @property\n",
    "    def officeAreaCode(self):\n",
    "        return self.__telephoneNumber.areaCode\n",
    "    \n",
    "    @property\n",
    "    def officeNumber(self):\n",
    "        return self.__telephoneNumber.number\n",
    "    \n",
    "    @officeAreaCode.setter\n",
    "    def officeAreaCode(self, value):\n",
    "        self.__telephoneNumber = TelephoneNumber(value, self.officeNumber)\n",
    "        \n",
    "    @officeNumber.setter\n",
    "    def officeNumber(self, value):\n",
    "        self.__telephoneNumber = TelephoneNumber(self.officeAreaCode, value)\n",
    "    \n",
    "    @property\n",
    "    def telephoneNumber(self):\n",
    "        return self.__telephoneNumber\n",
    "    \n",
    "class TelephoneNumber:\n",
    "    def __init__(self, areacode=None, number=None):\n",
    "        self.__areaCode = areacode\n",
    "        self.__number = number\n",
    "        \n",
    "    @property\n",
    "    def areaCode(self):\n",
    "        return self.__areaCode\n",
    "    \n",
    "    @property\n",
    "    def number(self):\n",
    "        return self.__number\n",
    "    \n",
    "    @areaCode.setter\n",
    "    def areaCode(self, value):\n",
    "        self.__areaCode = value\n",
    "        \n",
    "    @number.setter\n",
    "    def number(self, value):\n",
    "        self.__number = value"
   ]
  },
  {
   "cell_type": "code",
   "execution_count": 35,
   "metadata": {},
   "outputs": [
    {
     "name": "stdout",
     "output_type": "stream",
     "text": [
      "<__main__.TelephoneNumber object at 0x000002207C4939E8>\n",
      "254\n",
      "<__main__.TelephoneNumber object at 0x000002207C45C1D0>\n"
     ]
    }
   ],
   "source": [
    "person = Person()\n",
    "print(person.telephoneNumber)\n",
    "person.officeAreaCode = '254'\n",
    "print(person.officeAreaCode)\n",
    "print(person.telephoneNumber)"
   ]
  },
  {
   "cell_type": "code",
   "execution_count": null,
   "metadata": {},
   "outputs": [],
   "source": []
  }
 ],
 "metadata": {
  "kernelspec": {
   "display_name": "Python 3",
   "language": "python",
   "name": "python3"
  },
  "language_info": {
   "codemirror_mode": {
    "name": "ipython",
    "version": 3
   },
   "file_extension": ".py",
   "mimetype": "text/x-python",
   "name": "python",
   "nbconvert_exporter": "python",
   "pygments_lexer": "ipython3",
   "version": "3.6.5"
  }
 },
 "nbformat": 4,
 "nbformat_minor": 2
}
