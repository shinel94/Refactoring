{
 "cells": [
  {
   "cell_type": "code",
   "execution_count": 2,
   "metadata": {},
   "outputs": [
    {
     "name": "stdout",
     "output_type": "stream",
     "text": [
      "82949720.49000001\n"
     ]
    }
   ],
   "source": [
    "def potentialEnergy(mass, height):\n",
    "    return mass * 9.81 * height\n",
    "\n",
    "print(potentialEnergy(8567,987))"
   ]
  },
  {
   "cell_type": "code",
   "execution_count": 10,
   "metadata": {},
   "outputs": [
    {
     "name": "stdout",
     "output_type": "stream",
     "text": [
      "82949720.49000001\n"
     ]
    }
   ],
   "source": [
    "def potentialEnergy(mass, height):\n",
    "    STANDARD_GRAVITY = 9.81\n",
    "    return (lambda mass, height : STANDARD_GRAVITY * mass * height)(mass, height)\n",
    "\n",
    "print(potentialEnergy(8567,987))"
   ]
  },
  {
   "cell_type": "markdown",
   "metadata": {},
   "source": [
    "### 매직 리터럴(magic literal)이란 소스 코드에 등장하는 일반적인 리터럴 값을 말한다. <br> 예를 들어 표준 중력가속도를 의미하는 9.81이 하나의 예시가 될 수 있다. 숫자 자체로는 의미를 표현하지 못하는 값이기 때문에 <br>  추후에 코드를 이해하는 과정에서 이해를 더욱 어렵게 만드는 주범이다.  <br>  따라서 의미를 표현할 수 있도록 값을 따로 변수에 담아서 관리하는 것이 추후에 코드를 이해하는데 도움이 될 수 있다. <br>  또한 비교 검사를 진행하는데 사용하는 매직 리터럴의 경우 상수로 바꾸어 관리하는것 이외에 <br> 추가로 비교 검사 함수를 통해서 관리하면 보다 직관적으로 코드를 관리할 수 있다.<br> 하지만 이와 반대로 값으로 전달하는 것이 더 좋거나 충분할때는 상수로 관리하는 것이 더 비효율 적일 수 있다."
   ]
  },
  {
   "cell_type": "markdown",
   "metadata": {},
   "source": [
    "## 절차\n",
    "\n",
    "### 1. 상수를 선언하고 매직 리터럴을 대입한다.<br>\n",
    "\n",
    "### 2. 해당 리터럴이 사용되는 곳을 모두 찾는다. <br>\n",
    "\n",
    "### 3. 찾은 곳 각각에서 리터럴이 새 상수와 똑같은 의미로 사용되고 있는지 확인하고, 같은 의미라면 상수로 대체한 훈 테스트 한다. <br>"
   ]
  },
  {
   "cell_type": "code",
   "execution_count": null,
   "metadata": {},
   "outputs": [],
   "source": []
  }
 ],
 "metadata": {
  "kernelspec": {
   "display_name": "Python 3",
   "language": "python",
   "name": "python3"
  },
  "language_info": {
   "codemirror_mode": {
    "name": "ipython",
    "version": 3
   },
   "file_extension": ".py",
   "mimetype": "text/x-python",
   "name": "python",
   "nbconvert_exporter": "python",
   "pygments_lexer": "ipython3",
   "version": "3.6.5"
  }
 },
 "nbformat": 4,
 "nbformat_minor": 2
}
