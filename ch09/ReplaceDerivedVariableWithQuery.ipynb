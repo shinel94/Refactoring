{
 "cells": [
  {
   "cell_type": "markdown",
   "metadata": {},
   "source": [
    "### 가변 데이터는 소프트웨어에 문제를 일으키는 가장 큰 골칫거리에 속한다. <br>  가변 데이터는 서로 다른 두 코드를 이상한 방식으로 결함하기도 하는데,  <br> 예를들어 한 쪽 코드에서 수정한 값이 연쇄 효과를 일으켜 다른 쪽 코드에 원인을 찾기 어려문 문제를 야기할 수 도 있다. <br>  그렇다고 가변 데이터를 완전히 없이 프로그래밍하는 것은 불가능에 가깝기 때문에, 가능한한 제어할 수 있는 범위내에서 변수의 유효범위를 제약해서 사용하여아 한다. <br>  좋은 방법중 하나는 값을 계산해낼 수 있는 변수들은 모두 질의 함수로 변경하여서 계산식 자체로 표현되도록 코드를 변경하면, 코드 의미도 보다 명확해 질 수 있다. <br> "
   ]
  },
  {
   "cell_type": "markdown",
   "metadata": {},
   "source": [
    "## 절차\n",
    "\n",
    "### 1. 변수 값이 갱신되는 지점을 모두 찾는다. 필요하다면 변수 쪼개기를 활용해 각 갱신 지점에서 변수를 분리한다.<br>\n",
    "\n",
    "### 2. 해당 변수의 값을 계산해주는 함수를 만든다. <br>\n",
    "\n",
    "### 3. 해당 변수가 사용되는 모든 곳에 어서션을 추가하여 함수의 계산 결과가 변수의 값과 같은지 확인하여 테스트한다. <br>\n",
    "\n",
    "### 4. 테스트한다.<br>\n",
    "\n",
    "### 5. 변수를 읽는 코드를 모두 함수 호출로 대체한다. <br>\n",
    "\n",
    "### 6. 테스트 한다.<br>\n",
    "\n",
    "### 7. 변수를 선언하고 갱신하는 코드를 죽은 코드 제거하기로 없앤다.<br>"
   ]
  },
  {
   "cell_type": "code",
   "execution_count": 5,
   "metadata": {},
   "outputs": [],
   "source": [
    "class ProductionPlan:\n",
    "    def __init__(self):\n",
    "        self.__adjustments = []\n",
    "        self.__production = 0\n",
    "    @property\n",
    "    def production(self):\n",
    "        return self.__production\n",
    "    \n",
    "    def applyAdjustment(self, anAdjustment):\n",
    "        self.__adjustments.append(anAdjustment)\n",
    "        self.__production += anAdjustment.amount"
   ]
  },
  {
   "cell_type": "code",
   "execution_count": 6,
   "metadata": {},
   "outputs": [],
   "source": [
    "class Adjustment:\n",
    "    def __init__(self, amount):\n",
    "        self.__amount = amount\n",
    "        \n",
    "    @property\n",
    "    def amount(self):\n",
    "        return self.__amount"
   ]
  },
  {
   "cell_type": "code",
   "execution_count": 8,
   "metadata": {},
   "outputs": [
    {
     "name": "stdout",
     "output_type": "stream",
     "text": [
      "70\n"
     ]
    }
   ],
   "source": [
    "productionplan = ProductionPlan()\n",
    "productionplan.applyAdjustment(Adjustment(10))\n",
    "productionplan.applyAdjustment(Adjustment(20))\n",
    "productionplan.applyAdjustment(Adjustment(30))\n",
    "productionplan.applyAdjustment(Adjustment(10))\n",
    "print(productionplan.production)"
   ]
  },
  {
   "cell_type": "code",
   "execution_count": 9,
   "metadata": {},
   "outputs": [],
   "source": [
    "class ProductionPlan:\n",
    "    def __init__(self):\n",
    "        self.__adjustments = []\n",
    "        self.__production = 0\n",
    "    @property\n",
    "    def production(self):\n",
    "        assert self.__production == self.calculateProduction\n",
    "        return self.__production\n",
    "    \n",
    "    @property\n",
    "    def calculateProduction(self):\n",
    "        return sum([x.amount for x in self.__adjustments])\n",
    "    \n",
    "    def applyAdjustment(self, anAdjustment):\n",
    "        self.__adjustments.append(anAdjustment)\n",
    "        self.__production += anAdjustment.amount"
   ]
  },
  {
   "cell_type": "code",
   "execution_count": 10,
   "metadata": {},
   "outputs": [
    {
     "name": "stdout",
     "output_type": "stream",
     "text": [
      "70\n"
     ]
    }
   ],
   "source": [
    "productionplan = ProductionPlan()\n",
    "productionplan.applyAdjustment(Adjustment(10))\n",
    "productionplan.applyAdjustment(Adjustment(20))\n",
    "productionplan.applyAdjustment(Adjustment(30))\n",
    "productionplan.applyAdjustment(Adjustment(10))\n",
    "print(productionplan.production)"
   ]
  },
  {
   "cell_type": "code",
   "execution_count": 11,
   "metadata": {},
   "outputs": [],
   "source": [
    "class ProductionPlan:\n",
    "    def __init__(self):\n",
    "        self.__adjustments = []\n",
    "        self.__production = 0\n",
    "    @property\n",
    "    def production(self):\n",
    "        \n",
    "        return self.calculateProduction\n",
    "    \n",
    "    @property\n",
    "    def calculateProduction(self):\n",
    "        return sum([x.amount for x in self.__adjustments])\n",
    "    \n",
    "    def applyAdjustment(self, anAdjustment):\n",
    "        self.__adjustments.append(anAdjustment)\n",
    "        self.__production += anAdjustment.amount"
   ]
  },
  {
   "cell_type": "code",
   "execution_count": 12,
   "metadata": {},
   "outputs": [
    {
     "name": "stdout",
     "output_type": "stream",
     "text": [
      "70\n"
     ]
    }
   ],
   "source": [
    "productionplan = ProductionPlan()\n",
    "productionplan.applyAdjustment(Adjustment(10))\n",
    "productionplan.applyAdjustment(Adjustment(20))\n",
    "productionplan.applyAdjustment(Adjustment(30))\n",
    "productionplan.applyAdjustment(Adjustment(10))\n",
    "print(productionplan.production)"
   ]
  },
  {
   "cell_type": "code",
   "execution_count": 15,
   "metadata": {},
   "outputs": [],
   "source": [
    "class ProductionPlan:\n",
    "    def __init__(self):\n",
    "        self.__adjustments = []\n",
    "        self.__production = 0\n",
    "    @property\n",
    "    def production(self):\n",
    "        return sum([x.amount for x in self.__adjustments])\n",
    "    \n",
    "    def applyAdjustment(self, anAdjustment):\n",
    "        self.__adjustments.append(anAdjustment)"
   ]
  },
  {
   "cell_type": "code",
   "execution_count": 16,
   "metadata": {},
   "outputs": [
    {
     "name": "stdout",
     "output_type": "stream",
     "text": [
      "70\n"
     ]
    }
   ],
   "source": [
    "productionplan = ProductionPlan()\n",
    "productionplan.applyAdjustment(Adjustment(10))\n",
    "productionplan.applyAdjustment(Adjustment(20))\n",
    "productionplan.applyAdjustment(Adjustment(30))\n",
    "productionplan.applyAdjustment(Adjustment(10))\n",
    "print(productionplan.production)"
   ]
  },
  {
   "cell_type": "code",
   "execution_count": 19,
   "metadata": {},
   "outputs": [],
   "source": [
    "class ProductionPlan:\n",
    "    def __init__(self, production):\n",
    "        self.__adjustments = []\n",
    "        self.__initial_production = production\n",
    "    @property\n",
    "    def production(self):\n",
    "        \n",
    "        return self.__initial_production + sum([x.amount for x in self.__adjustments])\n",
    "    \n",
    "    def applyAdjustment(self, anAdjustment):\n",
    "        self.__adjustments.append(anAdjustment)"
   ]
  },
  {
   "cell_type": "code",
   "execution_count": 20,
   "metadata": {
    "scrolled": true
   },
   "outputs": [
    {
     "name": "stdout",
     "output_type": "stream",
     "text": [
      "100\n"
     ]
    }
   ],
   "source": [
    "productionplan = ProductionPlan(30)\n",
    "productionplan.applyAdjustment(Adjustment(10))\n",
    "productionplan.applyAdjustment(Adjustment(20))\n",
    "productionplan.applyAdjustment(Adjustment(30))\n",
    "productionplan.applyAdjustment(Adjustment(10))\n",
    "print(productionplan.production)"
   ]
  },
  {
   "cell_type": "code",
   "execution_count": null,
   "metadata": {},
   "outputs": [],
   "source": []
  }
 ],
 "metadata": {
  "kernelspec": {
   "display_name": "Python 3",
   "language": "python",
   "name": "python3"
  },
  "language_info": {
   "codemirror_mode": {
    "name": "ipython",
    "version": 3
   },
   "file_extension": ".py",
   "mimetype": "text/x-python",
   "name": "python",
   "nbconvert_exporter": "python",
   "pygments_lexer": "ipython3",
   "version": "3.6.5"
  }
 },
 "nbformat": 4,
 "nbformat_minor": 2
}
