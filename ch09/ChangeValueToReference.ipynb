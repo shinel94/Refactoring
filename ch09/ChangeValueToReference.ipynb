{
 "cells": [
  {
   "cell_type": "markdown",
   "metadata": {},
   "source": [
    "### 하나의 데이터 구조 안에 논리적으로 똑같은 제 3의 데이터 구조를 참조하는 레코드가 여러 개있을 떄가 있다. <br> 예컨대 주문 목록을 읽다 보면 같은 고객이 요청한 주문이 여러 개 섞여 있을 수 있다. <br> 이때 고객을 값으로, 또는 참조로도 다룰 수 있다. <br>  값으로 다룬다면 고객 데이터가 각 주문에 복사되고, 참조로 다룬다면 여러 주문이 단 하나의 데이터 구조(고객)을 참조하게 된다. <br> 고객 데이터가 갱신될 일이 없다면 어떤 방식을 적용해도 마찬가지이지만,  <br>  같은 데이터가 여러번 복사해서 새롭게 생성되기는 하지만, 크게 문제는 되지 않는다. <br> 메모리의 문제는 요즘에는 크게 문제가 되지 않지만, 데이터를 갱신할 일이 생긴다면, 복제를 하는 경우는 큰 문제가 생긴다. <br> 모든 복제본을 찾아서 갱신하도록 코드가 수정되어야 해서, <br>  하나라도 놓치게 되면 데이터의 일관성이 없어지기 때문에, 주의가 필요하다. <br> 그럴때는 차라리 참조로 바꿔주면 한 곳에서만 갱신이 되어도, 모든 곳에서 같은 갱신이 적용된다. <br> 값을 참조로 바꾸면 엔티티(데이터 / 고객) 하나당 객체(인스턴스)도 단 하나만 존재하게 되므로, 보통 엔티티 참조를 전담해주는 저장소를 만들어서 클라이언트가 요청이 있을때마다, 키 값을 기준으로 객체 참조를 반환해주어도 된다."
   ]
  },
  {
   "cell_type": "markdown",
   "metadata": {},
   "source": [
    "## 절차\n",
    "\n",
    "### 1. 같은 부류에 속하는 객체들을 보관할 저장소를 만든다.<br>\n",
    "\n",
    "### 2. 생성자에서 이 부류의 객체들 중 특정 객체를 정확히 찾아내는 방법이 있는지 확인한다. (primary key를 설정) <br>\n",
    "\n",
    "### 3. 호스트 객체의 생성자들을 수정하여 필요한 객체를 이 저장소에서 찾아내도록 한다. 하나 수정할 때마다 테스트한다. <br>"
   ]
  },
  {
   "cell_type": "code",
   "execution_count": 16,
   "metadata": {},
   "outputs": [],
   "source": [
    "class Order:\n",
    "    def __init__(self, data):\n",
    "        self.__number = data.number\n",
    "        self.__customer = Customer(data.customer)\n",
    "    \n",
    "    @property\n",
    "    def customer(self):\n",
    "        return self.__customer\n",
    "    \n",
    "class Customer:\n",
    "    def __init__(self, id_):\n",
    "        self.__id = id_\n",
    "    \n",
    "    @property\n",
    "    def id(self):\n",
    "        return self.__id"
   ]
  },
  {
   "cell_type": "code",
   "execution_count": 17,
   "metadata": {},
   "outputs": [],
   "source": [
    "class Data:\n",
    "    def __init__(self, number, customer):\n",
    "        self.__number = number\n",
    "        self.__customer = customer\n",
    "    @property\n",
    "    def number(self):\n",
    "        return self.__number\n",
    "    \n",
    "    @property\n",
    "    def customer(self):\n",
    "        return self.__customer"
   ]
  },
  {
   "cell_type": "code",
   "execution_count": 19,
   "metadata": {},
   "outputs": [
    {
     "name": "stdout",
     "output_type": "stream",
     "text": [
      "123\n",
      "123\n"
     ]
    }
   ],
   "source": [
    "data = Data(10, 123)\n",
    "order = Order(data)\n",
    "print(order.customer.id)\n",
    "print(customer.id)"
   ]
  },
  {
   "cell_type": "code",
   "execution_count": 23,
   "metadata": {},
   "outputs": [],
   "source": [
    "class RepositoryCustomer:\n",
    "    def __init__(self):\n",
    "        self.__repositoryData = {}\n",
    "    \n",
    "    def __call__(self, ID):\n",
    "        try:\n",
    "            return self.__repositoryData[ID]\n",
    "        except KeyError:\n",
    "            print('ID가 등록되어 있지 않습니다. 새로 만듭니다.')\n",
    "            self.__repositoryData[ID] = Customer(ID)\n",
    "            return self.__repositoryData[ID]"
   ]
  },
  {
   "cell_type": "code",
   "execution_count": 24,
   "metadata": {},
   "outputs": [],
   "source": [
    "repository = RepositoryCustomer()"
   ]
  },
  {
   "cell_type": "code",
   "execution_count": 25,
   "metadata": {},
   "outputs": [
    {
     "name": "stdout",
     "output_type": "stream",
     "text": [
      "ID가 등록되어 있지 않습니다. 새로 만듭니다.\n"
     ]
    },
    {
     "data": {
      "text/plain": [
       "<__main__.Customer at 0x201774b2630>"
      ]
     },
     "execution_count": 25,
     "metadata": {},
     "output_type": "execute_result"
    }
   ],
   "source": [
    "repository(10)"
   ]
  },
  {
   "cell_type": "code",
   "execution_count": 26,
   "metadata": {},
   "outputs": [],
   "source": [
    "class Order:\n",
    "    def __init__(self, data):\n",
    "        self.__number = data.number\n",
    "        self.__customer = repository(data.customer)\n",
    "    \n",
    "    @property\n",
    "    def customer(self):\n",
    "        return self.__customer\n",
    "    "
   ]
  },
  {
   "cell_type": "code",
   "execution_count": 27,
   "metadata": {},
   "outputs": [
    {
     "name": "stdout",
     "output_type": "stream",
     "text": [
      "ID가 등록되어 있지 않습니다. 새로 만듭니다.\n"
     ]
    }
   ],
   "source": [
    "order = Order(data)"
   ]
  },
  {
   "cell_type": "code",
   "execution_count": 29,
   "metadata": {},
   "outputs": [
    {
     "data": {
      "text/plain": [
       "123"
      ]
     },
     "execution_count": 29,
     "metadata": {},
     "output_type": "execute_result"
    }
   ],
   "source": [
    "order.customer.id"
   ]
  },
  {
   "cell_type": "code",
   "execution_count": null,
   "metadata": {},
   "outputs": [],
   "source": []
  }
 ],
 "metadata": {
  "kernelspec": {
   "display_name": "Python 3",
   "language": "python",
   "name": "python3"
  },
  "language_info": {
   "codemirror_mode": {
    "name": "ipython",
    "version": 3
   },
   "file_extension": ".py",
   "mimetype": "text/x-python",
   "name": "python",
   "nbconvert_exporter": "python",
   "pygments_lexer": "ipython3",
   "version": "3.6.5"
  }
 },
 "nbformat": 4,
 "nbformat_minor": 2
}
